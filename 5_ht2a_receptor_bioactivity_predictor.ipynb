{
 "cells": [
  {
   "cell_type": "markdown",
   "metadata": {
    "id": "It1qle8P813S"
   },
   "source": [
    "# Prediction of bioactivity from chemical structure\n",
    "## Target: 5-HT2a  receptor"
   ]
  },
  {
   "cell_type": "code",
   "execution_count": 2,
   "metadata": {
    "execution": {
     "iopub.execute_input": "2022-03-25T00:56:07.863913Z",
     "iopub.status.busy": "2022-03-25T00:56:07.863575Z",
     "iopub.status.idle": "2022-03-25T00:56:07.868107Z",
     "shell.execute_reply": "2022-03-25T00:56:07.867379Z",
     "shell.execute_reply.started": "2022-03-25T00:56:07.863882Z"
    },
    "executionInfo": {
     "elapsed": 451,
     "status": "ok",
     "timestamp": 1651745847038,
     "user": {
      "displayName": "Konstantin KUTEYKIN TEPLYAKOV",
      "userId": "04703267818047594055"
     },
     "user_tz": -60
    },
    "id": "3NcrpHCR813d"
   },
   "outputs": [],
   "source": [
    "import pandas as pd\n",
    "import numpy as np\n",
    "import matplotlib.pyplot as plt"
   ]
  },
  {
   "cell_type": "code",
   "execution_count": 4,
   "metadata": {
    "colab": {
     "base_uri": "https://localhost:8080/"
    },
    "execution": {
     "iopub.execute_input": "2022-03-25T00:56:10.892883Z",
     "iopub.status.busy": "2022-03-25T00:56:10.892576Z",
     "iopub.status.idle": "2022-03-25T00:56:19.120277Z",
     "shell.execute_reply": "2022-03-25T00:56:19.119548Z",
     "shell.execute_reply.started": "2022-03-25T00:56:10.892838Z"
    },
    "executionInfo": {
     "elapsed": 6032,
     "status": "ok",
     "timestamp": 1651745880042,
     "user": {
      "displayName": "Konstantin KUTEYKIN TEPLYAKOV",
      "userId": "04703267818047594055"
     },
     "user_tz": -60
    },
    "id": "oVISccrvuu2Y",
    "outputId": "b22e3782-8ee5-4b73-857d-94800c2e8808"
   },
   "outputs": [
    {
     "name": "stdout",
     "output_type": "stream",
     "text": [
      "Collecting rdkit-pypi\n",
      "  Downloading rdkit_pypi-2022.3.2.1-cp37-cp37m-manylinux_2_17_x86_64.manylinux2014_x86_64.whl (22.7 MB)\n",
      "\u001b[K     |████████████████████████████████| 22.7 MB 1.5 MB/s \n",
      "\u001b[?25hRequirement already satisfied: Pillow in /usr/local/lib/python3.7/dist-packages (from rdkit-pypi) (7.1.2)\n",
      "Requirement already satisfied: numpy in /usr/local/lib/python3.7/dist-packages (from rdkit-pypi) (1.21.6)\n",
      "Installing collected packages: rdkit-pypi\n",
      "Successfully installed rdkit-pypi-2022.3.2.1\n"
     ]
    }
   ],
   "source": [
    "!pip install rdkit-pypi"
   ]
  },
  {
   "cell_type": "code",
   "execution_count": 5,
   "metadata": {
    "executionInfo": {
     "elapsed": 415,
     "status": "ok",
     "timestamp": 1651745946415,
     "user": {
      "displayName": "Konstantin KUTEYKIN TEPLYAKOV",
      "userId": "04703267818047594055"
     },
     "user_tz": -60
    },
    "id": "56QNo0Qzj29T"
   },
   "outputs": [],
   "source": [
    "from rdkit import Chem"
   ]
  },
  {
   "cell_type": "code",
   "execution_count": 6,
   "metadata": {
    "execution": {
     "iopub.execute_input": "2022-03-25T00:56:19.122157Z",
     "iopub.status.busy": "2022-03-25T00:56:19.121919Z",
     "iopub.status.idle": "2022-03-25T00:56:19.127734Z",
     "shell.execute_reply": "2022-03-25T00:56:19.127132Z",
     "shell.execute_reply.started": "2022-03-25T00:56:19.122129Z"
    },
    "executionInfo": {
     "elapsed": 9,
     "status": "ok",
     "timestamp": 1651745946866,
     "user": {
      "displayName": "Konstantin KUTEYKIN TEPLYAKOV",
      "userId": "04703267818047594055"
     },
     "user_tz": -60
    },
    "id": "G075686E813p"
   },
   "outputs": [],
   "source": [
    "pd.set_option('display.max_columns', None)\n",
    "pd.set_option('display.precision', 2)"
   ]
  },
  {
   "cell_type": "code",
   "execution_count": 7,
   "metadata": {
    "colab": {
     "base_uri": "https://localhost:8080/"
    },
    "execution": {
     "iopub.execute_input": "2022-03-25T00:56:19.128677Z",
     "iopub.status.busy": "2022-03-25T00:56:19.128446Z",
     "iopub.status.idle": "2022-03-25T00:56:19.376948Z",
     "shell.execute_reply": "2022-03-25T00:56:19.376100Z",
     "shell.execute_reply.started": "2022-03-25T00:56:19.128651Z"
    },
    "executionInfo": {
     "elapsed": 1075,
     "status": "ok",
     "timestamp": 1651745948478,
     "user": {
      "displayName": "Konstantin KUTEYKIN TEPLYAKOV",
      "userId": "04703267818047594055"
     },
     "user_tz": -60
    },
    "id": "a0014c66",
    "outputId": "0bead2aa-e616-432c-acab-e317b966c936"
   },
   "outputs": [
    {
     "name": "stderr",
     "output_type": "stream",
     "text": [
      "/usr/local/lib/python3.7/dist-packages/IPython/core/interactiveshell.py:2882: DtypeWarning: Columns (32,33) have mixed types.Specify dtype option on import or set low_memory=False.\n",
      "  exec(code_obj, self.user_global_ns, self.user_ns)\n"
     ]
    }
   ],
   "source": [
    "# Loading dataset (ChEMBL Bioactivity database, \"Target Name\" == SEROTONIN)\n",
    "df = pd.read_csv('/content/drive/MyDrive/Colab Notebooks/Drug_discovery_course/Bioactivity_predictor/ChEMBL_5HT2A.csv', sep=';')"
   ]
  },
  {
   "cell_type": "markdown",
   "metadata": {
    "id": "6mHgpkQP813w"
   },
   "source": [
    "## Exploring dataset"
   ]
  },
  {
   "cell_type": "code",
   "execution_count": 8,
   "metadata": {
    "colab": {
     "base_uri": "https://localhost:8080/",
     "height": 1000
    },
    "execution": {
     "iopub.execute_input": "2022-03-25T00:56:19.861644Z",
     "iopub.status.busy": "2022-03-25T00:56:19.861316Z",
     "iopub.status.idle": "2022-03-25T00:56:19.919403Z",
     "shell.execute_reply": "2022-03-25T00:56:19.918851Z",
     "shell.execute_reply.started": "2022-03-25T00:56:19.861598Z"
    },
    "executionInfo": {
     "elapsed": 37,
     "status": "ok",
     "timestamp": 1651745950298,
     "user": {
      "displayName": "Konstantin KUTEYKIN TEPLYAKOV",
      "userId": "04703267818047594055"
     },
     "user_tz": -60
    },
    "id": "3f951ffe",
    "outputId": "a94aa57c-5c22-4e7d-d973-7da38efbcbac"
   },
   "outputs": [
    {
     "data": {
      "text/html": [
       "\n",
       "  <div id=\"df-b07b9d3a-a150-4426-9a04-f30a48588d7b\">\n",
       "    <div class=\"colab-df-container\">\n",
       "      <div>\n",
       "<style scoped>\n",
       "    .dataframe tbody tr th:only-of-type {\n",
       "        vertical-align: middle;\n",
       "    }\n",
       "\n",
       "    .dataframe tbody tr th {\n",
       "        vertical-align: top;\n",
       "    }\n",
       "\n",
       "    .dataframe thead th {\n",
       "        text-align: right;\n",
       "    }\n",
       "</style>\n",
       "<table border=\"1\" class=\"dataframe\">\n",
       "  <thead>\n",
       "    <tr style=\"text-align: right;\">\n",
       "      <th></th>\n",
       "      <th>Molecule ChEMBL ID</th>\n",
       "      <th>Molecule Name</th>\n",
       "      <th>Molecule Max Phase</th>\n",
       "      <th>Molecular Weight</th>\n",
       "      <th>#RO5 Violations</th>\n",
       "      <th>AlogP</th>\n",
       "      <th>Compound Key</th>\n",
       "      <th>Smiles</th>\n",
       "      <th>Standard Type</th>\n",
       "      <th>Standard Relation</th>\n",
       "      <th>Standard Value</th>\n",
       "      <th>Standard Units</th>\n",
       "      <th>pChEMBL Value</th>\n",
       "      <th>Data Validity Comment</th>\n",
       "      <th>Comment</th>\n",
       "      <th>Uo Units</th>\n",
       "      <th>Ligand Efficiency BEI</th>\n",
       "      <th>Ligand Efficiency LE</th>\n",
       "      <th>Ligand Efficiency LLE</th>\n",
       "      <th>Ligand Efficiency SEI</th>\n",
       "      <th>Potential Duplicate</th>\n",
       "      <th>Assay ChEMBL ID</th>\n",
       "      <th>Assay Description</th>\n",
       "      <th>Assay Type</th>\n",
       "      <th>BAO Format ID</th>\n",
       "      <th>BAO Label</th>\n",
       "      <th>Assay Organism</th>\n",
       "      <th>Assay Tissue ChEMBL ID</th>\n",
       "      <th>Assay Tissue Name</th>\n",
       "      <th>Assay Cell Type</th>\n",
       "      <th>Assay Subcellular Fraction</th>\n",
       "      <th>Assay Parameters</th>\n",
       "      <th>Assay Variant Accession</th>\n",
       "      <th>Assay Variant Mutation</th>\n",
       "      <th>Target ChEMBL ID</th>\n",
       "      <th>Target Name</th>\n",
       "      <th>Target Organism</th>\n",
       "      <th>Target Type</th>\n",
       "      <th>Document ChEMBL ID</th>\n",
       "      <th>Source ID</th>\n",
       "      <th>Source Description</th>\n",
       "      <th>Document Journal</th>\n",
       "      <th>Document Year</th>\n",
       "      <th>Cell ChEMBL ID</th>\n",
       "      <th>Properties</th>\n",
       "    </tr>\n",
       "  </thead>\n",
       "  <tbody>\n",
       "    <tr>\n",
       "      <th>0</th>\n",
       "      <td>CHEMBL558551</td>\n",
       "      <td>NaN</td>\n",
       "      <td>0</td>\n",
       "      <td>258.23</td>\n",
       "      <td>0</td>\n",
       "      <td>0.09</td>\n",
       "      <td>(+)-THALIDOMIDE</td>\n",
       "      <td>O=C1CC[C@@H](N2C(=O)c3ccccc3C2=O)C(=O)N1</td>\n",
       "      <td>Ki</td>\n",
       "      <td>NaN</td>\n",
       "      <td>NaN</td>\n",
       "      <td>NaN</td>\n",
       "      <td>NaN</td>\n",
       "      <td>NaN</td>\n",
       "      <td>Not Active (inhibition &lt; 50% @ 10 uM and thus ...</td>\n",
       "      <td>NaN</td>\n",
       "      <td>NaN</td>\n",
       "      <td>NaN</td>\n",
       "      <td>NaN</td>\n",
       "      <td>NaN</td>\n",
       "      <td>False</td>\n",
       "      <td>CHEMBL1909211</td>\n",
       "      <td>DRUGMATRIX: Serotonin (5-Hydroxytryptamine) 5-...</td>\n",
       "      <td>B</td>\n",
       "      <td>BAO_0000249</td>\n",
       "      <td>cell membrane format</td>\n",
       "      <td>None</td>\n",
       "      <td>None</td>\n",
       "      <td>None</td>\n",
       "      <td>CHO-K1</td>\n",
       "      <td>Membrane</td>\n",
       "      <td>NaN</td>\n",
       "      <td>NaN</td>\n",
       "      <td>NaN</td>\n",
       "      <td>CHEMBL224</td>\n",
       "      <td>Serotonin 2a (5-HT2a) receptor</td>\n",
       "      <td>Homo sapiens</td>\n",
       "      <td>SINGLE PROTEIN</td>\n",
       "      <td>CHEMBL1909046</td>\n",
       "      <td>15</td>\n",
       "      <td>DrugMatrix</td>\n",
       "      <td>NaN</td>\n",
       "      <td>NaN</td>\n",
       "      <td>CHEMBL3307512</td>\n",
       "      <td>NaN</td>\n",
       "    </tr>\n",
       "    <tr>\n",
       "      <th>1</th>\n",
       "      <td>CHEMBL104</td>\n",
       "      <td>CLOTRIMAZOLE</td>\n",
       "      <td>4</td>\n",
       "      <td>344.85</td>\n",
       "      <td>1</td>\n",
       "      <td>5.38</td>\n",
       "      <td>CLOTRIMAZOLE</td>\n",
       "      <td>Clc1ccccc1C(c1ccccc1)(c1ccccc1)n1ccnc1</td>\n",
       "      <td>Ki</td>\n",
       "      <td>'='</td>\n",
       "      <td>3183.0</td>\n",
       "      <td>nM</td>\n",
       "      <td>5.50</td>\n",
       "      <td>NaN</td>\n",
       "      <td>NaN</td>\n",
       "      <td>UO_0000065</td>\n",
       "      <td>15.94</td>\n",
       "      <td>0.30</td>\n",
       "      <td>0.12</td>\n",
       "      <td>30.85</td>\n",
       "      <td>False</td>\n",
       "      <td>CHEMBL1909211</td>\n",
       "      <td>DRUGMATRIX: Serotonin (5-Hydroxytryptamine) 5-...</td>\n",
       "      <td>B</td>\n",
       "      <td>BAO_0000249</td>\n",
       "      <td>cell membrane format</td>\n",
       "      <td>None</td>\n",
       "      <td>None</td>\n",
       "      <td>None</td>\n",
       "      <td>CHO-K1</td>\n",
       "      <td>Membrane</td>\n",
       "      <td>NaN</td>\n",
       "      <td>NaN</td>\n",
       "      <td>NaN</td>\n",
       "      <td>CHEMBL224</td>\n",
       "      <td>Serotonin 2a (5-HT2a) receptor</td>\n",
       "      <td>Homo sapiens</td>\n",
       "      <td>SINGLE PROTEIN</td>\n",
       "      <td>CHEMBL1909046</td>\n",
       "      <td>15</td>\n",
       "      <td>DrugMatrix</td>\n",
       "      <td>NaN</td>\n",
       "      <td>NaN</td>\n",
       "      <td>CHEMBL3307512</td>\n",
       "      <td>NaN</td>\n",
       "    </tr>\n",
       "    <tr>\n",
       "      <th>2</th>\n",
       "      <td>CHEMBL4742201</td>\n",
       "      <td>NaN</td>\n",
       "      <td>0</td>\n",
       "      <td>323.40</td>\n",
       "      <td>0</td>\n",
       "      <td>2.49</td>\n",
       "      <td>11</td>\n",
       "      <td>CN(C)CCN1C(=O)c2ccccc2N(C)C(=O)c2ccccc21</td>\n",
       "      <td>Ki</td>\n",
       "      <td>'&gt;'</td>\n",
       "      <td>100000.0</td>\n",
       "      <td>nM</td>\n",
       "      <td>NaN</td>\n",
       "      <td>NaN</td>\n",
       "      <td>NaN</td>\n",
       "      <td>NaN</td>\n",
       "      <td>NaN</td>\n",
       "      <td>NaN</td>\n",
       "      <td>NaN</td>\n",
       "      <td>NaN</td>\n",
       "      <td>False</td>\n",
       "      <td>CHEMBL4669825</td>\n",
       "      <td>Binding affinity to 5HT2A receptor (unknown or...</td>\n",
       "      <td>B</td>\n",
       "      <td>BAO_0000357</td>\n",
       "      <td>single protein format</td>\n",
       "      <td>Homo sapiens</td>\n",
       "      <td>None</td>\n",
       "      <td>None</td>\n",
       "      <td>None</td>\n",
       "      <td>None</td>\n",
       "      <td>NaN</td>\n",
       "      <td>NaN</td>\n",
       "      <td>NaN</td>\n",
       "      <td>CHEMBL224</td>\n",
       "      <td>Serotonin 2a (5-HT2a) receptor</td>\n",
       "      <td>Homo sapiens</td>\n",
       "      <td>SINGLE PROTEIN</td>\n",
       "      <td>CHEMBL4665756</td>\n",
       "      <td>1</td>\n",
       "      <td>Scientific Literature</td>\n",
       "      <td>Bioorg Med Chem Lett</td>\n",
       "      <td>2020.0</td>\n",
       "      <td>None</td>\n",
       "      <td>NaN</td>\n",
       "    </tr>\n",
       "    <tr>\n",
       "      <th>3</th>\n",
       "      <td>CHEMBL411</td>\n",
       "      <td>DIETHYLSTILBESTROL</td>\n",
       "      <td>4</td>\n",
       "      <td>268.36</td>\n",
       "      <td>0</td>\n",
       "      <td>4.83</td>\n",
       "      <td>DIETHYLSTILBESTROL</td>\n",
       "      <td>CC/C(=C(/CC)c1ccc(O)cc1)c1ccc(O)cc1</td>\n",
       "      <td>Ki</td>\n",
       "      <td>'='</td>\n",
       "      <td>1369.0</td>\n",
       "      <td>nM</td>\n",
       "      <td>5.86</td>\n",
       "      <td>NaN</td>\n",
       "      <td>NaN</td>\n",
       "      <td>UO_0000065</td>\n",
       "      <td>21.85</td>\n",
       "      <td>0.40</td>\n",
       "      <td>1.03</td>\n",
       "      <td>14.49</td>\n",
       "      <td>False</td>\n",
       "      <td>CHEMBL1909211</td>\n",
       "      <td>DRUGMATRIX: Serotonin (5-Hydroxytryptamine) 5-...</td>\n",
       "      <td>B</td>\n",
       "      <td>BAO_0000249</td>\n",
       "      <td>cell membrane format</td>\n",
       "      <td>None</td>\n",
       "      <td>None</td>\n",
       "      <td>None</td>\n",
       "      <td>CHO-K1</td>\n",
       "      <td>Membrane</td>\n",
       "      <td>NaN</td>\n",
       "      <td>NaN</td>\n",
       "      <td>NaN</td>\n",
       "      <td>CHEMBL224</td>\n",
       "      <td>Serotonin 2a (5-HT2a) receptor</td>\n",
       "      <td>Homo sapiens</td>\n",
       "      <td>SINGLE PROTEIN</td>\n",
       "      <td>CHEMBL1909046</td>\n",
       "      <td>15</td>\n",
       "      <td>DrugMatrix</td>\n",
       "      <td>NaN</td>\n",
       "      <td>NaN</td>\n",
       "      <td>CHEMBL3307512</td>\n",
       "      <td>NaN</td>\n",
       "    </tr>\n",
       "    <tr>\n",
       "      <th>4</th>\n",
       "      <td>CHEMBL54126</td>\n",
       "      <td>NEOSTIGMINE BROMIDE</td>\n",
       "      <td>4</td>\n",
       "      <td>303.20</td>\n",
       "      <td>0</td>\n",
       "      <td>1.94</td>\n",
       "      <td>NEOSTIGMINE BROMIDE</td>\n",
       "      <td>CN(C)C(=O)Oc1cccc([N+](C)(C)C)c1.[Br-]</td>\n",
       "      <td>IC50</td>\n",
       "      <td>NaN</td>\n",
       "      <td>NaN</td>\n",
       "      <td>NaN</td>\n",
       "      <td>NaN</td>\n",
       "      <td>NaN</td>\n",
       "      <td>Not Active (inhibition &lt; 50% @ 10 uM and thus ...</td>\n",
       "      <td>NaN</td>\n",
       "      <td>NaN</td>\n",
       "      <td>NaN</td>\n",
       "      <td>NaN</td>\n",
       "      <td>NaN</td>\n",
       "      <td>False</td>\n",
       "      <td>CHEMBL1909211</td>\n",
       "      <td>DRUGMATRIX: Serotonin (5-Hydroxytryptamine) 5-...</td>\n",
       "      <td>B</td>\n",
       "      <td>BAO_0000249</td>\n",
       "      <td>cell membrane format</td>\n",
       "      <td>None</td>\n",
       "      <td>None</td>\n",
       "      <td>None</td>\n",
       "      <td>CHO-K1</td>\n",
       "      <td>Membrane</td>\n",
       "      <td>NaN</td>\n",
       "      <td>NaN</td>\n",
       "      <td>NaN</td>\n",
       "      <td>CHEMBL224</td>\n",
       "      <td>Serotonin 2a (5-HT2a) receptor</td>\n",
       "      <td>Homo sapiens</td>\n",
       "      <td>SINGLE PROTEIN</td>\n",
       "      <td>CHEMBL1909046</td>\n",
       "      <td>15</td>\n",
       "      <td>DrugMatrix</td>\n",
       "      <td>NaN</td>\n",
       "      <td>NaN</td>\n",
       "      <td>CHEMBL3307512</td>\n",
       "      <td>NaN</td>\n",
       "    </tr>\n",
       "    <tr>\n",
       "      <th>...</th>\n",
       "      <td>...</td>\n",
       "      <td>...</td>\n",
       "      <td>...</td>\n",
       "      <td>...</td>\n",
       "      <td>...</td>\n",
       "      <td>...</td>\n",
       "      <td>...</td>\n",
       "      <td>...</td>\n",
       "      <td>...</td>\n",
       "      <td>...</td>\n",
       "      <td>...</td>\n",
       "      <td>...</td>\n",
       "      <td>...</td>\n",
       "      <td>...</td>\n",
       "      <td>...</td>\n",
       "      <td>...</td>\n",
       "      <td>...</td>\n",
       "      <td>...</td>\n",
       "      <td>...</td>\n",
       "      <td>...</td>\n",
       "      <td>...</td>\n",
       "      <td>...</td>\n",
       "      <td>...</td>\n",
       "      <td>...</td>\n",
       "      <td>...</td>\n",
       "      <td>...</td>\n",
       "      <td>...</td>\n",
       "      <td>...</td>\n",
       "      <td>...</td>\n",
       "      <td>...</td>\n",
       "      <td>...</td>\n",
       "      <td>...</td>\n",
       "      <td>...</td>\n",
       "      <td>...</td>\n",
       "      <td>...</td>\n",
       "      <td>...</td>\n",
       "      <td>...</td>\n",
       "      <td>...</td>\n",
       "      <td>...</td>\n",
       "      <td>...</td>\n",
       "      <td>...</td>\n",
       "      <td>...</td>\n",
       "      <td>...</td>\n",
       "      <td>...</td>\n",
       "      <td>...</td>\n",
       "    </tr>\n",
       "    <tr>\n",
       "      <th>19328</th>\n",
       "      <td>CHEMBL683</td>\n",
       "      <td>CLOFIBRIC ACID</td>\n",
       "      <td>0</td>\n",
       "      <td>214.65</td>\n",
       "      <td>0</td>\n",
       "      <td>2.58</td>\n",
       "      <td>2</td>\n",
       "      <td>CC(C)(Oc1ccc(Cl)cc1)C(=O)O</td>\n",
       "      <td>Ki</td>\n",
       "      <td>NaN</td>\n",
       "      <td>NaN</td>\n",
       "      <td>NaN</td>\n",
       "      <td>NaN</td>\n",
       "      <td>NaN</td>\n",
       "      <td>Not Active (inhibition &lt; 50% @ 10 uM and thus ...</td>\n",
       "      <td>NaN</td>\n",
       "      <td>NaN</td>\n",
       "      <td>NaN</td>\n",
       "      <td>NaN</td>\n",
       "      <td>NaN</td>\n",
       "      <td>False</td>\n",
       "      <td>CHEMBL1909211</td>\n",
       "      <td>DRUGMATRIX: Serotonin (5-Hydroxytryptamine) 5-...</td>\n",
       "      <td>B</td>\n",
       "      <td>BAO_0000249</td>\n",
       "      <td>cell membrane format</td>\n",
       "      <td>None</td>\n",
       "      <td>None</td>\n",
       "      <td>None</td>\n",
       "      <td>CHO-K1</td>\n",
       "      <td>Membrane</td>\n",
       "      <td>NaN</td>\n",
       "      <td>NaN</td>\n",
       "      <td>NaN</td>\n",
       "      <td>CHEMBL224</td>\n",
       "      <td>Serotonin 2a (5-HT2a) receptor</td>\n",
       "      <td>Homo sapiens</td>\n",
       "      <td>SINGLE PROTEIN</td>\n",
       "      <td>CHEMBL1909046</td>\n",
       "      <td>15</td>\n",
       "      <td>DrugMatrix</td>\n",
       "      <td>NaN</td>\n",
       "      <td>NaN</td>\n",
       "      <td>CHEMBL3307512</td>\n",
       "      <td>NaN</td>\n",
       "    </tr>\n",
       "    <tr>\n",
       "      <th>19329</th>\n",
       "      <td>CHEMBL275854</td>\n",
       "      <td>NaN</td>\n",
       "      <td>0</td>\n",
       "      <td>190.25</td>\n",
       "      <td>0</td>\n",
       "      <td>1.76</td>\n",
       "      <td>29</td>\n",
       "      <td>CC(N)Cc1c[nH]c2ccc(O)cc12</td>\n",
       "      <td>Ki</td>\n",
       "      <td>'='</td>\n",
       "      <td>1.0</td>\n",
       "      <td>nM</td>\n",
       "      <td>9.00</td>\n",
       "      <td>NaN</td>\n",
       "      <td>NaN</td>\n",
       "      <td>UO_0000065</td>\n",
       "      <td>47.31</td>\n",
       "      <td>0.88</td>\n",
       "      <td>7.24</td>\n",
       "      <td>14.51</td>\n",
       "      <td>False</td>\n",
       "      <td>CHEMBL617920</td>\n",
       "      <td>In vitro inhibitory constant against [125I]DOI...</td>\n",
       "      <td>B</td>\n",
       "      <td>BAO_0000221</td>\n",
       "      <td>tissue-based format</td>\n",
       "      <td>Rattus norvegicus</td>\n",
       "      <td>CHEMBL3559724</td>\n",
       "      <td>Cerebral cortex</td>\n",
       "      <td>None</td>\n",
       "      <td>None</td>\n",
       "      <td>NaN</td>\n",
       "      <td>NaN</td>\n",
       "      <td>NaN</td>\n",
       "      <td>CHEMBL322</td>\n",
       "      <td>Serotonin 2a (5-HT2a) receptor</td>\n",
       "      <td>Rattus norvegicus</td>\n",
       "      <td>SINGLE PROTEIN</td>\n",
       "      <td>CHEMBL1145094</td>\n",
       "      <td>1</td>\n",
       "      <td>Scientific Literature</td>\n",
       "      <td>J. Med. Chem.</td>\n",
       "      <td>2003.0</td>\n",
       "      <td>None</td>\n",
       "      <td>NaN</td>\n",
       "    </tr>\n",
       "    <tr>\n",
       "      <th>19330</th>\n",
       "      <td>CHEMBL275854</td>\n",
       "      <td>NaN</td>\n",
       "      <td>0</td>\n",
       "      <td>190.25</td>\n",
       "      <td>0</td>\n",
       "      <td>1.76</td>\n",
       "      <td>29</td>\n",
       "      <td>CC(N)Cc1c[nH]c2ccc(O)cc12</td>\n",
       "      <td>Efficacy</td>\n",
       "      <td>'='</td>\n",
       "      <td>99.0</td>\n",
       "      <td>%</td>\n",
       "      <td>NaN</td>\n",
       "      <td>NaN</td>\n",
       "      <td>NaN</td>\n",
       "      <td>UO_0000187</td>\n",
       "      <td>NaN</td>\n",
       "      <td>NaN</td>\n",
       "      <td>NaN</td>\n",
       "      <td>NaN</td>\n",
       "      <td>False</td>\n",
       "      <td>CHEMBL617118</td>\n",
       "      <td>In vitro efficacy against rat 5-hydroxytryptam...</td>\n",
       "      <td>B</td>\n",
       "      <td>BAO_0000357</td>\n",
       "      <td>single protein format</td>\n",
       "      <td>None</td>\n",
       "      <td>None</td>\n",
       "      <td>None</td>\n",
       "      <td>None</td>\n",
       "      <td>None</td>\n",
       "      <td>NaN</td>\n",
       "      <td>NaN</td>\n",
       "      <td>NaN</td>\n",
       "      <td>CHEMBL322</td>\n",
       "      <td>Serotonin 2a (5-HT2a) receptor</td>\n",
       "      <td>Rattus norvegicus</td>\n",
       "      <td>SINGLE PROTEIN</td>\n",
       "      <td>CHEMBL1145094</td>\n",
       "      <td>1</td>\n",
       "      <td>Scientific Literature</td>\n",
       "      <td>J. Med. Chem.</td>\n",
       "      <td>2003.0</td>\n",
       "      <td>None</td>\n",
       "      <td>NaN</td>\n",
       "    </tr>\n",
       "    <tr>\n",
       "      <th>19331</th>\n",
       "      <td>CHEMBL275707</td>\n",
       "      <td>RIMCAZOLE</td>\n",
       "      <td>0</td>\n",
       "      <td>321.47</td>\n",
       "      <td>0</td>\n",
       "      <td>3.87</td>\n",
       "      <td>Rimcazole</td>\n",
       "      <td>C[C@H]1CN(CCCn2c3ccccc3c3ccccc32)C[C@@H](C)N1</td>\n",
       "      <td>Ki</td>\n",
       "      <td>'='</td>\n",
       "      <td>2482.0</td>\n",
       "      <td>nM</td>\n",
       "      <td>5.61</td>\n",
       "      <td>NaN</td>\n",
       "      <td>NaN</td>\n",
       "      <td>UO_0000065</td>\n",
       "      <td>17.44</td>\n",
       "      <td>0.32</td>\n",
       "      <td>1.74</td>\n",
       "      <td>27.75</td>\n",
       "      <td>False</td>\n",
       "      <td>CHEMBL617147</td>\n",
       "      <td>Binding affinity for serotonin 5-hydroxytrypta...</td>\n",
       "      <td>B</td>\n",
       "      <td>BAO_0000221</td>\n",
       "      <td>tissue-based format</td>\n",
       "      <td>Cavia porcellus</td>\n",
       "      <td>CHEMBL3638220</td>\n",
       "      <td>Frontal cortex</td>\n",
       "      <td>None</td>\n",
       "      <td>None</td>\n",
       "      <td>NaN</td>\n",
       "      <td>NaN</td>\n",
       "      <td>NaN</td>\n",
       "      <td>CHEMBL2095200</td>\n",
       "      <td>Serotonin 2 (5-HT2) receptor</td>\n",
       "      <td>Homo sapiens</td>\n",
       "      <td>PROTEIN FAMILY</td>\n",
       "      <td>CHEMBL1127316</td>\n",
       "      <td>1</td>\n",
       "      <td>Scientific Literature</td>\n",
       "      <td>J. Med. Chem.</td>\n",
       "      <td>1994.0</td>\n",
       "      <td>None</td>\n",
       "      <td>NaN</td>\n",
       "    </tr>\n",
       "    <tr>\n",
       "      <th>19332</th>\n",
       "      <td>CHEMBL42</td>\n",
       "      <td>CLOZAPINE</td>\n",
       "      <td>4</td>\n",
       "      <td>326.83</td>\n",
       "      <td>0</td>\n",
       "      <td>3.72</td>\n",
       "      <td>Clozapine</td>\n",
       "      <td>CN1CCN(C2=Nc3cc(Cl)ccc3Nc3ccccc32)CC1</td>\n",
       "      <td>IC50</td>\n",
       "      <td>'='</td>\n",
       "      <td>24.0</td>\n",
       "      <td>nM</td>\n",
       "      <td>7.62</td>\n",
       "      <td>NaN</td>\n",
       "      <td>NaN</td>\n",
       "      <td>UO_0000065</td>\n",
       "      <td>23.31</td>\n",
       "      <td>0.45</td>\n",
       "      <td>3.90</td>\n",
       "      <td>24.68</td>\n",
       "      <td>False</td>\n",
       "      <td>CHEMBL616490</td>\n",
       "      <td>Compound was evaluated In vitro for its activi...</td>\n",
       "      <td>B</td>\n",
       "      <td>BAO_0000221</td>\n",
       "      <td>tissue-based format</td>\n",
       "      <td>None</td>\n",
       "      <td>CHEMBL3638188</td>\n",
       "      <td>Brain</td>\n",
       "      <td>None</td>\n",
       "      <td>None</td>\n",
       "      <td>NaN</td>\n",
       "      <td>NaN</td>\n",
       "      <td>NaN</td>\n",
       "      <td>CHEMBL2093870</td>\n",
       "      <td>Serotonin 2 (5-HT2) receptor</td>\n",
       "      <td>Rattus norvegicus</td>\n",
       "      <td>PROTEIN FAMILY</td>\n",
       "      <td>CHEMBL1125261</td>\n",
       "      <td>1</td>\n",
       "      <td>Scientific Literature</td>\n",
       "      <td>J. Med. Chem.</td>\n",
       "      <td>1991.0</td>\n",
       "      <td>None</td>\n",
       "      <td>NaN</td>\n",
       "    </tr>\n",
       "  </tbody>\n",
       "</table>\n",
       "<p>19333 rows × 45 columns</p>\n",
       "</div>\n",
       "      <button class=\"colab-df-convert\" onclick=\"convertToInteractive('df-b07b9d3a-a150-4426-9a04-f30a48588d7b')\"\n",
       "              title=\"Convert this dataframe to an interactive table.\"\n",
       "              style=\"display:none;\">\n",
       "        \n",
       "  <svg xmlns=\"http://www.w3.org/2000/svg\" height=\"24px\"viewBox=\"0 0 24 24\"\n",
       "       width=\"24px\">\n",
       "    <path d=\"M0 0h24v24H0V0z\" fill=\"none\"/>\n",
       "    <path d=\"M18.56 5.44l.94 2.06.94-2.06 2.06-.94-2.06-.94-.94-2.06-.94 2.06-2.06.94zm-11 1L8.5 8.5l.94-2.06 2.06-.94-2.06-.94L8.5 2.5l-.94 2.06-2.06.94zm10 10l.94 2.06.94-2.06 2.06-.94-2.06-.94-.94-2.06-.94 2.06-2.06.94z\"/><path d=\"M17.41 7.96l-1.37-1.37c-.4-.4-.92-.59-1.43-.59-.52 0-1.04.2-1.43.59L10.3 9.45l-7.72 7.72c-.78.78-.78 2.05 0 2.83L4 21.41c.39.39.9.59 1.41.59.51 0 1.02-.2 1.41-.59l7.78-7.78 2.81-2.81c.8-.78.8-2.07 0-2.86zM5.41 20L4 18.59l7.72-7.72 1.47 1.35L5.41 20z\"/>\n",
       "  </svg>\n",
       "      </button>\n",
       "      \n",
       "  <style>\n",
       "    .colab-df-container {\n",
       "      display:flex;\n",
       "      flex-wrap:wrap;\n",
       "      gap: 12px;\n",
       "    }\n",
       "\n",
       "    .colab-df-convert {\n",
       "      background-color: #E8F0FE;\n",
       "      border: none;\n",
       "      border-radius: 50%;\n",
       "      cursor: pointer;\n",
       "      display: none;\n",
       "      fill: #1967D2;\n",
       "      height: 32px;\n",
       "      padding: 0 0 0 0;\n",
       "      width: 32px;\n",
       "    }\n",
       "\n",
       "    .colab-df-convert:hover {\n",
       "      background-color: #E2EBFA;\n",
       "      box-shadow: 0px 1px 2px rgba(60, 64, 67, 0.3), 0px 1px 3px 1px rgba(60, 64, 67, 0.15);\n",
       "      fill: #174EA6;\n",
       "    }\n",
       "\n",
       "    [theme=dark] .colab-df-convert {\n",
       "      background-color: #3B4455;\n",
       "      fill: #D2E3FC;\n",
       "    }\n",
       "\n",
       "    [theme=dark] .colab-df-convert:hover {\n",
       "      background-color: #434B5C;\n",
       "      box-shadow: 0px 1px 3px 1px rgba(0, 0, 0, 0.15);\n",
       "      filter: drop-shadow(0px 1px 2px rgba(0, 0, 0, 0.3));\n",
       "      fill: #FFFFFF;\n",
       "    }\n",
       "  </style>\n",
       "\n",
       "      <script>\n",
       "        const buttonEl =\n",
       "          document.querySelector('#df-b07b9d3a-a150-4426-9a04-f30a48588d7b button.colab-df-convert');\n",
       "        buttonEl.style.display =\n",
       "          google.colab.kernel.accessAllowed ? 'block' : 'none';\n",
       "\n",
       "        async function convertToInteractive(key) {\n",
       "          const element = document.querySelector('#df-b07b9d3a-a150-4426-9a04-f30a48588d7b');\n",
       "          const dataTable =\n",
       "            await google.colab.kernel.invokeFunction('convertToInteractive',\n",
       "                                                     [key], {});\n",
       "          if (!dataTable) return;\n",
       "\n",
       "          const docLinkHtml = 'Like what you see? Visit the ' +\n",
       "            '<a target=\"_blank\" href=https://colab.research.google.com/notebooks/data_table.ipynb>data table notebook</a>'\n",
       "            + ' to learn more about interactive tables.';\n",
       "          element.innerHTML = '';\n",
       "          dataTable['output_type'] = 'display_data';\n",
       "          await google.colab.output.renderOutput(dataTable, element);\n",
       "          const docLink = document.createElement('div');\n",
       "          docLink.innerHTML = docLinkHtml;\n",
       "          element.appendChild(docLink);\n",
       "        }\n",
       "      </script>\n",
       "    </div>\n",
       "  </div>\n",
       "  "
      ],
      "text/plain": [
       "      Molecule ChEMBL ID        Molecule Name  Molecule Max Phase  \\\n",
       "0           CHEMBL558551                  NaN                   0   \n",
       "1              CHEMBL104         CLOTRIMAZOLE                   4   \n",
       "2          CHEMBL4742201                  NaN                   0   \n",
       "3              CHEMBL411   DIETHYLSTILBESTROL                   4   \n",
       "4            CHEMBL54126  NEOSTIGMINE BROMIDE                   4   \n",
       "...                  ...                  ...                 ...   \n",
       "19328          CHEMBL683       CLOFIBRIC ACID                   0   \n",
       "19329       CHEMBL275854                  NaN                   0   \n",
       "19330       CHEMBL275854                  NaN                   0   \n",
       "19331       CHEMBL275707            RIMCAZOLE                   0   \n",
       "19332           CHEMBL42            CLOZAPINE                   4   \n",
       "\n",
       "      Molecular Weight #RO5 Violations AlogP         Compound Key  \\\n",
       "0               258.23               0  0.09      (+)-THALIDOMIDE   \n",
       "1               344.85               1  5.38         CLOTRIMAZOLE   \n",
       "2               323.40               0  2.49                   11   \n",
       "3               268.36               0  4.83   DIETHYLSTILBESTROL   \n",
       "4               303.20               0  1.94  NEOSTIGMINE BROMIDE   \n",
       "...                ...             ...   ...                  ...   \n",
       "19328           214.65               0  2.58                    2   \n",
       "19329           190.25               0  1.76                   29   \n",
       "19330           190.25               0  1.76                   29   \n",
       "19331           321.47               0  3.87            Rimcazole   \n",
       "19332           326.83               0  3.72            Clozapine   \n",
       "\n",
       "                                              Smiles Standard Type  \\\n",
       "0           O=C1CC[C@@H](N2C(=O)c3ccccc3C2=O)C(=O)N1            Ki   \n",
       "1             Clc1ccccc1C(c1ccccc1)(c1ccccc1)n1ccnc1            Ki   \n",
       "2           CN(C)CCN1C(=O)c2ccccc2N(C)C(=O)c2ccccc21            Ki   \n",
       "3                CC/C(=C(/CC)c1ccc(O)cc1)c1ccc(O)cc1            Ki   \n",
       "4             CN(C)C(=O)Oc1cccc([N+](C)(C)C)c1.[Br-]          IC50   \n",
       "...                                              ...           ...   \n",
       "19328                     CC(C)(Oc1ccc(Cl)cc1)C(=O)O            Ki   \n",
       "19329                      CC(N)Cc1c[nH]c2ccc(O)cc12            Ki   \n",
       "19330                      CC(N)Cc1c[nH]c2ccc(O)cc12      Efficacy   \n",
       "19331  C[C@H]1CN(CCCn2c3ccccc3c3ccccc32)C[C@@H](C)N1            Ki   \n",
       "19332          CN1CCN(C2=Nc3cc(Cl)ccc3Nc3ccccc32)CC1          IC50   \n",
       "\n",
       "      Standard Relation  Standard Value Standard Units  pChEMBL Value  \\\n",
       "0                   NaN             NaN            NaN            NaN   \n",
       "1                   '='          3183.0             nM           5.50   \n",
       "2                   '>'        100000.0             nM            NaN   \n",
       "3                   '='          1369.0             nM           5.86   \n",
       "4                   NaN             NaN            NaN            NaN   \n",
       "...                 ...             ...            ...            ...   \n",
       "19328               NaN             NaN            NaN            NaN   \n",
       "19329               '='             1.0             nM           9.00   \n",
       "19330               '='            99.0              %            NaN   \n",
       "19331               '='          2482.0             nM           5.61   \n",
       "19332               '='            24.0             nM           7.62   \n",
       "\n",
       "      Data Validity Comment  \\\n",
       "0                       NaN   \n",
       "1                       NaN   \n",
       "2                       NaN   \n",
       "3                       NaN   \n",
       "4                       NaN   \n",
       "...                     ...   \n",
       "19328                   NaN   \n",
       "19329                   NaN   \n",
       "19330                   NaN   \n",
       "19331                   NaN   \n",
       "19332                   NaN   \n",
       "\n",
       "                                                 Comment    Uo Units  \\\n",
       "0      Not Active (inhibition < 50% @ 10 uM and thus ...         NaN   \n",
       "1                                                    NaN  UO_0000065   \n",
       "2                                                    NaN         NaN   \n",
       "3                                                    NaN  UO_0000065   \n",
       "4      Not Active (inhibition < 50% @ 10 uM and thus ...         NaN   \n",
       "...                                                  ...         ...   \n",
       "19328  Not Active (inhibition < 50% @ 10 uM and thus ...         NaN   \n",
       "19329                                                NaN  UO_0000065   \n",
       "19330                                                NaN  UO_0000187   \n",
       "19331                                                NaN  UO_0000065   \n",
       "19332                                                NaN  UO_0000065   \n",
       "\n",
       "       Ligand Efficiency BEI Ligand Efficiency LE Ligand Efficiency LLE  \\\n",
       "0                        NaN                  NaN                   NaN   \n",
       "1                      15.94                 0.30                  0.12   \n",
       "2                        NaN                  NaN                   NaN   \n",
       "3                      21.85                 0.40                  1.03   \n",
       "4                        NaN                  NaN                   NaN   \n",
       "...                      ...                  ...                   ...   \n",
       "19328                    NaN                  NaN                   NaN   \n",
       "19329                  47.31                 0.88                  7.24   \n",
       "19330                    NaN                  NaN                   NaN   \n",
       "19331                  17.44                 0.32                  1.74   \n",
       "19332                  23.31                 0.45                  3.90   \n",
       "\n",
       "      Ligand Efficiency SEI  Potential Duplicate Assay ChEMBL ID  \\\n",
       "0                       NaN                False   CHEMBL1909211   \n",
       "1                     30.85                False   CHEMBL1909211   \n",
       "2                       NaN                False   CHEMBL4669825   \n",
       "3                     14.49                False   CHEMBL1909211   \n",
       "4                       NaN                False   CHEMBL1909211   \n",
       "...                     ...                  ...             ...   \n",
       "19328                   NaN                False   CHEMBL1909211   \n",
       "19329                 14.51                False    CHEMBL617920   \n",
       "19330                   NaN                False    CHEMBL617118   \n",
       "19331                 27.75                False    CHEMBL617147   \n",
       "19332                 24.68                False    CHEMBL616490   \n",
       "\n",
       "                                       Assay Description Assay Type  \\\n",
       "0      DRUGMATRIX: Serotonin (5-Hydroxytryptamine) 5-...          B   \n",
       "1      DRUGMATRIX: Serotonin (5-Hydroxytryptamine) 5-...          B   \n",
       "2      Binding affinity to 5HT2A receptor (unknown or...          B   \n",
       "3      DRUGMATRIX: Serotonin (5-Hydroxytryptamine) 5-...          B   \n",
       "4      DRUGMATRIX: Serotonin (5-Hydroxytryptamine) 5-...          B   \n",
       "...                                                  ...        ...   \n",
       "19328  DRUGMATRIX: Serotonin (5-Hydroxytryptamine) 5-...          B   \n",
       "19329  In vitro inhibitory constant against [125I]DOI...          B   \n",
       "19330  In vitro efficacy against rat 5-hydroxytryptam...          B   \n",
       "19331  Binding affinity for serotonin 5-hydroxytrypta...          B   \n",
       "19332  Compound was evaluated In vitro for its activi...          B   \n",
       "\n",
       "      BAO Format ID              BAO Label     Assay Organism  \\\n",
       "0       BAO_0000249   cell membrane format               None   \n",
       "1       BAO_0000249   cell membrane format               None   \n",
       "2       BAO_0000357  single protein format       Homo sapiens   \n",
       "3       BAO_0000249   cell membrane format               None   \n",
       "4       BAO_0000249   cell membrane format               None   \n",
       "...             ...                    ...                ...   \n",
       "19328   BAO_0000249   cell membrane format               None   \n",
       "19329   BAO_0000221    tissue-based format  Rattus norvegicus   \n",
       "19330   BAO_0000357  single protein format               None   \n",
       "19331   BAO_0000221    tissue-based format    Cavia porcellus   \n",
       "19332   BAO_0000221    tissue-based format               None   \n",
       "\n",
       "      Assay Tissue ChEMBL ID Assay Tissue Name Assay Cell Type  \\\n",
       "0                       None              None          CHO-K1   \n",
       "1                       None              None          CHO-K1   \n",
       "2                       None              None            None   \n",
       "3                       None              None          CHO-K1   \n",
       "4                       None              None          CHO-K1   \n",
       "...                      ...               ...             ...   \n",
       "19328                   None              None          CHO-K1   \n",
       "19329          CHEMBL3559724   Cerebral cortex            None   \n",
       "19330                   None              None            None   \n",
       "19331          CHEMBL3638220    Frontal cortex            None   \n",
       "19332          CHEMBL3638188             Brain            None   \n",
       "\n",
       "      Assay Subcellular Fraction Assay Parameters Assay Variant Accession  \\\n",
       "0                       Membrane              NaN                     NaN   \n",
       "1                       Membrane              NaN                     NaN   \n",
       "2                           None              NaN                     NaN   \n",
       "3                       Membrane              NaN                     NaN   \n",
       "4                       Membrane              NaN                     NaN   \n",
       "...                          ...              ...                     ...   \n",
       "19328                   Membrane              NaN                     NaN   \n",
       "19329                       None              NaN                     NaN   \n",
       "19330                       None              NaN                     NaN   \n",
       "19331                       None              NaN                     NaN   \n",
       "19332                       None              NaN                     NaN   \n",
       "\n",
       "      Assay Variant Mutation Target ChEMBL ID                     Target Name  \\\n",
       "0                        NaN        CHEMBL224  Serotonin 2a (5-HT2a) receptor   \n",
       "1                        NaN        CHEMBL224  Serotonin 2a (5-HT2a) receptor   \n",
       "2                        NaN        CHEMBL224  Serotonin 2a (5-HT2a) receptor   \n",
       "3                        NaN        CHEMBL224  Serotonin 2a (5-HT2a) receptor   \n",
       "4                        NaN        CHEMBL224  Serotonin 2a (5-HT2a) receptor   \n",
       "...                      ...              ...                             ...   \n",
       "19328                    NaN        CHEMBL224  Serotonin 2a (5-HT2a) receptor   \n",
       "19329                    NaN        CHEMBL322  Serotonin 2a (5-HT2a) receptor   \n",
       "19330                    NaN        CHEMBL322  Serotonin 2a (5-HT2a) receptor   \n",
       "19331                    NaN    CHEMBL2095200    Serotonin 2 (5-HT2) receptor   \n",
       "19332                    NaN    CHEMBL2093870    Serotonin 2 (5-HT2) receptor   \n",
       "\n",
       "         Target Organism     Target Type Document ChEMBL ID  Source ID  \\\n",
       "0           Homo sapiens  SINGLE PROTEIN      CHEMBL1909046         15   \n",
       "1           Homo sapiens  SINGLE PROTEIN      CHEMBL1909046         15   \n",
       "2           Homo sapiens  SINGLE PROTEIN      CHEMBL4665756          1   \n",
       "3           Homo sapiens  SINGLE PROTEIN      CHEMBL1909046         15   \n",
       "4           Homo sapiens  SINGLE PROTEIN      CHEMBL1909046         15   \n",
       "...                  ...             ...                ...        ...   \n",
       "19328       Homo sapiens  SINGLE PROTEIN      CHEMBL1909046         15   \n",
       "19329  Rattus norvegicus  SINGLE PROTEIN      CHEMBL1145094          1   \n",
       "19330  Rattus norvegicus  SINGLE PROTEIN      CHEMBL1145094          1   \n",
       "19331       Homo sapiens  PROTEIN FAMILY      CHEMBL1127316          1   \n",
       "19332  Rattus norvegicus  PROTEIN FAMILY      CHEMBL1125261          1   \n",
       "\n",
       "          Source Description      Document Journal  Document Year  \\\n",
       "0                 DrugMatrix                   NaN            NaN   \n",
       "1                 DrugMatrix                   NaN            NaN   \n",
       "2      Scientific Literature  Bioorg Med Chem Lett         2020.0   \n",
       "3                 DrugMatrix                   NaN            NaN   \n",
       "4                 DrugMatrix                   NaN            NaN   \n",
       "...                      ...                   ...            ...   \n",
       "19328             DrugMatrix                   NaN            NaN   \n",
       "19329  Scientific Literature         J. Med. Chem.         2003.0   \n",
       "19330  Scientific Literature         J. Med. Chem.         2003.0   \n",
       "19331  Scientific Literature         J. Med. Chem.         1994.0   \n",
       "19332  Scientific Literature         J. Med. Chem.         1991.0   \n",
       "\n",
       "      Cell ChEMBL ID Properties  \n",
       "0      CHEMBL3307512        NaN  \n",
       "1      CHEMBL3307512        NaN  \n",
       "2               None        NaN  \n",
       "3      CHEMBL3307512        NaN  \n",
       "4      CHEMBL3307512        NaN  \n",
       "...              ...        ...  \n",
       "19328  CHEMBL3307512        NaN  \n",
       "19329           None        NaN  \n",
       "19330           None        NaN  \n",
       "19331           None        NaN  \n",
       "19332           None        NaN  \n",
       "\n",
       "[19333 rows x 45 columns]"
      ]
     },
     "execution_count": 8,
     "metadata": {},
     "output_type": "execute_result"
    }
   ],
   "source": [
    "df"
   ]
  },
  {
   "cell_type": "code",
   "execution_count": 9,
   "metadata": {
    "colab": {
     "base_uri": "https://localhost:8080/",
     "height": 615
    },
    "execution": {
     "iopub.execute_input": "2022-03-25T00:56:22.621919Z",
     "iopub.status.busy": "2022-03-25T00:56:22.621619Z",
     "iopub.status.idle": "2022-03-25T00:56:22.879621Z",
     "shell.execute_reply": "2022-03-25T00:56:22.878916Z",
     "shell.execute_reply.started": "2022-03-25T00:56:22.621893Z"
    },
    "executionInfo": {
     "elapsed": 1210,
     "status": "ok",
     "timestamp": 1651745954774,
     "user": {
      "displayName": "Konstantin KUTEYKIN TEPLYAKOV",
      "userId": "04703267818047594055"
     },
     "user_tz": -60
    },
    "id": "05e4ad18",
    "outputId": "1deefddc-8a47-43fa-a71c-8754cb6857cc"
   },
   "outputs": [
    {
     "data": {
      "text/html": [
       "\n",
       "  <div id=\"df-013074eb-4f1f-4767-8d46-a54faf6c9d1d\">\n",
       "    <div class=\"colab-df-container\">\n",
       "      <div>\n",
       "<style scoped>\n",
       "    .dataframe tbody tr th:only-of-type {\n",
       "        vertical-align: middle;\n",
       "    }\n",
       "\n",
       "    .dataframe tbody tr th {\n",
       "        vertical-align: top;\n",
       "    }\n",
       "\n",
       "    .dataframe thead th {\n",
       "        text-align: right;\n",
       "    }\n",
       "</style>\n",
       "<table border=\"1\" class=\"dataframe\">\n",
       "  <thead>\n",
       "    <tr style=\"text-align: right;\">\n",
       "      <th></th>\n",
       "      <th>Molecule ChEMBL ID</th>\n",
       "      <th>Molecule Name</th>\n",
       "      <th>Molecule Max Phase</th>\n",
       "      <th>Molecular Weight</th>\n",
       "      <th>#RO5 Violations</th>\n",
       "      <th>AlogP</th>\n",
       "      <th>Compound Key</th>\n",
       "      <th>Smiles</th>\n",
       "      <th>Standard Type</th>\n",
       "      <th>Standard Relation</th>\n",
       "      <th>Standard Value</th>\n",
       "      <th>Standard Units</th>\n",
       "      <th>pChEMBL Value</th>\n",
       "      <th>Data Validity Comment</th>\n",
       "      <th>Comment</th>\n",
       "      <th>Uo Units</th>\n",
       "      <th>Ligand Efficiency BEI</th>\n",
       "      <th>Ligand Efficiency LE</th>\n",
       "      <th>Ligand Efficiency LLE</th>\n",
       "      <th>Ligand Efficiency SEI</th>\n",
       "      <th>Potential Duplicate</th>\n",
       "      <th>Assay ChEMBL ID</th>\n",
       "      <th>Assay Description</th>\n",
       "      <th>Assay Type</th>\n",
       "      <th>BAO Format ID</th>\n",
       "      <th>BAO Label</th>\n",
       "      <th>Assay Organism</th>\n",
       "      <th>Assay Tissue ChEMBL ID</th>\n",
       "      <th>Assay Tissue Name</th>\n",
       "      <th>Assay Cell Type</th>\n",
       "      <th>Assay Subcellular Fraction</th>\n",
       "      <th>Assay Parameters</th>\n",
       "      <th>Assay Variant Accession</th>\n",
       "      <th>Assay Variant Mutation</th>\n",
       "      <th>Target ChEMBL ID</th>\n",
       "      <th>Target Name</th>\n",
       "      <th>Target Organism</th>\n",
       "      <th>Target Type</th>\n",
       "      <th>Document ChEMBL ID</th>\n",
       "      <th>Source ID</th>\n",
       "      <th>Source Description</th>\n",
       "      <th>Document Journal</th>\n",
       "      <th>Document Year</th>\n",
       "      <th>Cell ChEMBL ID</th>\n",
       "      <th>Properties</th>\n",
       "    </tr>\n",
       "  </thead>\n",
       "  <tbody>\n",
       "    <tr>\n",
       "      <th>count</th>\n",
       "      <td>19333</td>\n",
       "      <td>3429</td>\n",
       "      <td>19333.00</td>\n",
       "      <td>19333</td>\n",
       "      <td>19333</td>\n",
       "      <td>19333</td>\n",
       "      <td>19333</td>\n",
       "      <td>19260</td>\n",
       "      <td>19333</td>\n",
       "      <td>16112</td>\n",
       "      <td>1.65e+04</td>\n",
       "      <td>15215</td>\n",
       "      <td>10793.00</td>\n",
       "      <td>161</td>\n",
       "      <td>4031</td>\n",
       "      <td>14271</td>\n",
       "      <td>9385.00</td>\n",
       "      <td>9385</td>\n",
       "      <td>9385</td>\n",
       "      <td>9385</td>\n",
       "      <td>19333</td>\n",
       "      <td>19333</td>\n",
       "      <td>19333</td>\n",
       "      <td>19333</td>\n",
       "      <td>19333</td>\n",
       "      <td>19333</td>\n",
       "      <td>19333</td>\n",
       "      <td>19333</td>\n",
       "      <td>19333</td>\n",
       "      <td>19333</td>\n",
       "      <td>19333</td>\n",
       "      <td>240</td>\n",
       "      <td>6</td>\n",
       "      <td>6</td>\n",
       "      <td>19333</td>\n",
       "      <td>19333</td>\n",
       "      <td>19333</td>\n",
       "      <td>19333</td>\n",
       "      <td>19333</td>\n",
       "      <td>19333.00</td>\n",
       "      <td>19333</td>\n",
       "      <td>16387</td>\n",
       "      <td>17353.00</td>\n",
       "      <td>19333</td>\n",
       "      <td>580</td>\n",
       "    </tr>\n",
       "    <tr>\n",
       "      <th>unique</th>\n",
       "      <td>12227</td>\n",
       "      <td>1265</td>\n",
       "      <td>NaN</td>\n",
       "      <td>5696</td>\n",
       "      <td>6</td>\n",
       "      <td>847</td>\n",
       "      <td>4666</td>\n",
       "      <td>12186</td>\n",
       "      <td>64</td>\n",
       "      <td>6</td>\n",
       "      <td>NaN</td>\n",
       "      <td>11</td>\n",
       "      <td>NaN</td>\n",
       "      <td>4</td>\n",
       "      <td>763</td>\n",
       "      <td>5</td>\n",
       "      <td>NaN</td>\n",
       "      <td>85</td>\n",
       "      <td>852</td>\n",
       "      <td>3149</td>\n",
       "      <td>2</td>\n",
       "      <td>1975</td>\n",
       "      <td>1713</td>\n",
       "      <td>4</td>\n",
       "      <td>9</td>\n",
       "      <td>9</td>\n",
       "      <td>11</td>\n",
       "      <td>25</td>\n",
       "      <td>25</td>\n",
       "      <td>31</td>\n",
       "      <td>7</td>\n",
       "      <td>15</td>\n",
       "      <td>1</td>\n",
       "      <td>1</td>\n",
       "      <td>17</td>\n",
       "      <td>9</td>\n",
       "      <td>7</td>\n",
       "      <td>4</td>\n",
       "      <td>1134</td>\n",
       "      <td>NaN</td>\n",
       "      <td>6</td>\n",
       "      <td>17</td>\n",
       "      <td>NaN</td>\n",
       "      <td>16</td>\n",
       "      <td>21</td>\n",
       "    </tr>\n",
       "    <tr>\n",
       "      <th>top</th>\n",
       "      <td>CHEMBL42</td>\n",
       "      <td>CLOZAPINE</td>\n",
       "      <td>NaN</td>\n",
       "      <td>326.83</td>\n",
       "      <td>0</td>\n",
       "      <td>None</td>\n",
       "      <td>9</td>\n",
       "      <td>CN1CCN(C2=Nc3cc(Cl)ccc3Nc3ccccc32)CC1</td>\n",
       "      <td>Ki</td>\n",
       "      <td>'='</td>\n",
       "      <td>NaN</td>\n",
       "      <td>nM</td>\n",
       "      <td>NaN</td>\n",
       "      <td>Outside typical range</td>\n",
       "      <td>Not Active (inhibition &lt; 50% @ 10 uM and thus ...</td>\n",
       "      <td>UO_0000065</td>\n",
       "      <td>NaN</td>\n",
       "      <td>0.33</td>\n",
       "      <td>None</td>\n",
       "      <td>None</td>\n",
       "      <td>False</td>\n",
       "      <td>CHEMBL1909211</td>\n",
       "      <td>DRUGMATRIX: Serotonin (5-Hydroxytryptamine) 5-...</td>\n",
       "      <td>B</td>\n",
       "      <td>BAO_0000219</td>\n",
       "      <td>cell-based format</td>\n",
       "      <td>Homo sapiens</td>\n",
       "      <td>None</td>\n",
       "      <td>None</td>\n",
       "      <td>None</td>\n",
       "      <td>None</td>\n",
       "      <td>Parental cells: HEKT | PMID: 16412547/ 2935410...</td>\n",
       "      <td>P28223</td>\n",
       "      <td>F340L</td>\n",
       "      <td>CHEMBL224</td>\n",
       "      <td>Serotonin 2a (5-HT2a) receptor</td>\n",
       "      <td>Homo sapiens</td>\n",
       "      <td>SINGLE PROTEIN</td>\n",
       "      <td>CHEMBL1909046</td>\n",
       "      <td>NaN</td>\n",
       "      <td>Scientific Literature</td>\n",
       "      <td>J. Med. Chem.</td>\n",
       "      <td>NaN</td>\n",
       "      <td>None</td>\n",
       "      <td>TIME = 1.0 hr</td>\n",
       "    </tr>\n",
       "    <tr>\n",
       "      <th>freq</th>\n",
       "      <td>118</td>\n",
       "      <td>118</td>\n",
       "      <td>NaN</td>\n",
       "      <td>140</td>\n",
       "      <td>16104</td>\n",
       "      <td>202</td>\n",
       "      <td>250</td>\n",
       "      <td>118</td>\n",
       "      <td>9395</td>\n",
       "      <td>14094</td>\n",
       "      <td>NaN</td>\n",
       "      <td>12850</td>\n",
       "      <td>NaN</td>\n",
       "      <td>109</td>\n",
       "      <td>1552</td>\n",
       "      <td>12405</td>\n",
       "      <td>NaN</td>\n",
       "      <td>424</td>\n",
       "      <td>55</td>\n",
       "      <td>56</td>\n",
       "      <td>18754</td>\n",
       "      <td>1742</td>\n",
       "      <td>1742</td>\n",
       "      <td>15736</td>\n",
       "      <td>6654</td>\n",
       "      <td>6654</td>\n",
       "      <td>8435</td>\n",
       "      <td>17238</td>\n",
       "      <td>17206</td>\n",
       "      <td>11856</td>\n",
       "      <td>17063</td>\n",
       "      <td>159</td>\n",
       "      <td>6</td>\n",
       "      <td>6</td>\n",
       "      <td>10983</td>\n",
       "      <td>15098</td>\n",
       "      <td>12192</td>\n",
       "      <td>15129</td>\n",
       "      <td>1742</td>\n",
       "      <td>NaN</td>\n",
       "      <td>16387</td>\n",
       "      <td>7533</td>\n",
       "      <td>NaN</td>\n",
       "      <td>13273</td>\n",
       "      <td>222</td>\n",
       "    </tr>\n",
       "    <tr>\n",
       "      <th>mean</th>\n",
       "      <td>NaN</td>\n",
       "      <td>NaN</td>\n",
       "      <td>0.46</td>\n",
       "      <td>NaN</td>\n",
       "      <td>NaN</td>\n",
       "      <td>NaN</td>\n",
       "      <td>NaN</td>\n",
       "      <td>NaN</td>\n",
       "      <td>NaN</td>\n",
       "      <td>NaN</td>\n",
       "      <td>9.56e+09</td>\n",
       "      <td>NaN</td>\n",
       "      <td>7.12</td>\n",
       "      <td>NaN</td>\n",
       "      <td>NaN</td>\n",
       "      <td>NaN</td>\n",
       "      <td>20.02</td>\n",
       "      <td>NaN</td>\n",
       "      <td>NaN</td>\n",
       "      <td>NaN</td>\n",
       "      <td>NaN</td>\n",
       "      <td>NaN</td>\n",
       "      <td>NaN</td>\n",
       "      <td>NaN</td>\n",
       "      <td>NaN</td>\n",
       "      <td>NaN</td>\n",
       "      <td>NaN</td>\n",
       "      <td>NaN</td>\n",
       "      <td>NaN</td>\n",
       "      <td>NaN</td>\n",
       "      <td>NaN</td>\n",
       "      <td>NaN</td>\n",
       "      <td>NaN</td>\n",
       "      <td>NaN</td>\n",
       "      <td>NaN</td>\n",
       "      <td>NaN</td>\n",
       "      <td>NaN</td>\n",
       "      <td>NaN</td>\n",
       "      <td>NaN</td>\n",
       "      <td>4.31</td>\n",
       "      <td>NaN</td>\n",
       "      <td>NaN</td>\n",
       "      <td>2006.51</td>\n",
       "      <td>NaN</td>\n",
       "      <td>NaN</td>\n",
       "    </tr>\n",
       "    <tr>\n",
       "      <th>std</th>\n",
       "      <td>NaN</td>\n",
       "      <td>NaN</td>\n",
       "      <td>1.25</td>\n",
       "      <td>NaN</td>\n",
       "      <td>NaN</td>\n",
       "      <td>NaN</td>\n",
       "      <td>NaN</td>\n",
       "      <td>NaN</td>\n",
       "      <td>NaN</td>\n",
       "      <td>NaN</td>\n",
       "      <td>7.17e+11</td>\n",
       "      <td>NaN</td>\n",
       "      <td>1.17</td>\n",
       "      <td>NaN</td>\n",
       "      <td>NaN</td>\n",
       "      <td>NaN</td>\n",
       "      <td>6.04</td>\n",
       "      <td>NaN</td>\n",
       "      <td>NaN</td>\n",
       "      <td>NaN</td>\n",
       "      <td>NaN</td>\n",
       "      <td>NaN</td>\n",
       "      <td>NaN</td>\n",
       "      <td>NaN</td>\n",
       "      <td>NaN</td>\n",
       "      <td>NaN</td>\n",
       "      <td>NaN</td>\n",
       "      <td>NaN</td>\n",
       "      <td>NaN</td>\n",
       "      <td>NaN</td>\n",
       "      <td>NaN</td>\n",
       "      <td>NaN</td>\n",
       "      <td>NaN</td>\n",
       "      <td>NaN</td>\n",
       "      <td>NaN</td>\n",
       "      <td>NaN</td>\n",
       "      <td>NaN</td>\n",
       "      <td>NaN</td>\n",
       "      <td>NaN</td>\n",
       "      <td>9.35</td>\n",
       "      <td>NaN</td>\n",
       "      <td>NaN</td>\n",
       "      <td>9.67</td>\n",
       "      <td>NaN</td>\n",
       "      <td>NaN</td>\n",
       "    </tr>\n",
       "    <tr>\n",
       "      <th>min</th>\n",
       "      <td>NaN</td>\n",
       "      <td>NaN</td>\n",
       "      <td>0.00</td>\n",
       "      <td>NaN</td>\n",
       "      <td>NaN</td>\n",
       "      <td>NaN</td>\n",
       "      <td>NaN</td>\n",
       "      <td>NaN</td>\n",
       "      <td>NaN</td>\n",
       "      <td>NaN</td>\n",
       "      <td>-9.70e+01</td>\n",
       "      <td>NaN</td>\n",
       "      <td>4.00</td>\n",
       "      <td>NaN</td>\n",
       "      <td>NaN</td>\n",
       "      <td>NaN</td>\n",
       "      <td>5.22</td>\n",
       "      <td>NaN</td>\n",
       "      <td>NaN</td>\n",
       "      <td>NaN</td>\n",
       "      <td>NaN</td>\n",
       "      <td>NaN</td>\n",
       "      <td>NaN</td>\n",
       "      <td>NaN</td>\n",
       "      <td>NaN</td>\n",
       "      <td>NaN</td>\n",
       "      <td>NaN</td>\n",
       "      <td>NaN</td>\n",
       "      <td>NaN</td>\n",
       "      <td>NaN</td>\n",
       "      <td>NaN</td>\n",
       "      <td>NaN</td>\n",
       "      <td>NaN</td>\n",
       "      <td>NaN</td>\n",
       "      <td>NaN</td>\n",
       "      <td>NaN</td>\n",
       "      <td>NaN</td>\n",
       "      <td>NaN</td>\n",
       "      <td>NaN</td>\n",
       "      <td>1.00</td>\n",
       "      <td>NaN</td>\n",
       "      <td>NaN</td>\n",
       "      <td>1977.00</td>\n",
       "      <td>NaN</td>\n",
       "      <td>NaN</td>\n",
       "    </tr>\n",
       "    <tr>\n",
       "      <th>25%</th>\n",
       "      <td>NaN</td>\n",
       "      <td>NaN</td>\n",
       "      <td>0.00</td>\n",
       "      <td>NaN</td>\n",
       "      <td>NaN</td>\n",
       "      <td>NaN</td>\n",
       "      <td>NaN</td>\n",
       "      <td>NaN</td>\n",
       "      <td>NaN</td>\n",
       "      <td>NaN</td>\n",
       "      <td>1.00e+01</td>\n",
       "      <td>NaN</td>\n",
       "      <td>6.24</td>\n",
       "      <td>NaN</td>\n",
       "      <td>NaN</td>\n",
       "      <td>NaN</td>\n",
       "      <td>15.70</td>\n",
       "      <td>NaN</td>\n",
       "      <td>NaN</td>\n",
       "      <td>NaN</td>\n",
       "      <td>NaN</td>\n",
       "      <td>NaN</td>\n",
       "      <td>NaN</td>\n",
       "      <td>NaN</td>\n",
       "      <td>NaN</td>\n",
       "      <td>NaN</td>\n",
       "      <td>NaN</td>\n",
       "      <td>NaN</td>\n",
       "      <td>NaN</td>\n",
       "      <td>NaN</td>\n",
       "      <td>NaN</td>\n",
       "      <td>NaN</td>\n",
       "      <td>NaN</td>\n",
       "      <td>NaN</td>\n",
       "      <td>NaN</td>\n",
       "      <td>NaN</td>\n",
       "      <td>NaN</td>\n",
       "      <td>NaN</td>\n",
       "      <td>NaN</td>\n",
       "      <td>1.00</td>\n",
       "      <td>NaN</td>\n",
       "      <td>NaN</td>\n",
       "      <td>1999.00</td>\n",
       "      <td>NaN</td>\n",
       "      <td>NaN</td>\n",
       "    </tr>\n",
       "    <tr>\n",
       "      <th>50%</th>\n",
       "      <td>NaN</td>\n",
       "      <td>NaN</td>\n",
       "      <td>0.00</td>\n",
       "      <td>NaN</td>\n",
       "      <td>NaN</td>\n",
       "      <td>NaN</td>\n",
       "      <td>NaN</td>\n",
       "      <td>NaN</td>\n",
       "      <td>NaN</td>\n",
       "      <td>NaN</td>\n",
       "      <td>7.50e+01</td>\n",
       "      <td>NaN</td>\n",
       "      <td>7.05</td>\n",
       "      <td>NaN</td>\n",
       "      <td>NaN</td>\n",
       "      <td>NaN</td>\n",
       "      <td>18.87</td>\n",
       "      <td>NaN</td>\n",
       "      <td>NaN</td>\n",
       "      <td>NaN</td>\n",
       "      <td>NaN</td>\n",
       "      <td>NaN</td>\n",
       "      <td>NaN</td>\n",
       "      <td>NaN</td>\n",
       "      <td>NaN</td>\n",
       "      <td>NaN</td>\n",
       "      <td>NaN</td>\n",
       "      <td>NaN</td>\n",
       "      <td>NaN</td>\n",
       "      <td>NaN</td>\n",
       "      <td>NaN</td>\n",
       "      <td>NaN</td>\n",
       "      <td>NaN</td>\n",
       "      <td>NaN</td>\n",
       "      <td>NaN</td>\n",
       "      <td>NaN</td>\n",
       "      <td>NaN</td>\n",
       "      <td>NaN</td>\n",
       "      <td>NaN</td>\n",
       "      <td>1.00</td>\n",
       "      <td>NaN</td>\n",
       "      <td>NaN</td>\n",
       "      <td>2008.00</td>\n",
       "      <td>NaN</td>\n",
       "      <td>NaN</td>\n",
       "    </tr>\n",
       "    <tr>\n",
       "      <th>75%</th>\n",
       "      <td>NaN</td>\n",
       "      <td>NaN</td>\n",
       "      <td>0.00</td>\n",
       "      <td>NaN</td>\n",
       "      <td>NaN</td>\n",
       "      <td>NaN</td>\n",
       "      <td>NaN</td>\n",
       "      <td>NaN</td>\n",
       "      <td>NaN</td>\n",
       "      <td>NaN</td>\n",
       "      <td>7.00e+02</td>\n",
       "      <td>NaN</td>\n",
       "      <td>7.96</td>\n",
       "      <td>NaN</td>\n",
       "      <td>NaN</td>\n",
       "      <td>NaN</td>\n",
       "      <td>23.22</td>\n",
       "      <td>NaN</td>\n",
       "      <td>NaN</td>\n",
       "      <td>NaN</td>\n",
       "      <td>NaN</td>\n",
       "      <td>NaN</td>\n",
       "      <td>NaN</td>\n",
       "      <td>NaN</td>\n",
       "      <td>NaN</td>\n",
       "      <td>NaN</td>\n",
       "      <td>NaN</td>\n",
       "      <td>NaN</td>\n",
       "      <td>NaN</td>\n",
       "      <td>NaN</td>\n",
       "      <td>NaN</td>\n",
       "      <td>NaN</td>\n",
       "      <td>NaN</td>\n",
       "      <td>NaN</td>\n",
       "      <td>NaN</td>\n",
       "      <td>NaN</td>\n",
       "      <td>NaN</td>\n",
       "      <td>NaN</td>\n",
       "      <td>NaN</td>\n",
       "      <td>1.00</td>\n",
       "      <td>NaN</td>\n",
       "      <td>NaN</td>\n",
       "      <td>2014.00</td>\n",
       "      <td>NaN</td>\n",
       "      <td>NaN</td>\n",
       "    </tr>\n",
       "    <tr>\n",
       "      <th>max</th>\n",
       "      <td>NaN</td>\n",
       "      <td>NaN</td>\n",
       "      <td>4.00</td>\n",
       "      <td>NaN</td>\n",
       "      <td>NaN</td>\n",
       "      <td>NaN</td>\n",
       "      <td>NaN</td>\n",
       "      <td>NaN</td>\n",
       "      <td>NaN</td>\n",
       "      <td>NaN</td>\n",
       "      <td>6.46e+13</td>\n",
       "      <td>NaN</td>\n",
       "      <td>11.00</td>\n",
       "      <td>NaN</td>\n",
       "      <td>NaN</td>\n",
       "      <td>NaN</td>\n",
       "      <td>54.04</td>\n",
       "      <td>NaN</td>\n",
       "      <td>NaN</td>\n",
       "      <td>NaN</td>\n",
       "      <td>NaN</td>\n",
       "      <td>NaN</td>\n",
       "      <td>NaN</td>\n",
       "      <td>NaN</td>\n",
       "      <td>NaN</td>\n",
       "      <td>NaN</td>\n",
       "      <td>NaN</td>\n",
       "      <td>NaN</td>\n",
       "      <td>NaN</td>\n",
       "      <td>NaN</td>\n",
       "      <td>NaN</td>\n",
       "      <td>NaN</td>\n",
       "      <td>NaN</td>\n",
       "      <td>NaN</td>\n",
       "      <td>NaN</td>\n",
       "      <td>NaN</td>\n",
       "      <td>NaN</td>\n",
       "      <td>NaN</td>\n",
       "      <td>NaN</td>\n",
       "      <td>54.00</td>\n",
       "      <td>NaN</td>\n",
       "      <td>NaN</td>\n",
       "      <td>2021.00</td>\n",
       "      <td>NaN</td>\n",
       "      <td>NaN</td>\n",
       "    </tr>\n",
       "  </tbody>\n",
       "</table>\n",
       "</div>\n",
       "      <button class=\"colab-df-convert\" onclick=\"convertToInteractive('df-013074eb-4f1f-4767-8d46-a54faf6c9d1d')\"\n",
       "              title=\"Convert this dataframe to an interactive table.\"\n",
       "              style=\"display:none;\">\n",
       "        \n",
       "  <svg xmlns=\"http://www.w3.org/2000/svg\" height=\"24px\"viewBox=\"0 0 24 24\"\n",
       "       width=\"24px\">\n",
       "    <path d=\"M0 0h24v24H0V0z\" fill=\"none\"/>\n",
       "    <path d=\"M18.56 5.44l.94 2.06.94-2.06 2.06-.94-2.06-.94-.94-2.06-.94 2.06-2.06.94zm-11 1L8.5 8.5l.94-2.06 2.06-.94-2.06-.94L8.5 2.5l-.94 2.06-2.06.94zm10 10l.94 2.06.94-2.06 2.06-.94-2.06-.94-.94-2.06-.94 2.06-2.06.94z\"/><path d=\"M17.41 7.96l-1.37-1.37c-.4-.4-.92-.59-1.43-.59-.52 0-1.04.2-1.43.59L10.3 9.45l-7.72 7.72c-.78.78-.78 2.05 0 2.83L4 21.41c.39.39.9.59 1.41.59.51 0 1.02-.2 1.41-.59l7.78-7.78 2.81-2.81c.8-.78.8-2.07 0-2.86zM5.41 20L4 18.59l7.72-7.72 1.47 1.35L5.41 20z\"/>\n",
       "  </svg>\n",
       "      </button>\n",
       "      \n",
       "  <style>\n",
       "    .colab-df-container {\n",
       "      display:flex;\n",
       "      flex-wrap:wrap;\n",
       "      gap: 12px;\n",
       "    }\n",
       "\n",
       "    .colab-df-convert {\n",
       "      background-color: #E8F0FE;\n",
       "      border: none;\n",
       "      border-radius: 50%;\n",
       "      cursor: pointer;\n",
       "      display: none;\n",
       "      fill: #1967D2;\n",
       "      height: 32px;\n",
       "      padding: 0 0 0 0;\n",
       "      width: 32px;\n",
       "    }\n",
       "\n",
       "    .colab-df-convert:hover {\n",
       "      background-color: #E2EBFA;\n",
       "      box-shadow: 0px 1px 2px rgba(60, 64, 67, 0.3), 0px 1px 3px 1px rgba(60, 64, 67, 0.15);\n",
       "      fill: #174EA6;\n",
       "    }\n",
       "\n",
       "    [theme=dark] .colab-df-convert {\n",
       "      background-color: #3B4455;\n",
       "      fill: #D2E3FC;\n",
       "    }\n",
       "\n",
       "    [theme=dark] .colab-df-convert:hover {\n",
       "      background-color: #434B5C;\n",
       "      box-shadow: 0px 1px 3px 1px rgba(0, 0, 0, 0.15);\n",
       "      filter: drop-shadow(0px 1px 2px rgba(0, 0, 0, 0.3));\n",
       "      fill: #FFFFFF;\n",
       "    }\n",
       "  </style>\n",
       "\n",
       "      <script>\n",
       "        const buttonEl =\n",
       "          document.querySelector('#df-013074eb-4f1f-4767-8d46-a54faf6c9d1d button.colab-df-convert');\n",
       "        buttonEl.style.display =\n",
       "          google.colab.kernel.accessAllowed ? 'block' : 'none';\n",
       "\n",
       "        async function convertToInteractive(key) {\n",
       "          const element = document.querySelector('#df-013074eb-4f1f-4767-8d46-a54faf6c9d1d');\n",
       "          const dataTable =\n",
       "            await google.colab.kernel.invokeFunction('convertToInteractive',\n",
       "                                                     [key], {});\n",
       "          if (!dataTable) return;\n",
       "\n",
       "          const docLinkHtml = 'Like what you see? Visit the ' +\n",
       "            '<a target=\"_blank\" href=https://colab.research.google.com/notebooks/data_table.ipynb>data table notebook</a>'\n",
       "            + ' to learn more about interactive tables.';\n",
       "          element.innerHTML = '';\n",
       "          dataTable['output_type'] = 'display_data';\n",
       "          await google.colab.output.renderOutput(dataTable, element);\n",
       "          const docLink = document.createElement('div');\n",
       "          docLink.innerHTML = docLinkHtml;\n",
       "          element.appendChild(docLink);\n",
       "        }\n",
       "      </script>\n",
       "    </div>\n",
       "  </div>\n",
       "  "
      ],
      "text/plain": [
       "       Molecule ChEMBL ID Molecule Name  Molecule Max Phase Molecular Weight  \\\n",
       "count               19333          3429            19333.00            19333   \n",
       "unique              12227          1265                 NaN             5696   \n",
       "top              CHEMBL42     CLOZAPINE                 NaN           326.83   \n",
       "freq                  118           118                 NaN              140   \n",
       "mean                  NaN           NaN                0.46              NaN   \n",
       "std                   NaN           NaN                1.25              NaN   \n",
       "min                   NaN           NaN                0.00              NaN   \n",
       "25%                   NaN           NaN                0.00              NaN   \n",
       "50%                   NaN           NaN                0.00              NaN   \n",
       "75%                   NaN           NaN                0.00              NaN   \n",
       "max                   NaN           NaN                4.00              NaN   \n",
       "\n",
       "       #RO5 Violations  AlogP Compound Key  \\\n",
       "count            19333  19333        19333   \n",
       "unique               6    847         4666   \n",
       "top                  0   None            9   \n",
       "freq             16104    202          250   \n",
       "mean               NaN    NaN          NaN   \n",
       "std                NaN    NaN          NaN   \n",
       "min                NaN    NaN          NaN   \n",
       "25%                NaN    NaN          NaN   \n",
       "50%                NaN    NaN          NaN   \n",
       "75%                NaN    NaN          NaN   \n",
       "max                NaN    NaN          NaN   \n",
       "\n",
       "                                       Smiles Standard Type Standard Relation  \\\n",
       "count                                   19260         19333             16112   \n",
       "unique                                  12186            64                 6   \n",
       "top     CN1CCN(C2=Nc3cc(Cl)ccc3Nc3ccccc32)CC1            Ki               '='   \n",
       "freq                                      118          9395             14094   \n",
       "mean                                      NaN           NaN               NaN   \n",
       "std                                       NaN           NaN               NaN   \n",
       "min                                       NaN           NaN               NaN   \n",
       "25%                                       NaN           NaN               NaN   \n",
       "50%                                       NaN           NaN               NaN   \n",
       "75%                                       NaN           NaN               NaN   \n",
       "max                                       NaN           NaN               NaN   \n",
       "\n",
       "        Standard Value Standard Units  pChEMBL Value  Data Validity Comment  \\\n",
       "count         1.65e+04          15215       10793.00                    161   \n",
       "unique             NaN             11            NaN                      4   \n",
       "top                NaN             nM            NaN  Outside typical range   \n",
       "freq               NaN          12850            NaN                    109   \n",
       "mean          9.56e+09            NaN           7.12                    NaN   \n",
       "std           7.17e+11            NaN           1.17                    NaN   \n",
       "min          -9.70e+01            NaN           4.00                    NaN   \n",
       "25%           1.00e+01            NaN           6.24                    NaN   \n",
       "50%           7.50e+01            NaN           7.05                    NaN   \n",
       "75%           7.00e+02            NaN           7.96                    NaN   \n",
       "max           6.46e+13            NaN          11.00                    NaN   \n",
       "\n",
       "                                                  Comment    Uo Units  \\\n",
       "count                                                4031       14271   \n",
       "unique                                                763           5   \n",
       "top     Not Active (inhibition < 50% @ 10 uM and thus ...  UO_0000065   \n",
       "freq                                                 1552       12405   \n",
       "mean                                                  NaN         NaN   \n",
       "std                                                   NaN         NaN   \n",
       "min                                                   NaN         NaN   \n",
       "25%                                                   NaN         NaN   \n",
       "50%                                                   NaN         NaN   \n",
       "75%                                                   NaN         NaN   \n",
       "max                                                   NaN         NaN   \n",
       "\n",
       "        Ligand Efficiency BEI Ligand Efficiency LE Ligand Efficiency LLE  \\\n",
       "count                 9385.00                 9385                  9385   \n",
       "unique                    NaN                   85                   852   \n",
       "top                       NaN                 0.33                  None   \n",
       "freq                      NaN                  424                    55   \n",
       "mean                    20.02                  NaN                   NaN   \n",
       "std                      6.04                  NaN                   NaN   \n",
       "min                      5.22                  NaN                   NaN   \n",
       "25%                     15.70                  NaN                   NaN   \n",
       "50%                     18.87                  NaN                   NaN   \n",
       "75%                     23.22                  NaN                   NaN   \n",
       "max                     54.04                  NaN                   NaN   \n",
       "\n",
       "       Ligand Efficiency SEI Potential Duplicate Assay ChEMBL ID  \\\n",
       "count                   9385               19333           19333   \n",
       "unique                  3149                   2            1975   \n",
       "top                     None               False   CHEMBL1909211   \n",
       "freq                      56               18754            1742   \n",
       "mean                     NaN                 NaN             NaN   \n",
       "std                      NaN                 NaN             NaN   \n",
       "min                      NaN                 NaN             NaN   \n",
       "25%                      NaN                 NaN             NaN   \n",
       "50%                      NaN                 NaN             NaN   \n",
       "75%                      NaN                 NaN             NaN   \n",
       "max                      NaN                 NaN             NaN   \n",
       "\n",
       "                                        Assay Description Assay Type  \\\n",
       "count                                               19333      19333   \n",
       "unique                                               1713          4   \n",
       "top     DRUGMATRIX: Serotonin (5-Hydroxytryptamine) 5-...          B   \n",
       "freq                                                 1742      15736   \n",
       "mean                                                  NaN        NaN   \n",
       "std                                                   NaN        NaN   \n",
       "min                                                   NaN        NaN   \n",
       "25%                                                   NaN        NaN   \n",
       "50%                                                   NaN        NaN   \n",
       "75%                                                   NaN        NaN   \n",
       "max                                                   NaN        NaN   \n",
       "\n",
       "       BAO Format ID          BAO Label Assay Organism Assay Tissue ChEMBL ID  \\\n",
       "count          19333              19333          19333                  19333   \n",
       "unique             9                  9             11                     25   \n",
       "top      BAO_0000219  cell-based format   Homo sapiens                   None   \n",
       "freq            6654               6654           8435                  17238   \n",
       "mean             NaN                NaN            NaN                    NaN   \n",
       "std              NaN                NaN            NaN                    NaN   \n",
       "min              NaN                NaN            NaN                    NaN   \n",
       "25%              NaN                NaN            NaN                    NaN   \n",
       "50%              NaN                NaN            NaN                    NaN   \n",
       "75%              NaN                NaN            NaN                    NaN   \n",
       "max              NaN                NaN            NaN                    NaN   \n",
       "\n",
       "       Assay Tissue Name Assay Cell Type Assay Subcellular Fraction  \\\n",
       "count              19333           19333                      19333   \n",
       "unique                25              31                          7   \n",
       "top                 None            None                       None   \n",
       "freq               17206           11856                      17063   \n",
       "mean                 NaN             NaN                        NaN   \n",
       "std                  NaN             NaN                        NaN   \n",
       "min                  NaN             NaN                        NaN   \n",
       "25%                  NaN             NaN                        NaN   \n",
       "50%                  NaN             NaN                        NaN   \n",
       "75%                  NaN             NaN                        NaN   \n",
       "max                  NaN             NaN                        NaN   \n",
       "\n",
       "                                         Assay Parameters  \\\n",
       "count                                                 240   \n",
       "unique                                                 15   \n",
       "top     Parental cells: HEKT | PMID: 16412547/ 2935410...   \n",
       "freq                                                  159   \n",
       "mean                                                  NaN   \n",
       "std                                                   NaN   \n",
       "min                                                   NaN   \n",
       "25%                                                   NaN   \n",
       "50%                                                   NaN   \n",
       "75%                                                   NaN   \n",
       "max                                                   NaN   \n",
       "\n",
       "       Assay Variant Accession Assay Variant Mutation Target ChEMBL ID  \\\n",
       "count                        6                      6            19333   \n",
       "unique                       1                      1               17   \n",
       "top                     P28223                  F340L        CHEMBL224   \n",
       "freq                         6                      6            10983   \n",
       "mean                       NaN                    NaN              NaN   \n",
       "std                        NaN                    NaN              NaN   \n",
       "min                        NaN                    NaN              NaN   \n",
       "25%                        NaN                    NaN              NaN   \n",
       "50%                        NaN                    NaN              NaN   \n",
       "75%                        NaN                    NaN              NaN   \n",
       "max                        NaN                    NaN              NaN   \n",
       "\n",
       "                           Target Name Target Organism     Target Type  \\\n",
       "count                            19333           19333           19333   \n",
       "unique                               9               7               4   \n",
       "top     Serotonin 2a (5-HT2a) receptor    Homo sapiens  SINGLE PROTEIN   \n",
       "freq                             15098           12192           15129   \n",
       "mean                               NaN             NaN             NaN   \n",
       "std                                NaN             NaN             NaN   \n",
       "min                                NaN             NaN             NaN   \n",
       "25%                                NaN             NaN             NaN   \n",
       "50%                                NaN             NaN             NaN   \n",
       "75%                                NaN             NaN             NaN   \n",
       "max                                NaN             NaN             NaN   \n",
       "\n",
       "       Document ChEMBL ID  Source ID     Source Description Document Journal  \\\n",
       "count               19333   19333.00                  19333            16387   \n",
       "unique               1134        NaN                      6               17   \n",
       "top         CHEMBL1909046        NaN  Scientific Literature    J. Med. Chem.   \n",
       "freq                 1742        NaN                  16387             7533   \n",
       "mean                  NaN       4.31                    NaN              NaN   \n",
       "std                   NaN       9.35                    NaN              NaN   \n",
       "min                   NaN       1.00                    NaN              NaN   \n",
       "25%                   NaN       1.00                    NaN              NaN   \n",
       "50%                   NaN       1.00                    NaN              NaN   \n",
       "75%                   NaN       1.00                    NaN              NaN   \n",
       "max                   NaN      54.00                    NaN              NaN   \n",
       "\n",
       "        Document Year Cell ChEMBL ID     Properties  \n",
       "count        17353.00          19333            580  \n",
       "unique            NaN             16             21  \n",
       "top               NaN           None  TIME = 1.0 hr  \n",
       "freq              NaN          13273            222  \n",
       "mean          2006.51            NaN            NaN  \n",
       "std              9.67            NaN            NaN  \n",
       "min           1977.00            NaN            NaN  \n",
       "25%           1999.00            NaN            NaN  \n",
       "50%           2008.00            NaN            NaN  \n",
       "75%           2014.00            NaN            NaN  \n",
       "max           2021.00            NaN            NaN  "
      ]
     },
     "execution_count": 9,
     "metadata": {},
     "output_type": "execute_result"
    }
   ],
   "source": [
    "df.describe(include='all')"
   ]
  },
  {
   "cell_type": "code",
   "execution_count": 10,
   "metadata": {
    "colab": {
     "base_uri": "https://localhost:8080/"
    },
    "execution": {
     "iopub.execute_input": "2022-03-25T00:56:25.412678Z",
     "iopub.status.busy": "2022-03-25T00:56:25.412296Z",
     "iopub.status.idle": "2022-03-25T00:56:25.421047Z",
     "shell.execute_reply": "2022-03-25T00:56:25.420220Z",
     "shell.execute_reply.started": "2022-03-25T00:56:25.412646Z"
    },
    "executionInfo": {
     "elapsed": 13,
     "status": "ok",
     "timestamp": 1651745956006,
     "user": {
      "displayName": "Konstantin KUTEYKIN TEPLYAKOV",
      "userId": "04703267818047594055"
     },
     "user_tz": -60
    },
    "id": "09dbd8d0",
    "outputId": "9133312b-3059-45e3-bcd3-6c46e593cd89"
   },
   "outputs": [
    {
     "data": {
      "text/plain": [
       "Molecule ChEMBL ID             object\n",
       "Molecule Name                  object\n",
       "Molecule Max Phase              int64\n",
       "Molecular Weight               object\n",
       "#RO5 Violations                object\n",
       "AlogP                          object\n",
       "Compound Key                   object\n",
       "Smiles                         object\n",
       "Standard Type                  object\n",
       "Standard Relation              object\n",
       "Standard Value                float64\n",
       "Standard Units                 object\n",
       "pChEMBL Value                 float64\n",
       "Data Validity Comment          object\n",
       "Comment                        object\n",
       "Uo Units                       object\n",
       "Ligand Efficiency BEI         float64\n",
       "Ligand Efficiency LE           object\n",
       "Ligand Efficiency LLE          object\n",
       "Ligand Efficiency SEI          object\n",
       "Potential Duplicate              bool\n",
       "Assay ChEMBL ID                object\n",
       "Assay Description              object\n",
       "Assay Type                     object\n",
       "BAO Format ID                  object\n",
       "BAO Label                      object\n",
       "Assay Organism                 object\n",
       "Assay Tissue ChEMBL ID         object\n",
       "Assay Tissue Name              object\n",
       "Assay Cell Type                object\n",
       "Assay Subcellular Fraction     object\n",
       "Assay Parameters               object\n",
       "Assay Variant Accession        object\n",
       "Assay Variant Mutation         object\n",
       "Target ChEMBL ID               object\n",
       "Target Name                    object\n",
       "Target Organism                object\n",
       "Target Type                    object\n",
       "Document ChEMBL ID             object\n",
       "Source ID                       int64\n",
       "Source Description             object\n",
       "Document Journal               object\n",
       "Document Year                 float64\n",
       "Cell ChEMBL ID                 object\n",
       "Properties                     object\n",
       "dtype: object"
      ]
     },
     "execution_count": 10,
     "metadata": {},
     "output_type": "execute_result"
    }
   ],
   "source": [
    "df.dtypes"
   ]
  },
  {
   "cell_type": "code",
   "execution_count": 11,
   "metadata": {
    "colab": {
     "base_uri": "https://localhost:8080/"
    },
    "executionInfo": {
     "elapsed": 8,
     "status": "ok",
     "timestamp": 1651745957151,
     "user": {
      "displayName": "Konstantin KUTEYKIN TEPLYAKOV",
      "userId": "04703267818047594055"
     },
     "user_tz": -60
    },
    "id": "kpdGlJ51814D",
    "outputId": "ea7997d0-70cc-4d1d-d541-b8df89fd79a1"
   },
   "outputs": [
    {
     "data": {
      "text/plain": [
       "Molecule ChEMBL ID                0\n",
       "Molecule Name                 15904\n",
       "Molecule Max Phase                0\n",
       "Molecular Weight                  0\n",
       "#RO5 Violations                   0\n",
       "AlogP                             0\n",
       "Compound Key                      0\n",
       "Smiles                           73\n",
       "Standard Type                     0\n",
       "Standard Relation              3221\n",
       "Standard Value                 2790\n",
       "Standard Units                 4118\n",
       "pChEMBL Value                  8540\n",
       "Data Validity Comment         19172\n",
       "Comment                       15302\n",
       "Uo Units                       5062\n",
       "Ligand Efficiency BEI          9948\n",
       "Ligand Efficiency LE           9948\n",
       "Ligand Efficiency LLE          9948\n",
       "Ligand Efficiency SEI          9948\n",
       "Potential Duplicate               0\n",
       "Assay ChEMBL ID                   0\n",
       "Assay Description                 0\n",
       "Assay Type                        0\n",
       "BAO Format ID                     0\n",
       "BAO Label                         0\n",
       "Assay Organism                    0\n",
       "Assay Tissue ChEMBL ID            0\n",
       "Assay Tissue Name                 0\n",
       "Assay Cell Type                   0\n",
       "Assay Subcellular Fraction        0\n",
       "Assay Parameters              19093\n",
       "Assay Variant Accession       19327\n",
       "Assay Variant Mutation        19327\n",
       "Target ChEMBL ID                  0\n",
       "Target Name                       0\n",
       "Target Organism                   0\n",
       "Target Type                       0\n",
       "Document ChEMBL ID                0\n",
       "Source ID                         0\n",
       "Source Description                0\n",
       "Document Journal               2946\n",
       "Document Year                  1980\n",
       "Cell ChEMBL ID                    0\n",
       "Properties                    18753\n",
       "dtype: int64"
      ]
     },
     "execution_count": 11,
     "metadata": {},
     "output_type": "execute_result"
    }
   ],
   "source": [
    "df.isnull().sum()"
   ]
  },
  {
   "cell_type": "code",
   "execution_count": 12,
   "metadata": {
    "colab": {
     "base_uri": "https://localhost:8080/"
    },
    "execution": {
     "iopub.execute_input": "2022-03-25T00:56:28.211854Z",
     "iopub.status.busy": "2022-03-25T00:56:28.211385Z",
     "iopub.status.idle": "2022-03-25T00:56:28.222274Z",
     "shell.execute_reply": "2022-03-25T00:56:28.221520Z",
     "shell.execute_reply.started": "2022-03-25T00:56:28.211809Z"
    },
    "executionInfo": {
     "elapsed": 20,
     "status": "ok",
     "timestamp": 1651745959143,
     "user": {
      "displayName": "Konstantin KUTEYKIN TEPLYAKOV",
      "userId": "04703267818047594055"
     },
     "user_tz": -60
    },
    "id": "d5c8f417",
    "outputId": "dbf9a7df-76c7-424f-cb24-e28122957b29"
   },
   "outputs": [
    {
     "data": {
      "text/plain": [
       "Ki                    9395\n",
       "IC50                  3733\n",
       "EC50                  1340\n",
       "Inhibition            1243\n",
       "Activity               740\n",
       "Emax                   449\n",
       "Ratio                  396\n",
       "Kd                     248\n",
       "Selectivity            239\n",
       "Ratio Ki               182\n",
       "ED50                   174\n",
       "Selectivity ratio      150\n",
       "Intrinsic activity     124\n",
       "-Log KB                100\n",
       "Efficacy                85\n",
       "Ratio EC50              63\n",
       "pKB                     60\n",
       "Ke                      60\n",
       "p[A50]                  46\n",
       "log(ratio)              44\n",
       "Name: Standard Type, dtype: int64"
      ]
     },
     "execution_count": 12,
     "metadata": {},
     "output_type": "execute_result"
    }
   ],
   "source": [
    "df['Standard Type'].value_counts().head(20)"
   ]
  },
  {
   "cell_type": "markdown",
   "metadata": {
    "id": "5wIl-Trc814K"
   },
   "source": [
    "## Selection of meaningful columns and rows"
   ]
  },
  {
   "cell_type": "code",
   "execution_count": 13,
   "metadata": {
    "execution": {
     "iopub.execute_input": "2022-03-25T00:56:31.162446Z",
     "iopub.status.busy": "2022-03-25T00:56:31.162022Z",
     "iopub.status.idle": "2022-03-25T00:56:31.168297Z",
     "shell.execute_reply": "2022-03-25T00:56:31.167498Z",
     "shell.execute_reply.started": "2022-03-25T00:56:31.162401Z"
    },
    "executionInfo": {
     "elapsed": 6,
     "status": "ok",
     "timestamp": 1651745965677,
     "user": {
      "displayName": "Konstantin KUTEYKIN TEPLYAKOV",
      "userId": "04703267818047594055"
     },
     "user_tz": -60
    },
    "id": "M03XuZh6814M"
   },
   "outputs": [],
   "source": [
    "df_selected = df[['Molecule ChEMBL ID', 'Smiles', 'Standard Type', 'Standard Value', 'Standard Units']]"
   ]
  },
  {
   "cell_type": "code",
   "execution_count": 14,
   "metadata": {
    "colab": {
     "base_uri": "https://localhost:8080/",
     "height": 424
    },
    "execution": {
     "iopub.execute_input": "2022-03-25T00:56:34.111958Z",
     "iopub.status.busy": "2022-03-25T00:56:34.111443Z",
     "iopub.status.idle": "2022-03-25T00:56:34.126023Z",
     "shell.execute_reply": "2022-03-25T00:56:34.125164Z",
     "shell.execute_reply.started": "2022-03-25T00:56:34.111925Z"
    },
    "executionInfo": {
     "elapsed": 14,
     "status": "ok",
     "timestamp": 1651745966160,
     "user": {
      "displayName": "Konstantin KUTEYKIN TEPLYAKOV",
      "userId": "04703267818047594055"
     },
     "user_tz": -60
    },
    "id": "k-h_AE1j814N",
    "outputId": "c2647ec8-8d1d-46e5-ec0a-6b456a0e5057"
   },
   "outputs": [
    {
     "data": {
      "text/html": [
       "\n",
       "  <div id=\"df-057cd110-ae06-491e-91be-5ded6b5d2955\">\n",
       "    <div class=\"colab-df-container\">\n",
       "      <div>\n",
       "<style scoped>\n",
       "    .dataframe tbody tr th:only-of-type {\n",
       "        vertical-align: middle;\n",
       "    }\n",
       "\n",
       "    .dataframe tbody tr th {\n",
       "        vertical-align: top;\n",
       "    }\n",
       "\n",
       "    .dataframe thead th {\n",
       "        text-align: right;\n",
       "    }\n",
       "</style>\n",
       "<table border=\"1\" class=\"dataframe\">\n",
       "  <thead>\n",
       "    <tr style=\"text-align: right;\">\n",
       "      <th></th>\n",
       "      <th>Molecule ChEMBL ID</th>\n",
       "      <th>Smiles</th>\n",
       "      <th>Standard Type</th>\n",
       "      <th>Standard Value</th>\n",
       "      <th>Standard Units</th>\n",
       "    </tr>\n",
       "  </thead>\n",
       "  <tbody>\n",
       "    <tr>\n",
       "      <th>0</th>\n",
       "      <td>CHEMBL558551</td>\n",
       "      <td>O=C1CC[C@@H](N2C(=O)c3ccccc3C2=O)C(=O)N1</td>\n",
       "      <td>Ki</td>\n",
       "      <td>NaN</td>\n",
       "      <td>NaN</td>\n",
       "    </tr>\n",
       "    <tr>\n",
       "      <th>1</th>\n",
       "      <td>CHEMBL104</td>\n",
       "      <td>Clc1ccccc1C(c1ccccc1)(c1ccccc1)n1ccnc1</td>\n",
       "      <td>Ki</td>\n",
       "      <td>3183.0</td>\n",
       "      <td>nM</td>\n",
       "    </tr>\n",
       "    <tr>\n",
       "      <th>2</th>\n",
       "      <td>CHEMBL4742201</td>\n",
       "      <td>CN(C)CCN1C(=O)c2ccccc2N(C)C(=O)c2ccccc21</td>\n",
       "      <td>Ki</td>\n",
       "      <td>100000.0</td>\n",
       "      <td>nM</td>\n",
       "    </tr>\n",
       "    <tr>\n",
       "      <th>3</th>\n",
       "      <td>CHEMBL411</td>\n",
       "      <td>CC/C(=C(/CC)c1ccc(O)cc1)c1ccc(O)cc1</td>\n",
       "      <td>Ki</td>\n",
       "      <td>1369.0</td>\n",
       "      <td>nM</td>\n",
       "    </tr>\n",
       "    <tr>\n",
       "      <th>4</th>\n",
       "      <td>CHEMBL54126</td>\n",
       "      <td>CN(C)C(=O)Oc1cccc([N+](C)(C)C)c1.[Br-]</td>\n",
       "      <td>IC50</td>\n",
       "      <td>NaN</td>\n",
       "      <td>NaN</td>\n",
       "    </tr>\n",
       "    <tr>\n",
       "      <th>...</th>\n",
       "      <td>...</td>\n",
       "      <td>...</td>\n",
       "      <td>...</td>\n",
       "      <td>...</td>\n",
       "      <td>...</td>\n",
       "    </tr>\n",
       "    <tr>\n",
       "      <th>19328</th>\n",
       "      <td>CHEMBL683</td>\n",
       "      <td>CC(C)(Oc1ccc(Cl)cc1)C(=O)O</td>\n",
       "      <td>Ki</td>\n",
       "      <td>NaN</td>\n",
       "      <td>NaN</td>\n",
       "    </tr>\n",
       "    <tr>\n",
       "      <th>19329</th>\n",
       "      <td>CHEMBL275854</td>\n",
       "      <td>CC(N)Cc1c[nH]c2ccc(O)cc12</td>\n",
       "      <td>Ki</td>\n",
       "      <td>1.0</td>\n",
       "      <td>nM</td>\n",
       "    </tr>\n",
       "    <tr>\n",
       "      <th>19330</th>\n",
       "      <td>CHEMBL275854</td>\n",
       "      <td>CC(N)Cc1c[nH]c2ccc(O)cc12</td>\n",
       "      <td>Efficacy</td>\n",
       "      <td>99.0</td>\n",
       "      <td>%</td>\n",
       "    </tr>\n",
       "    <tr>\n",
       "      <th>19331</th>\n",
       "      <td>CHEMBL275707</td>\n",
       "      <td>C[C@H]1CN(CCCn2c3ccccc3c3ccccc32)C[C@@H](C)N1</td>\n",
       "      <td>Ki</td>\n",
       "      <td>2482.0</td>\n",
       "      <td>nM</td>\n",
       "    </tr>\n",
       "    <tr>\n",
       "      <th>19332</th>\n",
       "      <td>CHEMBL42</td>\n",
       "      <td>CN1CCN(C2=Nc3cc(Cl)ccc3Nc3ccccc32)CC1</td>\n",
       "      <td>IC50</td>\n",
       "      <td>24.0</td>\n",
       "      <td>nM</td>\n",
       "    </tr>\n",
       "  </tbody>\n",
       "</table>\n",
       "<p>19333 rows × 5 columns</p>\n",
       "</div>\n",
       "      <button class=\"colab-df-convert\" onclick=\"convertToInteractive('df-057cd110-ae06-491e-91be-5ded6b5d2955')\"\n",
       "              title=\"Convert this dataframe to an interactive table.\"\n",
       "              style=\"display:none;\">\n",
       "        \n",
       "  <svg xmlns=\"http://www.w3.org/2000/svg\" height=\"24px\"viewBox=\"0 0 24 24\"\n",
       "       width=\"24px\">\n",
       "    <path d=\"M0 0h24v24H0V0z\" fill=\"none\"/>\n",
       "    <path d=\"M18.56 5.44l.94 2.06.94-2.06 2.06-.94-2.06-.94-.94-2.06-.94 2.06-2.06.94zm-11 1L8.5 8.5l.94-2.06 2.06-.94-2.06-.94L8.5 2.5l-.94 2.06-2.06.94zm10 10l.94 2.06.94-2.06 2.06-.94-2.06-.94-.94-2.06-.94 2.06-2.06.94z\"/><path d=\"M17.41 7.96l-1.37-1.37c-.4-.4-.92-.59-1.43-.59-.52 0-1.04.2-1.43.59L10.3 9.45l-7.72 7.72c-.78.78-.78 2.05 0 2.83L4 21.41c.39.39.9.59 1.41.59.51 0 1.02-.2 1.41-.59l7.78-7.78 2.81-2.81c.8-.78.8-2.07 0-2.86zM5.41 20L4 18.59l7.72-7.72 1.47 1.35L5.41 20z\"/>\n",
       "  </svg>\n",
       "      </button>\n",
       "      \n",
       "  <style>\n",
       "    .colab-df-container {\n",
       "      display:flex;\n",
       "      flex-wrap:wrap;\n",
       "      gap: 12px;\n",
       "    }\n",
       "\n",
       "    .colab-df-convert {\n",
       "      background-color: #E8F0FE;\n",
       "      border: none;\n",
       "      border-radius: 50%;\n",
       "      cursor: pointer;\n",
       "      display: none;\n",
       "      fill: #1967D2;\n",
       "      height: 32px;\n",
       "      padding: 0 0 0 0;\n",
       "      width: 32px;\n",
       "    }\n",
       "\n",
       "    .colab-df-convert:hover {\n",
       "      background-color: #E2EBFA;\n",
       "      box-shadow: 0px 1px 2px rgba(60, 64, 67, 0.3), 0px 1px 3px 1px rgba(60, 64, 67, 0.15);\n",
       "      fill: #174EA6;\n",
       "    }\n",
       "\n",
       "    [theme=dark] .colab-df-convert {\n",
       "      background-color: #3B4455;\n",
       "      fill: #D2E3FC;\n",
       "    }\n",
       "\n",
       "    [theme=dark] .colab-df-convert:hover {\n",
       "      background-color: #434B5C;\n",
       "      box-shadow: 0px 1px 3px 1px rgba(0, 0, 0, 0.15);\n",
       "      filter: drop-shadow(0px 1px 2px rgba(0, 0, 0, 0.3));\n",
       "      fill: #FFFFFF;\n",
       "    }\n",
       "  </style>\n",
       "\n",
       "      <script>\n",
       "        const buttonEl =\n",
       "          document.querySelector('#df-057cd110-ae06-491e-91be-5ded6b5d2955 button.colab-df-convert');\n",
       "        buttonEl.style.display =\n",
       "          google.colab.kernel.accessAllowed ? 'block' : 'none';\n",
       "\n",
       "        async function convertToInteractive(key) {\n",
       "          const element = document.querySelector('#df-057cd110-ae06-491e-91be-5ded6b5d2955');\n",
       "          const dataTable =\n",
       "            await google.colab.kernel.invokeFunction('convertToInteractive',\n",
       "                                                     [key], {});\n",
       "          if (!dataTable) return;\n",
       "\n",
       "          const docLinkHtml = 'Like what you see? Visit the ' +\n",
       "            '<a target=\"_blank\" href=https://colab.research.google.com/notebooks/data_table.ipynb>data table notebook</a>'\n",
       "            + ' to learn more about interactive tables.';\n",
       "          element.innerHTML = '';\n",
       "          dataTable['output_type'] = 'display_data';\n",
       "          await google.colab.output.renderOutput(dataTable, element);\n",
       "          const docLink = document.createElement('div');\n",
       "          docLink.innerHTML = docLinkHtml;\n",
       "          element.appendChild(docLink);\n",
       "        }\n",
       "      </script>\n",
       "    </div>\n",
       "  </div>\n",
       "  "
      ],
      "text/plain": [
       "      Molecule ChEMBL ID                                         Smiles  \\\n",
       "0           CHEMBL558551       O=C1CC[C@@H](N2C(=O)c3ccccc3C2=O)C(=O)N1   \n",
       "1              CHEMBL104         Clc1ccccc1C(c1ccccc1)(c1ccccc1)n1ccnc1   \n",
       "2          CHEMBL4742201       CN(C)CCN1C(=O)c2ccccc2N(C)C(=O)c2ccccc21   \n",
       "3              CHEMBL411            CC/C(=C(/CC)c1ccc(O)cc1)c1ccc(O)cc1   \n",
       "4            CHEMBL54126         CN(C)C(=O)Oc1cccc([N+](C)(C)C)c1.[Br-]   \n",
       "...                  ...                                            ...   \n",
       "19328          CHEMBL683                     CC(C)(Oc1ccc(Cl)cc1)C(=O)O   \n",
       "19329       CHEMBL275854                      CC(N)Cc1c[nH]c2ccc(O)cc12   \n",
       "19330       CHEMBL275854                      CC(N)Cc1c[nH]c2ccc(O)cc12   \n",
       "19331       CHEMBL275707  C[C@H]1CN(CCCn2c3ccccc3c3ccccc32)C[C@@H](C)N1   \n",
       "19332           CHEMBL42          CN1CCN(C2=Nc3cc(Cl)ccc3Nc3ccccc32)CC1   \n",
       "\n",
       "      Standard Type  Standard Value Standard Units  \n",
       "0                Ki             NaN            NaN  \n",
       "1                Ki          3183.0             nM  \n",
       "2                Ki        100000.0             nM  \n",
       "3                Ki          1369.0             nM  \n",
       "4              IC50             NaN            NaN  \n",
       "...             ...             ...            ...  \n",
       "19328            Ki             NaN            NaN  \n",
       "19329            Ki             1.0             nM  \n",
       "19330      Efficacy            99.0              %  \n",
       "19331            Ki          2482.0             nM  \n",
       "19332          IC50            24.0             nM  \n",
       "\n",
       "[19333 rows x 5 columns]"
      ]
     },
     "execution_count": 14,
     "metadata": {},
     "output_type": "execute_result"
    }
   ],
   "source": [
    "df_selected"
   ]
  },
  {
   "cell_type": "code",
   "execution_count": 15,
   "metadata": {
    "execution": {
     "iopub.execute_input": "2022-03-25T00:56:37.132469Z",
     "iopub.status.busy": "2022-03-25T00:56:37.132199Z",
     "iopub.status.idle": "2022-03-25T00:56:37.155744Z",
     "shell.execute_reply": "2022-03-25T00:56:37.154915Z",
     "shell.execute_reply.started": "2022-03-25T00:56:37.132423Z"
    },
    "executionInfo": {
     "elapsed": 8,
     "status": "ok",
     "timestamp": 1651745966608,
     "user": {
      "displayName": "Konstantin KUTEYKIN TEPLYAKOV",
      "userId": "04703267818047594055"
     },
     "user_tz": -60
    },
    "id": "98a9915e"
   },
   "outputs": [],
   "source": [
    "df_selected = df_selected[df_selected['Standard Units'].str.contains('nM', na=False)]"
   ]
  },
  {
   "cell_type": "code",
   "execution_count": 16,
   "metadata": {
    "colab": {
     "base_uri": "https://localhost:8080/"
    },
    "executionInfo": {
     "elapsed": 415,
     "status": "ok",
     "timestamp": 1651745970252,
     "user": {
      "displayName": "Konstantin KUTEYKIN TEPLYAKOV",
      "userId": "04703267818047594055"
     },
     "user_tz": -60
    },
    "id": "9laQcjWb814R",
    "outputId": "85e16f56-1e62-4ba7-d71c-519b1695dc27"
   },
   "outputs": [
    {
     "data": {
      "text/plain": [
       "Molecule ChEMBL ID      0\n",
       "Smiles                  9\n",
       "Standard Type           0\n",
       "Standard Value        122\n",
       "Standard Units          0\n",
       "dtype: int64"
      ]
     },
     "execution_count": 16,
     "metadata": {},
     "output_type": "execute_result"
    }
   ],
   "source": [
    "df_selected.isnull().sum()"
   ]
  },
  {
   "cell_type": "code",
   "execution_count": 17,
   "metadata": {
    "colab": {
     "base_uri": "https://localhost:8080/"
    },
    "execution": {
     "iopub.execute_input": "2022-03-25T00:56:39.432091Z",
     "iopub.status.busy": "2022-03-25T00:56:39.431507Z",
     "iopub.status.idle": "2022-03-25T00:56:39.443992Z",
     "shell.execute_reply": "2022-03-25T00:56:39.443318Z",
     "shell.execute_reply.started": "2022-03-25T00:56:39.432057Z"
    },
    "executionInfo": {
     "elapsed": 9,
     "status": "ok",
     "timestamp": 1651745971905,
     "user": {
      "displayName": "Konstantin KUTEYKIN TEPLYAKOV",
      "userId": "04703267818047594055"
     },
     "user_tz": -60
    },
    "id": "apTrVC6B814S",
    "outputId": "209bb8e0-bc2b-4c3d-e79c-f219d65cbc30"
   },
   "outputs": [
    {
     "name": "stderr",
     "output_type": "stream",
     "text": [
      "/usr/local/lib/python3.7/dist-packages/pandas/util/_decorators.py:311: SettingWithCopyWarning: \n",
      "A value is trying to be set on a copy of a slice from a DataFrame\n",
      "\n",
      "See the caveats in the documentation: https://pandas.pydata.org/pandas-docs/stable/user_guide/indexing.html#returning-a-view-versus-a-copy\n",
      "  return func(*args, **kwargs)\n"
     ]
    }
   ],
   "source": [
    "df_selected.dropna(inplace=True)"
   ]
  },
  {
   "cell_type": "code",
   "execution_count": 18,
   "metadata": {
    "colab": {
     "base_uri": "https://localhost:8080/"
    },
    "execution": {
     "iopub.execute_input": "2022-03-25T00:56:41.721837Z",
     "iopub.status.busy": "2022-03-25T00:56:41.721426Z",
     "iopub.status.idle": "2022-03-25T00:56:41.733878Z",
     "shell.execute_reply": "2022-03-25T00:56:41.733273Z",
     "shell.execute_reply.started": "2022-03-25T00:56:41.721809Z"
    },
    "executionInfo": {
     "elapsed": 12,
     "status": "ok",
     "timestamp": 1651745973513,
     "user": {
      "displayName": "Konstantin KUTEYKIN TEPLYAKOV",
      "userId": "04703267818047594055"
     },
     "user_tz": -60
    },
    "id": "Z9D5aoxb814U",
    "outputId": "d41ba894-fb57-4b64-a890-5be18151ef41"
   },
   "outputs": [
    {
     "data": {
      "text/plain": [
       "CHEMBL42         103\n",
       "CHEMBL39          75\n",
       "CHEMBL54          72\n",
       "CHEMBL51          69\n",
       "CHEMBL85          48\n",
       "                ... \n",
       "CHEMBL53939        1\n",
       "CHEMBL4465414      1\n",
       "CHEMBL543613       1\n",
       "CHEMBL313694       1\n",
       "CHEMBL141209       1\n",
       "Name: Molecule ChEMBL ID, Length: 9645, dtype: int64"
      ]
     },
     "execution_count": 18,
     "metadata": {},
     "output_type": "execute_result"
    }
   ],
   "source": [
    "# there are many different activity values for the same molecule\n",
    "df_selected['Molecule ChEMBL ID'].value_counts()"
   ]
  },
  {
   "cell_type": "code",
   "execution_count": 19,
   "metadata": {
    "colab": {
     "base_uri": "https://localhost:8080/",
     "height": 300
    },
    "execution": {
     "iopub.execute_input": "2022-03-25T00:56:44.563668Z",
     "iopub.status.busy": "2022-03-25T00:56:44.563286Z",
     "iopub.status.idle": "2022-03-25T00:56:44.585136Z",
     "shell.execute_reply": "2022-03-25T00:56:44.584311Z",
     "shell.execute_reply.started": "2022-03-25T00:56:44.563641Z"
    },
    "executionInfo": {
     "elapsed": 30,
     "status": "ok",
     "timestamp": 1651745975349,
     "user": {
      "displayName": "Konstantin KUTEYKIN TEPLYAKOV",
      "userId": "04703267818047594055"
     },
     "user_tz": -60
    },
    "id": "82a9adc9",
    "outputId": "343a2788-3565-477a-8835-c8a6ae17c104"
   },
   "outputs": [
    {
     "data": {
      "text/html": [
       "\n",
       "  <div id=\"df-6c5aa96f-db8b-4922-875b-317cf8b795d3\">\n",
       "    <div class=\"colab-df-container\">\n",
       "      <div>\n",
       "<style scoped>\n",
       "    .dataframe tbody tr th:only-of-type {\n",
       "        vertical-align: middle;\n",
       "    }\n",
       "\n",
       "    .dataframe tbody tr th {\n",
       "        vertical-align: top;\n",
       "    }\n",
       "\n",
       "    .dataframe thead th {\n",
       "        text-align: right;\n",
       "    }\n",
       "</style>\n",
       "<table border=\"1\" class=\"dataframe\">\n",
       "  <thead>\n",
       "    <tr style=\"text-align: right;\">\n",
       "      <th></th>\n",
       "      <th>Standard Value</th>\n",
       "    </tr>\n",
       "  </thead>\n",
       "  <tbody>\n",
       "    <tr>\n",
       "      <th>count</th>\n",
       "      <td>103.00</td>\n",
       "    </tr>\n",
       "    <tr>\n",
       "      <th>mean</th>\n",
       "      <td>15.20</td>\n",
       "    </tr>\n",
       "    <tr>\n",
       "      <th>std</th>\n",
       "      <td>24.99</td>\n",
       "    </tr>\n",
       "    <tr>\n",
       "      <th>min</th>\n",
       "      <td>0.69</td>\n",
       "    </tr>\n",
       "    <tr>\n",
       "      <th>25%</th>\n",
       "      <td>5.72</td>\n",
       "    </tr>\n",
       "    <tr>\n",
       "      <th>50%</th>\n",
       "      <td>9.40</td>\n",
       "    </tr>\n",
       "    <tr>\n",
       "      <th>75%</th>\n",
       "      <td>14.25</td>\n",
       "    </tr>\n",
       "    <tr>\n",
       "      <th>max</th>\n",
       "      <td>230.00</td>\n",
       "    </tr>\n",
       "  </tbody>\n",
       "</table>\n",
       "</div>\n",
       "      <button class=\"colab-df-convert\" onclick=\"convertToInteractive('df-6c5aa96f-db8b-4922-875b-317cf8b795d3')\"\n",
       "              title=\"Convert this dataframe to an interactive table.\"\n",
       "              style=\"display:none;\">\n",
       "        \n",
       "  <svg xmlns=\"http://www.w3.org/2000/svg\" height=\"24px\"viewBox=\"0 0 24 24\"\n",
       "       width=\"24px\">\n",
       "    <path d=\"M0 0h24v24H0V0z\" fill=\"none\"/>\n",
       "    <path d=\"M18.56 5.44l.94 2.06.94-2.06 2.06-.94-2.06-.94-.94-2.06-.94 2.06-2.06.94zm-11 1L8.5 8.5l.94-2.06 2.06-.94-2.06-.94L8.5 2.5l-.94 2.06-2.06.94zm10 10l.94 2.06.94-2.06 2.06-.94-2.06-.94-.94-2.06-.94 2.06-2.06.94z\"/><path d=\"M17.41 7.96l-1.37-1.37c-.4-.4-.92-.59-1.43-.59-.52 0-1.04.2-1.43.59L10.3 9.45l-7.72 7.72c-.78.78-.78 2.05 0 2.83L4 21.41c.39.39.9.59 1.41.59.51 0 1.02-.2 1.41-.59l7.78-7.78 2.81-2.81c.8-.78.8-2.07 0-2.86zM5.41 20L4 18.59l7.72-7.72 1.47 1.35L5.41 20z\"/>\n",
       "  </svg>\n",
       "      </button>\n",
       "      \n",
       "  <style>\n",
       "    .colab-df-container {\n",
       "      display:flex;\n",
       "      flex-wrap:wrap;\n",
       "      gap: 12px;\n",
       "    }\n",
       "\n",
       "    .colab-df-convert {\n",
       "      background-color: #E8F0FE;\n",
       "      border: none;\n",
       "      border-radius: 50%;\n",
       "      cursor: pointer;\n",
       "      display: none;\n",
       "      fill: #1967D2;\n",
       "      height: 32px;\n",
       "      padding: 0 0 0 0;\n",
       "      width: 32px;\n",
       "    }\n",
       "\n",
       "    .colab-df-convert:hover {\n",
       "      background-color: #E2EBFA;\n",
       "      box-shadow: 0px 1px 2px rgba(60, 64, 67, 0.3), 0px 1px 3px 1px rgba(60, 64, 67, 0.15);\n",
       "      fill: #174EA6;\n",
       "    }\n",
       "\n",
       "    [theme=dark] .colab-df-convert {\n",
       "      background-color: #3B4455;\n",
       "      fill: #D2E3FC;\n",
       "    }\n",
       "\n",
       "    [theme=dark] .colab-df-convert:hover {\n",
       "      background-color: #434B5C;\n",
       "      box-shadow: 0px 1px 3px 1px rgba(0, 0, 0, 0.15);\n",
       "      filter: drop-shadow(0px 1px 2px rgba(0, 0, 0, 0.3));\n",
       "      fill: #FFFFFF;\n",
       "    }\n",
       "  </style>\n",
       "\n",
       "      <script>\n",
       "        const buttonEl =\n",
       "          document.querySelector('#df-6c5aa96f-db8b-4922-875b-317cf8b795d3 button.colab-df-convert');\n",
       "        buttonEl.style.display =\n",
       "          google.colab.kernel.accessAllowed ? 'block' : 'none';\n",
       "\n",
       "        async function convertToInteractive(key) {\n",
       "          const element = document.querySelector('#df-6c5aa96f-db8b-4922-875b-317cf8b795d3');\n",
       "          const dataTable =\n",
       "            await google.colab.kernel.invokeFunction('convertToInteractive',\n",
       "                                                     [key], {});\n",
       "          if (!dataTable) return;\n",
       "\n",
       "          const docLinkHtml = 'Like what you see? Visit the ' +\n",
       "            '<a target=\"_blank\" href=https://colab.research.google.com/notebooks/data_table.ipynb>data table notebook</a>'\n",
       "            + ' to learn more about interactive tables.';\n",
       "          element.innerHTML = '';\n",
       "          dataTable['output_type'] = 'display_data';\n",
       "          await google.colab.output.renderOutput(dataTable, element);\n",
       "          const docLink = document.createElement('div');\n",
       "          docLink.innerHTML = docLinkHtml;\n",
       "          element.appendChild(docLink);\n",
       "        }\n",
       "      </script>\n",
       "    </div>\n",
       "  </div>\n",
       "  "
      ],
      "text/plain": [
       "       Standard Value\n",
       "count          103.00\n",
       "mean            15.20\n",
       "std             24.99\n",
       "min              0.69\n",
       "25%              5.72\n",
       "50%              9.40\n",
       "75%             14.25\n",
       "max            230.00"
      ]
     },
     "execution_count": 19,
     "metadata": {},
     "output_type": "execute_result"
    }
   ],
   "source": [
    "# bias in activity, on example of most tested mocelule CHEMBL42\n",
    "df_selected[df_selected['Molecule ChEMBL ID'].str.fullmatch('CHEMBL42')].describe()"
   ]
  },
  {
   "cell_type": "code",
   "execution_count": 20,
   "metadata": {
    "colab": {
     "base_uri": "https://localhost:8080/"
    },
    "execution": {
     "iopub.execute_input": "2022-03-25T00:56:47.212382Z",
     "iopub.status.busy": "2022-03-25T00:56:47.211552Z",
     "iopub.status.idle": "2022-03-25T00:56:47.233367Z",
     "shell.execute_reply": "2022-03-25T00:56:47.232763Z",
     "shell.execute_reply.started": "2022-03-25T00:56:47.212333Z"
    },
    "executionInfo": {
     "elapsed": 24,
     "status": "ok",
     "timestamp": 1651746809421,
     "user": {
      "displayName": "Konstantin KUTEYKIN TEPLYAKOV",
      "userId": "04703267818047594055"
     },
     "user_tz": -60
    },
    "id": "9c593bc1",
    "outputId": "4f633d3c-fcfb-47ed-a12e-b647cf913a1e"
   },
   "outputs": [
    {
     "name": "stderr",
     "output_type": "stream",
     "text": [
      "/usr/local/lib/python3.7/dist-packages/ipykernel_launcher.py:4: SettingWithCopyWarning: \n",
      "A value is trying to be set on a copy of a slice from a DataFrame.\n",
      "Try using .loc[row_indexer,col_indexer] = value instead\n",
      "\n",
      "See the caveats in the documentation: https://pandas.pydata.org/pandas-docs/stable/user_guide/indexing.html#returning-a-view-versus-a-copy\n",
      "  after removing the cwd from sys.path.\n"
     ]
    }
   ],
   "source": [
    "# handling bias in activity data from differen assays: \n",
    "# calculationg average activity (mean_value)\n",
    "\n",
    "df_selected['mean_value'] = df_selected.groupby('Molecule ChEMBL ID')['Standard Value'].transform('mean')"
   ]
  },
  {
   "cell_type": "code",
   "execution_count": 21,
   "metadata": {
    "colab": {
     "base_uri": "https://localhost:8080/",
     "height": 206
    },
    "execution": {
     "iopub.execute_input": "2022-03-25T00:56:49.861882Z",
     "iopub.status.busy": "2022-03-25T00:56:49.861609Z",
     "iopub.status.idle": "2022-03-25T00:56:49.875610Z",
     "shell.execute_reply": "2022-03-25T00:56:49.874665Z",
     "shell.execute_reply.started": "2022-03-25T00:56:49.861852Z"
    },
    "executionInfo": {
     "elapsed": 29,
     "status": "ok",
     "timestamp": 1651746812186,
     "user": {
      "displayName": "Konstantin KUTEYKIN TEPLYAKOV",
      "userId": "04703267818047594055"
     },
     "user_tz": -60
    },
    "id": "cc6ea9b8",
    "outputId": "9b07723b-5f8e-43fc-80d7-e474e1ce26b1"
   },
   "outputs": [
    {
     "data": {
      "text/html": [
       "\n",
       "  <div id=\"df-e0d16c75-cc50-4c3a-86e4-2e86c91d09fd\">\n",
       "    <div class=\"colab-df-container\">\n",
       "      <div>\n",
       "<style scoped>\n",
       "    .dataframe tbody tr th:only-of-type {\n",
       "        vertical-align: middle;\n",
       "    }\n",
       "\n",
       "    .dataframe tbody tr th {\n",
       "        vertical-align: top;\n",
       "    }\n",
       "\n",
       "    .dataframe thead th {\n",
       "        text-align: right;\n",
       "    }\n",
       "</style>\n",
       "<table border=\"1\" class=\"dataframe\">\n",
       "  <thead>\n",
       "    <tr style=\"text-align: right;\">\n",
       "      <th></th>\n",
       "      <th>Molecule ChEMBL ID</th>\n",
       "      <th>Smiles</th>\n",
       "      <th>Standard Type</th>\n",
       "      <th>Standard Value</th>\n",
       "      <th>Standard Units</th>\n",
       "      <th>mean_value</th>\n",
       "    </tr>\n",
       "  </thead>\n",
       "  <tbody>\n",
       "    <tr>\n",
       "      <th>1</th>\n",
       "      <td>CHEMBL104</td>\n",
       "      <td>Clc1ccccc1C(c1ccccc1)(c1ccccc1)n1ccnc1</td>\n",
       "      <td>Ki</td>\n",
       "      <td>3183.0</td>\n",
       "      <td>nM</td>\n",
       "      <td>7162.5</td>\n",
       "    </tr>\n",
       "    <tr>\n",
       "      <th>2</th>\n",
       "      <td>CHEMBL4742201</td>\n",
       "      <td>CN(C)CCN1C(=O)c2ccccc2N(C)C(=O)c2ccccc21</td>\n",
       "      <td>Ki</td>\n",
       "      <td>100000.0</td>\n",
       "      <td>nM</td>\n",
       "      <td>100000.0</td>\n",
       "    </tr>\n",
       "    <tr>\n",
       "      <th>3</th>\n",
       "      <td>CHEMBL411</td>\n",
       "      <td>CC/C(=C(/CC)c1ccc(O)cc1)c1ccc(O)cc1</td>\n",
       "      <td>Ki</td>\n",
       "      <td>1369.0</td>\n",
       "      <td>nM</td>\n",
       "      <td>3079.5</td>\n",
       "    </tr>\n",
       "    <tr>\n",
       "      <th>6</th>\n",
       "      <td>CHEMBL900</td>\n",
       "      <td>Cc1ccccc1C(OCCN(C)C)c1ccccc1</td>\n",
       "      <td>IC50</td>\n",
       "      <td>436.0</td>\n",
       "      <td>nM</td>\n",
       "      <td>280.5</td>\n",
       "    </tr>\n",
       "    <tr>\n",
       "      <th>11</th>\n",
       "      <td>CHEMBL55</td>\n",
       "      <td>N=C(N)c1ccc(OCCCCCOc2ccc(C(=N)N)cc2)cc1</td>\n",
       "      <td>IC50</td>\n",
       "      <td>1639.0</td>\n",
       "      <td>nM</td>\n",
       "      <td>1053.5</td>\n",
       "    </tr>\n",
       "  </tbody>\n",
       "</table>\n",
       "</div>\n",
       "      <button class=\"colab-df-convert\" onclick=\"convertToInteractive('df-e0d16c75-cc50-4c3a-86e4-2e86c91d09fd')\"\n",
       "              title=\"Convert this dataframe to an interactive table.\"\n",
       "              style=\"display:none;\">\n",
       "        \n",
       "  <svg xmlns=\"http://www.w3.org/2000/svg\" height=\"24px\"viewBox=\"0 0 24 24\"\n",
       "       width=\"24px\">\n",
       "    <path d=\"M0 0h24v24H0V0z\" fill=\"none\"/>\n",
       "    <path d=\"M18.56 5.44l.94 2.06.94-2.06 2.06-.94-2.06-.94-.94-2.06-.94 2.06-2.06.94zm-11 1L8.5 8.5l.94-2.06 2.06-.94-2.06-.94L8.5 2.5l-.94 2.06-2.06.94zm10 10l.94 2.06.94-2.06 2.06-.94-2.06-.94-.94-2.06-.94 2.06-2.06.94z\"/><path d=\"M17.41 7.96l-1.37-1.37c-.4-.4-.92-.59-1.43-.59-.52 0-1.04.2-1.43.59L10.3 9.45l-7.72 7.72c-.78.78-.78 2.05 0 2.83L4 21.41c.39.39.9.59 1.41.59.51 0 1.02-.2 1.41-.59l7.78-7.78 2.81-2.81c.8-.78.8-2.07 0-2.86zM5.41 20L4 18.59l7.72-7.72 1.47 1.35L5.41 20z\"/>\n",
       "  </svg>\n",
       "      </button>\n",
       "      \n",
       "  <style>\n",
       "    .colab-df-container {\n",
       "      display:flex;\n",
       "      flex-wrap:wrap;\n",
       "      gap: 12px;\n",
       "    }\n",
       "\n",
       "    .colab-df-convert {\n",
       "      background-color: #E8F0FE;\n",
       "      border: none;\n",
       "      border-radius: 50%;\n",
       "      cursor: pointer;\n",
       "      display: none;\n",
       "      fill: #1967D2;\n",
       "      height: 32px;\n",
       "      padding: 0 0 0 0;\n",
       "      width: 32px;\n",
       "    }\n",
       "\n",
       "    .colab-df-convert:hover {\n",
       "      background-color: #E2EBFA;\n",
       "      box-shadow: 0px 1px 2px rgba(60, 64, 67, 0.3), 0px 1px 3px 1px rgba(60, 64, 67, 0.15);\n",
       "      fill: #174EA6;\n",
       "    }\n",
       "\n",
       "    [theme=dark] .colab-df-convert {\n",
       "      background-color: #3B4455;\n",
       "      fill: #D2E3FC;\n",
       "    }\n",
       "\n",
       "    [theme=dark] .colab-df-convert:hover {\n",
       "      background-color: #434B5C;\n",
       "      box-shadow: 0px 1px 3px 1px rgba(0, 0, 0, 0.15);\n",
       "      filter: drop-shadow(0px 1px 2px rgba(0, 0, 0, 0.3));\n",
       "      fill: #FFFFFF;\n",
       "    }\n",
       "  </style>\n",
       "\n",
       "      <script>\n",
       "        const buttonEl =\n",
       "          document.querySelector('#df-e0d16c75-cc50-4c3a-86e4-2e86c91d09fd button.colab-df-convert');\n",
       "        buttonEl.style.display =\n",
       "          google.colab.kernel.accessAllowed ? 'block' : 'none';\n",
       "\n",
       "        async function convertToInteractive(key) {\n",
       "          const element = document.querySelector('#df-e0d16c75-cc50-4c3a-86e4-2e86c91d09fd');\n",
       "          const dataTable =\n",
       "            await google.colab.kernel.invokeFunction('convertToInteractive',\n",
       "                                                     [key], {});\n",
       "          if (!dataTable) return;\n",
       "\n",
       "          const docLinkHtml = 'Like what you see? Visit the ' +\n",
       "            '<a target=\"_blank\" href=https://colab.research.google.com/notebooks/data_table.ipynb>data table notebook</a>'\n",
       "            + ' to learn more about interactive tables.';\n",
       "          element.innerHTML = '';\n",
       "          dataTable['output_type'] = 'display_data';\n",
       "          await google.colab.output.renderOutput(dataTable, element);\n",
       "          const docLink = document.createElement('div');\n",
       "          docLink.innerHTML = docLinkHtml;\n",
       "          element.appendChild(docLink);\n",
       "        }\n",
       "      </script>\n",
       "    </div>\n",
       "  </div>\n",
       "  "
      ],
      "text/plain": [
       "   Molecule ChEMBL ID                                    Smiles Standard Type  \\\n",
       "1           CHEMBL104    Clc1ccccc1C(c1ccccc1)(c1ccccc1)n1ccnc1            Ki   \n",
       "2       CHEMBL4742201  CN(C)CCN1C(=O)c2ccccc2N(C)C(=O)c2ccccc21            Ki   \n",
       "3           CHEMBL411       CC/C(=C(/CC)c1ccc(O)cc1)c1ccc(O)cc1            Ki   \n",
       "6           CHEMBL900              Cc1ccccc1C(OCCN(C)C)c1ccccc1          IC50   \n",
       "11           CHEMBL55   N=C(N)c1ccc(OCCCCCOc2ccc(C(=N)N)cc2)cc1          IC50   \n",
       "\n",
       "    Standard Value Standard Units  mean_value  \n",
       "1           3183.0             nM      7162.5  \n",
       "2         100000.0             nM    100000.0  \n",
       "3           1369.0             nM      3079.5  \n",
       "6            436.0             nM       280.5  \n",
       "11          1639.0             nM      1053.5  "
      ]
     },
     "execution_count": 21,
     "metadata": {},
     "output_type": "execute_result"
    }
   ],
   "source": [
    "df_selected.head()"
   ]
  },
  {
   "cell_type": "code",
   "execution_count": 22,
   "metadata": {
    "colab": {
     "base_uri": "https://localhost:8080/",
     "height": 424
    },
    "executionInfo": {
     "elapsed": 46,
     "status": "ok",
     "timestamp": 1651746814731,
     "user": {
      "displayName": "Konstantin KUTEYKIN TEPLYAKOV",
      "userId": "04703267818047594055"
     },
     "user_tz": -60
    },
    "id": "P22jBMaY814r",
    "outputId": "dd88d4cb-fcb8-4600-c615-e380c0e6dc16"
   },
   "outputs": [
    {
     "data": {
      "text/html": [
       "\n",
       "  <div id=\"df-b5bf2589-ea83-4f09-a193-96f281a39011\">\n",
       "    <div class=\"colab-df-container\">\n",
       "      <div>\n",
       "<style scoped>\n",
       "    .dataframe tbody tr th:only-of-type {\n",
       "        vertical-align: middle;\n",
       "    }\n",
       "\n",
       "    .dataframe tbody tr th {\n",
       "        vertical-align: top;\n",
       "    }\n",
       "\n",
       "    .dataframe thead th {\n",
       "        text-align: right;\n",
       "    }\n",
       "</style>\n",
       "<table border=\"1\" class=\"dataframe\">\n",
       "  <thead>\n",
       "    <tr style=\"text-align: right;\">\n",
       "      <th></th>\n",
       "      <th>Molecule ChEMBL ID</th>\n",
       "      <th>Smiles</th>\n",
       "      <th>Standard Type</th>\n",
       "      <th>Standard Value</th>\n",
       "      <th>Standard Units</th>\n",
       "      <th>mean_value</th>\n",
       "    </tr>\n",
       "  </thead>\n",
       "  <tbody>\n",
       "    <tr>\n",
       "      <th>37</th>\n",
       "      <td>CHEMBL39</td>\n",
       "      <td>NCCc1c[nH]c2ccc(O)cc12</td>\n",
       "      <td>EC50</td>\n",
       "      <td>2.34</td>\n",
       "      <td>nM</td>\n",
       "      <td>959.24</td>\n",
       "    </tr>\n",
       "    <tr>\n",
       "      <th>63</th>\n",
       "      <td>CHEMBL42</td>\n",
       "      <td>CN1CCN(C2=Nc3cc(Cl)ccc3Nc3ccccc32)CC1</td>\n",
       "      <td>Ki</td>\n",
       "      <td>4.84</td>\n",
       "      <td>nM</td>\n",
       "      <td>15.20</td>\n",
       "    </tr>\n",
       "    <tr>\n",
       "      <th>64</th>\n",
       "      <td>CHEMBL715</td>\n",
       "      <td>Cc1cc2c(s1)Nc1ccccc1N=C2N1CCN(C)CC1</td>\n",
       "      <td>Ki</td>\n",
       "      <td>2.50</td>\n",
       "      <td>nM</td>\n",
       "      <td>10.81</td>\n",
       "    </tr>\n",
       "    <tr>\n",
       "      <th>65</th>\n",
       "      <td>CHEMBL6607</td>\n",
       "      <td>COc1cc(CC(C)N)c(OC)cc1Br</td>\n",
       "      <td>Ki</td>\n",
       "      <td>22.00</td>\n",
       "      <td>nM</td>\n",
       "      <td>31.49</td>\n",
       "    </tr>\n",
       "    <tr>\n",
       "      <th>99</th>\n",
       "      <td>CHEMBL54</td>\n",
       "      <td>O=C(CCCN1CCC(O)(c2ccc(Cl)cc2)CC1)c1ccc(F)cc1</td>\n",
       "      <td>Ki</td>\n",
       "      <td>27.00</td>\n",
       "      <td>nM</td>\n",
       "      <td>89.61</td>\n",
       "    </tr>\n",
       "    <tr>\n",
       "      <th>...</th>\n",
       "      <td>...</td>\n",
       "      <td>...</td>\n",
       "      <td>...</td>\n",
       "      <td>...</td>\n",
       "      <td>...</td>\n",
       "      <td>...</td>\n",
       "    </tr>\n",
       "    <tr>\n",
       "      <th>19318</th>\n",
       "      <td>CHEMBL54</td>\n",
       "      <td>O=C(CCCN1CCC(O)(c2ccc(Cl)cc2)CC1)c1ccc(F)cc1</td>\n",
       "      <td>Ki</td>\n",
       "      <td>108.00</td>\n",
       "      <td>nM</td>\n",
       "      <td>89.61</td>\n",
       "    </tr>\n",
       "    <tr>\n",
       "      <th>19319</th>\n",
       "      <td>CHEMBL54</td>\n",
       "      <td>O=C(CCCN1CCC(O)(c2ccc(Cl)cc2)CC1)c1ccc(F)cc1</td>\n",
       "      <td>IC50</td>\n",
       "      <td>129.00</td>\n",
       "      <td>nM</td>\n",
       "      <td>89.61</td>\n",
       "    </tr>\n",
       "    <tr>\n",
       "      <th>19320</th>\n",
       "      <td>CHEMBL56</td>\n",
       "      <td>CCCN(CCC)C1CCc2cccc(O)c2C1</td>\n",
       "      <td>IC50</td>\n",
       "      <td>10000.00</td>\n",
       "      <td>nM</td>\n",
       "      <td>7119.06</td>\n",
       "    </tr>\n",
       "    <tr>\n",
       "      <th>19322</th>\n",
       "      <td>CHEMBL54</td>\n",
       "      <td>O=C(CCCN1CCC(O)(c2ccc(Cl)cc2)CC1)c1ccc(F)cc1</td>\n",
       "      <td>Ki</td>\n",
       "      <td>164.00</td>\n",
       "      <td>nM</td>\n",
       "      <td>89.61</td>\n",
       "    </tr>\n",
       "    <tr>\n",
       "      <th>19332</th>\n",
       "      <td>CHEMBL42</td>\n",
       "      <td>CN1CCN(C2=Nc3cc(Cl)ccc3Nc3ccccc32)CC1</td>\n",
       "      <td>IC50</td>\n",
       "      <td>24.00</td>\n",
       "      <td>nM</td>\n",
       "      <td>15.20</td>\n",
       "    </tr>\n",
       "  </tbody>\n",
       "</table>\n",
       "<p>947 rows × 6 columns</p>\n",
       "</div>\n",
       "      <button class=\"colab-df-convert\" onclick=\"convertToInteractive('df-b5bf2589-ea83-4f09-a193-96f281a39011')\"\n",
       "              title=\"Convert this dataframe to an interactive table.\"\n",
       "              style=\"display:none;\">\n",
       "        \n",
       "  <svg xmlns=\"http://www.w3.org/2000/svg\" height=\"24px\"viewBox=\"0 0 24 24\"\n",
       "       width=\"24px\">\n",
       "    <path d=\"M0 0h24v24H0V0z\" fill=\"none\"/>\n",
       "    <path d=\"M18.56 5.44l.94 2.06.94-2.06 2.06-.94-2.06-.94-.94-2.06-.94 2.06-2.06.94zm-11 1L8.5 8.5l.94-2.06 2.06-.94-2.06-.94L8.5 2.5l-.94 2.06-2.06.94zm10 10l.94 2.06.94-2.06 2.06-.94-2.06-.94-.94-2.06-.94 2.06-2.06.94z\"/><path d=\"M17.41 7.96l-1.37-1.37c-.4-.4-.92-.59-1.43-.59-.52 0-1.04.2-1.43.59L10.3 9.45l-7.72 7.72c-.78.78-.78 2.05 0 2.83L4 21.41c.39.39.9.59 1.41.59.51 0 1.02-.2 1.41-.59l7.78-7.78 2.81-2.81c.8-.78.8-2.07 0-2.86zM5.41 20L4 18.59l7.72-7.72 1.47 1.35L5.41 20z\"/>\n",
       "  </svg>\n",
       "      </button>\n",
       "      \n",
       "  <style>\n",
       "    .colab-df-container {\n",
       "      display:flex;\n",
       "      flex-wrap:wrap;\n",
       "      gap: 12px;\n",
       "    }\n",
       "\n",
       "    .colab-df-convert {\n",
       "      background-color: #E8F0FE;\n",
       "      border: none;\n",
       "      border-radius: 50%;\n",
       "      cursor: pointer;\n",
       "      display: none;\n",
       "      fill: #1967D2;\n",
       "      height: 32px;\n",
       "      padding: 0 0 0 0;\n",
       "      width: 32px;\n",
       "    }\n",
       "\n",
       "    .colab-df-convert:hover {\n",
       "      background-color: #E2EBFA;\n",
       "      box-shadow: 0px 1px 2px rgba(60, 64, 67, 0.3), 0px 1px 3px 1px rgba(60, 64, 67, 0.15);\n",
       "      fill: #174EA6;\n",
       "    }\n",
       "\n",
       "    [theme=dark] .colab-df-convert {\n",
       "      background-color: #3B4455;\n",
       "      fill: #D2E3FC;\n",
       "    }\n",
       "\n",
       "    [theme=dark] .colab-df-convert:hover {\n",
       "      background-color: #434B5C;\n",
       "      box-shadow: 0px 1px 3px 1px rgba(0, 0, 0, 0.15);\n",
       "      filter: drop-shadow(0px 1px 2px rgba(0, 0, 0, 0.3));\n",
       "      fill: #FFFFFF;\n",
       "    }\n",
       "  </style>\n",
       "\n",
       "      <script>\n",
       "        const buttonEl =\n",
       "          document.querySelector('#df-b5bf2589-ea83-4f09-a193-96f281a39011 button.colab-df-convert');\n",
       "        buttonEl.style.display =\n",
       "          google.colab.kernel.accessAllowed ? 'block' : 'none';\n",
       "\n",
       "        async function convertToInteractive(key) {\n",
       "          const element = document.querySelector('#df-b5bf2589-ea83-4f09-a193-96f281a39011');\n",
       "          const dataTable =\n",
       "            await google.colab.kernel.invokeFunction('convertToInteractive',\n",
       "                                                     [key], {});\n",
       "          if (!dataTable) return;\n",
       "\n",
       "          const docLinkHtml = 'Like what you see? Visit the ' +\n",
       "            '<a target=\"_blank\" href=https://colab.research.google.com/notebooks/data_table.ipynb>data table notebook</a>'\n",
       "            + ' to learn more about interactive tables.';\n",
       "          element.innerHTML = '';\n",
       "          dataTable['output_type'] = 'display_data';\n",
       "          await google.colab.output.renderOutput(dataTable, element);\n",
       "          const docLink = document.createElement('div');\n",
       "          docLink.innerHTML = docLinkHtml;\n",
       "          element.appendChild(docLink);\n",
       "        }\n",
       "      </script>\n",
       "    </div>\n",
       "  </div>\n",
       "  "
      ],
      "text/plain": [
       "      Molecule ChEMBL ID                                        Smiles  \\\n",
       "37              CHEMBL39                        NCCc1c[nH]c2ccc(O)cc12   \n",
       "63              CHEMBL42         CN1CCN(C2=Nc3cc(Cl)ccc3Nc3ccccc32)CC1   \n",
       "64             CHEMBL715           Cc1cc2c(s1)Nc1ccccc1N=C2N1CCN(C)CC1   \n",
       "65            CHEMBL6607                      COc1cc(CC(C)N)c(OC)cc1Br   \n",
       "99              CHEMBL54  O=C(CCCN1CCC(O)(c2ccc(Cl)cc2)CC1)c1ccc(F)cc1   \n",
       "...                  ...                                           ...   \n",
       "19318           CHEMBL54  O=C(CCCN1CCC(O)(c2ccc(Cl)cc2)CC1)c1ccc(F)cc1   \n",
       "19319           CHEMBL54  O=C(CCCN1CCC(O)(c2ccc(Cl)cc2)CC1)c1ccc(F)cc1   \n",
       "19320           CHEMBL56                    CCCN(CCC)C1CCc2cccc(O)c2C1   \n",
       "19322           CHEMBL54  O=C(CCCN1CCC(O)(c2ccc(Cl)cc2)CC1)c1ccc(F)cc1   \n",
       "19332           CHEMBL42         CN1CCN(C2=Nc3cc(Cl)ccc3Nc3ccccc32)CC1   \n",
       "\n",
       "      Standard Type  Standard Value Standard Units  mean_value  \n",
       "37             EC50            2.34             nM      959.24  \n",
       "63               Ki            4.84             nM       15.20  \n",
       "64               Ki            2.50             nM       10.81  \n",
       "65               Ki           22.00             nM       31.49  \n",
       "99               Ki           27.00             nM       89.61  \n",
       "...             ...             ...            ...         ...  \n",
       "19318            Ki          108.00             nM       89.61  \n",
       "19319          IC50          129.00             nM       89.61  \n",
       "19320          IC50        10000.00             nM     7119.06  \n",
       "19322            Ki          164.00             nM       89.61  \n",
       "19332          IC50           24.00             nM       15.20  \n",
       "\n",
       "[947 rows x 6 columns]"
      ]
     },
     "execution_count": 22,
     "metadata": {},
     "output_type": "execute_result"
    }
   ],
   "source": [
    "# well-studied substances (tested for activity in more than 10 assays)\n",
    "\n",
    "frequent_bounders = df_selected.groupby('Molecule ChEMBL ID').filter(lambda x: len(x) > 10)\n",
    "frequent_bounders"
   ]
  },
  {
   "cell_type": "code",
   "execution_count": 23,
   "metadata": {
    "colab": {
     "base_uri": "https://localhost:8080/"
    },
    "execution": {
     "iopub.execute_input": "2022-03-25T00:56:52.321897Z",
     "iopub.status.busy": "2022-03-25T00:56:52.321318Z",
     "iopub.status.idle": "2022-03-25T00:56:52.328007Z",
     "shell.execute_reply": "2022-03-25T00:56:52.327435Z",
     "shell.execute_reply.started": "2022-03-25T00:56:52.321850Z"
    },
    "executionInfo": {
     "elapsed": 18,
     "status": "ok",
     "timestamp": 1651746815111,
     "user": {
      "displayName": "Konstantin KUTEYKIN TEPLYAKOV",
      "userId": "04703267818047594055"
     },
     "user_tz": -60
    },
    "id": "N5TMUpnD814r",
    "outputId": "1408695c-beec-4a08-9053-5068da0ac70c"
   },
   "outputs": [
    {
     "name": "stderr",
     "output_type": "stream",
     "text": [
      "/usr/local/lib/python3.7/dist-packages/pandas/core/frame.py:4913: SettingWithCopyWarning: \n",
      "A value is trying to be set on a copy of a slice from a DataFrame\n",
      "\n",
      "See the caveats in the documentation: https://pandas.pydata.org/pandas-docs/stable/user_guide/indexing.html#returning-a-view-versus-a-copy\n",
      "  errors=errors,\n"
     ]
    }
   ],
   "source": [
    "df_selected.drop(['Standard Type', 'Standard Value', 'Standard Units'], axis=1, inplace=True)"
   ]
  },
  {
   "cell_type": "code",
   "execution_count": 24,
   "metadata": {
    "colab": {
     "base_uri": "https://localhost:8080/"
    },
    "execution": {
     "iopub.execute_input": "2022-03-25T00:56:54.852009Z",
     "iopub.status.busy": "2022-03-25T00:56:54.851436Z",
     "iopub.status.idle": "2022-03-25T00:56:54.862237Z",
     "shell.execute_reply": "2022-03-25T00:56:54.861394Z",
     "shell.execute_reply.started": "2022-03-25T00:56:54.851976Z"
    },
    "executionInfo": {
     "elapsed": 16,
     "status": "ok",
     "timestamp": 1651746818152,
     "user": {
      "displayName": "Konstantin KUTEYKIN TEPLYAKOV",
      "userId": "04703267818047594055"
     },
     "user_tz": -60
    },
    "id": "dcdda4f3",
    "outputId": "394f4144-35fd-4898-97d5-b6d57f5a2b45"
   },
   "outputs": [
    {
     "name": "stderr",
     "output_type": "stream",
     "text": [
      "/usr/local/lib/python3.7/dist-packages/pandas/util/_decorators.py:311: SettingWithCopyWarning: \n",
      "A value is trying to be set on a copy of a slice from a DataFrame\n",
      "\n",
      "See the caveats in the documentation: https://pandas.pydata.org/pandas-docs/stable/user_guide/indexing.html#returning-a-view-versus-a-copy\n",
      "  return func(*args, **kwargs)\n"
     ]
    }
   ],
   "source": [
    "df_selected.drop_duplicates('Molecule ChEMBL ID', keep='first', inplace=True)"
   ]
  },
  {
   "cell_type": "code",
   "execution_count": 25,
   "metadata": {
    "colab": {
     "base_uri": "https://localhost:8080/",
     "height": 206
    },
    "executionInfo": {
     "elapsed": 18,
     "status": "ok",
     "timestamp": 1651746823452,
     "user": {
      "displayName": "Konstantin KUTEYKIN TEPLYAKOV",
      "userId": "04703267818047594055"
     },
     "user_tz": -60
    },
    "id": "EOHb4TxogF65",
    "outputId": "2bdd753c-1302-4fb6-827f-c2b065953891"
   },
   "outputs": [
    {
     "data": {
      "text/html": [
       "\n",
       "  <div id=\"df-63bf50c4-1781-4eb8-afc4-374e6ad364c5\">\n",
       "    <div class=\"colab-df-container\">\n",
       "      <div>\n",
       "<style scoped>\n",
       "    .dataframe tbody tr th:only-of-type {\n",
       "        vertical-align: middle;\n",
       "    }\n",
       "\n",
       "    .dataframe tbody tr th {\n",
       "        vertical-align: top;\n",
       "    }\n",
       "\n",
       "    .dataframe thead th {\n",
       "        text-align: right;\n",
       "    }\n",
       "</style>\n",
       "<table border=\"1\" class=\"dataframe\">\n",
       "  <thead>\n",
       "    <tr style=\"text-align: right;\">\n",
       "      <th></th>\n",
       "      <th>Molecule ChEMBL ID</th>\n",
       "      <th>Smiles</th>\n",
       "      <th>mean_value</th>\n",
       "    </tr>\n",
       "  </thead>\n",
       "  <tbody>\n",
       "    <tr>\n",
       "      <th>1</th>\n",
       "      <td>CHEMBL104</td>\n",
       "      <td>Clc1ccccc1C(c1ccccc1)(c1ccccc1)n1ccnc1</td>\n",
       "      <td>7162.5</td>\n",
       "    </tr>\n",
       "    <tr>\n",
       "      <th>2</th>\n",
       "      <td>CHEMBL4742201</td>\n",
       "      <td>CN(C)CCN1C(=O)c2ccccc2N(C)C(=O)c2ccccc21</td>\n",
       "      <td>100000.0</td>\n",
       "    </tr>\n",
       "    <tr>\n",
       "      <th>3</th>\n",
       "      <td>CHEMBL411</td>\n",
       "      <td>CC/C(=C(/CC)c1ccc(O)cc1)c1ccc(O)cc1</td>\n",
       "      <td>3079.5</td>\n",
       "    </tr>\n",
       "    <tr>\n",
       "      <th>6</th>\n",
       "      <td>CHEMBL900</td>\n",
       "      <td>Cc1ccccc1C(OCCN(C)C)c1ccccc1</td>\n",
       "      <td>280.5</td>\n",
       "    </tr>\n",
       "    <tr>\n",
       "      <th>11</th>\n",
       "      <td>CHEMBL55</td>\n",
       "      <td>N=C(N)c1ccc(OCCCCCOc2ccc(C(=N)N)cc2)cc1</td>\n",
       "      <td>1053.5</td>\n",
       "    </tr>\n",
       "  </tbody>\n",
       "</table>\n",
       "</div>\n",
       "      <button class=\"colab-df-convert\" onclick=\"convertToInteractive('df-63bf50c4-1781-4eb8-afc4-374e6ad364c5')\"\n",
       "              title=\"Convert this dataframe to an interactive table.\"\n",
       "              style=\"display:none;\">\n",
       "        \n",
       "  <svg xmlns=\"http://www.w3.org/2000/svg\" height=\"24px\"viewBox=\"0 0 24 24\"\n",
       "       width=\"24px\">\n",
       "    <path d=\"M0 0h24v24H0V0z\" fill=\"none\"/>\n",
       "    <path d=\"M18.56 5.44l.94 2.06.94-2.06 2.06-.94-2.06-.94-.94-2.06-.94 2.06-2.06.94zm-11 1L8.5 8.5l.94-2.06 2.06-.94-2.06-.94L8.5 2.5l-.94 2.06-2.06.94zm10 10l.94 2.06.94-2.06 2.06-.94-2.06-.94-.94-2.06-.94 2.06-2.06.94z\"/><path d=\"M17.41 7.96l-1.37-1.37c-.4-.4-.92-.59-1.43-.59-.52 0-1.04.2-1.43.59L10.3 9.45l-7.72 7.72c-.78.78-.78 2.05 0 2.83L4 21.41c.39.39.9.59 1.41.59.51 0 1.02-.2 1.41-.59l7.78-7.78 2.81-2.81c.8-.78.8-2.07 0-2.86zM5.41 20L4 18.59l7.72-7.72 1.47 1.35L5.41 20z\"/>\n",
       "  </svg>\n",
       "      </button>\n",
       "      \n",
       "  <style>\n",
       "    .colab-df-container {\n",
       "      display:flex;\n",
       "      flex-wrap:wrap;\n",
       "      gap: 12px;\n",
       "    }\n",
       "\n",
       "    .colab-df-convert {\n",
       "      background-color: #E8F0FE;\n",
       "      border: none;\n",
       "      border-radius: 50%;\n",
       "      cursor: pointer;\n",
       "      display: none;\n",
       "      fill: #1967D2;\n",
       "      height: 32px;\n",
       "      padding: 0 0 0 0;\n",
       "      width: 32px;\n",
       "    }\n",
       "\n",
       "    .colab-df-convert:hover {\n",
       "      background-color: #E2EBFA;\n",
       "      box-shadow: 0px 1px 2px rgba(60, 64, 67, 0.3), 0px 1px 3px 1px rgba(60, 64, 67, 0.15);\n",
       "      fill: #174EA6;\n",
       "    }\n",
       "\n",
       "    [theme=dark] .colab-df-convert {\n",
       "      background-color: #3B4455;\n",
       "      fill: #D2E3FC;\n",
       "    }\n",
       "\n",
       "    [theme=dark] .colab-df-convert:hover {\n",
       "      background-color: #434B5C;\n",
       "      box-shadow: 0px 1px 3px 1px rgba(0, 0, 0, 0.15);\n",
       "      filter: drop-shadow(0px 1px 2px rgba(0, 0, 0, 0.3));\n",
       "      fill: #FFFFFF;\n",
       "    }\n",
       "  </style>\n",
       "\n",
       "      <script>\n",
       "        const buttonEl =\n",
       "          document.querySelector('#df-63bf50c4-1781-4eb8-afc4-374e6ad364c5 button.colab-df-convert');\n",
       "        buttonEl.style.display =\n",
       "          google.colab.kernel.accessAllowed ? 'block' : 'none';\n",
       "\n",
       "        async function convertToInteractive(key) {\n",
       "          const element = document.querySelector('#df-63bf50c4-1781-4eb8-afc4-374e6ad364c5');\n",
       "          const dataTable =\n",
       "            await google.colab.kernel.invokeFunction('convertToInteractive',\n",
       "                                                     [key], {});\n",
       "          if (!dataTable) return;\n",
       "\n",
       "          const docLinkHtml = 'Like what you see? Visit the ' +\n",
       "            '<a target=\"_blank\" href=https://colab.research.google.com/notebooks/data_table.ipynb>data table notebook</a>'\n",
       "            + ' to learn more about interactive tables.';\n",
       "          element.innerHTML = '';\n",
       "          dataTable['output_type'] = 'display_data';\n",
       "          await google.colab.output.renderOutput(dataTable, element);\n",
       "          const docLink = document.createElement('div');\n",
       "          docLink.innerHTML = docLinkHtml;\n",
       "          element.appendChild(docLink);\n",
       "        }\n",
       "      </script>\n",
       "    </div>\n",
       "  </div>\n",
       "  "
      ],
      "text/plain": [
       "   Molecule ChEMBL ID                                    Smiles  mean_value\n",
       "1           CHEMBL104    Clc1ccccc1C(c1ccccc1)(c1ccccc1)n1ccnc1      7162.5\n",
       "2       CHEMBL4742201  CN(C)CCN1C(=O)c2ccccc2N(C)C(=O)c2ccccc21    100000.0\n",
       "3           CHEMBL411       CC/C(=C(/CC)c1ccc(O)cc1)c1ccc(O)cc1      3079.5\n",
       "6           CHEMBL900              Cc1ccccc1C(OCCN(C)C)c1ccccc1       280.5\n",
       "11           CHEMBL55   N=C(N)c1ccc(OCCCCCOc2ccc(C(=N)N)cc2)cc1      1053.5"
      ]
     },
     "execution_count": 25,
     "metadata": {},
     "output_type": "execute_result"
    }
   ],
   "source": [
    "df_selected.head()"
   ]
  },
  {
   "cell_type": "code",
   "execution_count": 26,
   "metadata": {
    "executionInfo": {
     "elapsed": 28,
     "status": "ok",
     "timestamp": 1651746831125,
     "user": {
      "displayName": "Konstantin KUTEYKIN TEPLYAKOV",
      "userId": "04703267818047594055"
     },
     "user_tz": -60
    },
    "id": "71uukVszgF67"
   },
   "outputs": [],
   "source": [
    "from rdkit.Chem import PandasTools\n",
    "PandasTools.RenderImagesInAllDataFrames(images=True)"
   ]
  },
  {
   "cell_type": "code",
   "execution_count": 27,
   "metadata": {
    "colab": {
     "base_uri": "https://localhost:8080/"
    },
    "executionInfo": {
     "elapsed": 6539,
     "status": "ok",
     "timestamp": 1651746842040,
     "user": {
      "displayName": "Konstantin KUTEYKIN TEPLYAKOV",
      "userId": "04703267818047594055"
     },
     "user_tz": -60
    },
    "id": "bNkRo-CogF69",
    "outputId": "9b7d65cf-8a6b-49c1-89a2-c125cc99ca05"
   },
   "outputs": [
    {
     "name": "stderr",
     "output_type": "stream",
     "text": [
      "/usr/local/lib/python3.7/dist-packages/rdkit/Chem/PandasTools.py:449: SettingWithCopyWarning: \n",
      "A value is trying to be set on a copy of a slice from a DataFrame.\n",
      "Try using .loc[row_indexer,col_indexer] = value instead\n",
      "\n",
      "See the caveats in the documentation: https://pandas.pydata.org/pandas-docs/stable/user_guide/indexing.html#returning-a-view-versus-a-copy\n",
      "  frame[molCol] = frame[smilesCol].map(Chem.MolFromSmiles)\n"
     ]
    }
   ],
   "source": [
    "PandasTools.AddMoleculeColumnToFrame(df_selected,'Smiles','MOL',includeFingerprints=False)"
   ]
  },
  {
   "cell_type": "code",
   "execution_count": 28,
   "metadata": {
    "colab": {
     "base_uri": "https://localhost:8080/",
     "height": 1000
    },
    "executionInfo": {
     "elapsed": 596,
     "status": "ok",
     "timestamp": 1651746854110,
     "user": {
      "displayName": "Konstantin KUTEYKIN TEPLYAKOV",
      "userId": "04703267818047594055"
     },
     "user_tz": -60
    },
    "id": "Y6ifuK7rgF6-",
    "outputId": "95579b7e-f1e7-4213-9be9-41d5a3b68871"
   },
   "outputs": [
    {
     "data": {
      "text/html": [
       "\n",
       "  <div id=\"df-120a3755-8ce3-4ba0-9754-4fef62709c1d\">\n",
       "    <div class=\"colab-df-container\">\n",
       "      <div>\n",
       "<style scoped>\n",
       "    .dataframe tbody tr th:only-of-type {\n",
       "        vertical-align: middle;\n",
       "    }\n",
       "\n",
       "    .dataframe tbody tr th {\n",
       "        vertical-align: top;\n",
       "    }\n",
       "\n",
       "    .dataframe thead th {\n",
       "        text-align: right;\n",
       "    }\n",
       "</style>\n",
       "<table border=\"1\" class=\"dataframe\">\n",
       "  <thead>\n",
       "    <tr style=\"text-align: right;\">\n",
       "      <th></th>\n",
       "      <th>Molecule ChEMBL ID</th>\n",
       "      <th>Smiles</th>\n",
       "      <th>mean_value</th>\n",
       "      <th>MOL</th>\n",
       "    </tr>\n",
       "  </thead>\n",
       "  <tbody>\n",
       "    <tr>\n",
       "      <th>1</th>\n",
       "      <td>CHEMBL104</td>\n",
       "      <td>Clc1ccccc1C(c1ccccc1)(c1ccccc1)n1ccnc1</td>\n",
       "      <td>7162.5</td>\n",
       "      <td style=\"text-align: center;\"><img data-content=\"rdkit/molecule\" src=\"data:image/png;base64,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\" alt=\"Mol\"/></td>\n",
       "    </tr>\n",
       "    <tr>\n",
       "      <th>2</th>\n",
       "      <td>CHEMBL4742201</td>\n",
       "      <td>CN(C)CCN1C(=O)c2ccccc2N(C)C(=O)c2ccccc21</td>\n",
       "      <td>100000.0</td>\n",
       "      <td style=\"text-align: center;\"><img data-content=\"rdkit/molecule\" src=\"data:image/png;base64,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\" alt=\"Mol\"/></td>\n",
       "    </tr>\n",
       "    <tr>\n",
       "      <th>3</th>\n",
       "      <td>CHEMBL411</td>\n",
       "      <td>CC/C(=C(/CC)c1ccc(O)cc1)c1ccc(O)cc1</td>\n",
       "      <td>3079.5</td>\n",
       "      <td style=\"text-align: center;\"><img data-content=\"rdkit/molecule\" src=\"data:image/png;base64,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\" alt=\"Mol\"/></td>\n",
       "    </tr>\n",
       "    <tr>\n",
       "      <th>6</th>\n",
       "      <td>CHEMBL900</td>\n",
       "      <td>Cc1ccccc1C(OCCN(C)C)c1ccccc1</td>\n",
       "      <td>280.5</td>\n",
       "      <td style=\"text-align: center;\"><img data-content=\"rdkit/molecule\" src=\"data:image/png;base64,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\" alt=\"Mol\"/></td>\n",
       "    </tr>\n",
       "    <tr>\n",
       "      <th>11</th>\n",
       "      <td>CHEMBL55</td>\n",
       "      <td>N=C(N)c1ccc(OCCCCCOc2ccc(C(=N)N)cc2)cc1</td>\n",
       "      <td>1053.5</td>\n",
       "      <td style=\"text-align: center;\"><img data-content=\"rdkit/molecule\" src=\"data:image/png;base64,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\" alt=\"Mol\"/></td>\n",
       "    </tr>\n",
       "    <tr>\n",
       "      <th>...</th>\n",
       "      <td>...</td>\n",
       "      <td>...</td>\n",
       "      <td>...</td>\n",
       "      <td>...</td>\n",
       "    </tr>\n",
       "    <tr>\n",
       "      <th>19229</th>\n",
       "      <td>CHEMBL307717</td>\n",
       "      <td>CN1CCN(C2CC(c3ccc(F)cc3)c3ccc(F)cc32)CC1</td>\n",
       "      <td>7.7</td>\n",
       "      <td style=\"text-align: center;\"><img data-content=\"rdkit/molecule\" src=\"data:image/png;base64,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\" alt=\"Mol\"/></td>\n",
       "    </tr>\n",
       "    <tr>\n",
       "      <th>19237</th>\n",
       "      <td>CHEMBL428999</td>\n",
       "      <td>Brc1ccc2c3c([nH]c2c1)C=NCC3</td>\n",
       "      <td>1330.0</td>\n",
       "      <td style=\"text-align: center;\"><img data-content=\"rdkit/molecule\" src=\"data:image/png;base64,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\" alt=\"Mol\"/></td>\n",
       "    </tr>\n",
       "    <tr>\n",
       "      <th>19273</th>\n",
       "      <td>CHEMBL4759887</td>\n",
       "      <td>CN1CCc2ccc(OCCCCN3CCN(c4cccc(Cl)c4Cl)CC3)cc2C1=O</td>\n",
       "      <td>215.9</td>\n",
       "      <td style=\"text-align: center;\"><img data-content=\"rdkit/molecule\" src=\"data:image/png;base64,iVBORw0KGgoAAAANSUhEUgAAAMgAAADICAIAAAAiOjnJAAAABmJLR0QA/wD/AP+gvaeTAAATQElEQVR4nO3de1RU1R4H8B8DKA9xVMQHMPgIr4qaioqg+ADRXDfUNNFSSWGVZOuuSfExiOKoBBK0DCstu91bo0nKLQ0R6wr5CNJcV/CikCipICAPX8wQMMM8fvePTXMRBWYOs1dqv89fLJzfPmeY75yzz9l7H60QEQixNNEfvQPk2UTBIlxQsAgXFCzCBQWLcEHBIlxQsAgXFCzCBQWLcEHBIlxQsAgXFCzCBQWLcEHBIlxQsAgXFCzCBQWLcEHBIlxQsAgXFCzCBQWLcEHBIlxQsAgXFCzCBQWLcEHBIlxQsAgXFCzCBQWLcEHBIlxQsAgXFCzCBQWLcEHBIlxQsAgXFCzCBQWLcEHBIlxQsAgXFCzCBQWLcEHBIlxQsAgXFCzCBQWLcEHBIlxQsAgXFCzCBQWLcEHBIlxQsAgXFCzCBQWLcEHBIlxQsAgXFCzCBQWLcEHBIlxQsAgXFCzCBQWLcEHBIlxQsAgXFCzCBQWLcEHBIlxQsAgXFCzCBQWLcEHBIlxQsAgXFCzCBQWLcEHBIlxQsAgXFCzCBQWLcEHBIlzYWLg9gwF274baWpBIYMUKCzdOnh6WPmJ9+y1IJBATAyoVXLhg4cbJ08PSwbp6FcaOBQAYOxaKiizc+LNOqVSGhYVt3bp15syZ6enpiPhH71EnoGUdP4779iEixsdjQYGFG3+m/fzzz4MGDQIAR0dH9tGMGTPmiy++UKvVFtzKlcYr71S+c/jB4fer37dgs4+ydLAQcd8+jI3F1FQsLrZ840+877//Picn55NPPqmvrzexxGAwJCcnd+nSBQDGjRt3/vz5hIQEd3d3Fq8+ffrIZLLy8vLO71ujvvHVG6+qDeqLDRfXlK3pfIPtsHSwjhzB55/H6Gi0sUGRCDUaC7f/BNNqtXK5XCQSeXh4AIBYLJZKpaWlpe1X1dTgX/+KEyfGW1lZSaVSze9/MY1Gk5qa6uvry+LVpUuXkJCQ8+fPd2YPrzReea/qPfZzZFlkZ5rqkKWDlZqKALhgAUokCIAlJRZunz+VSqVUKm/cuGFWVXFx8fjx4wHA1tb2tdde8/PzY4GwtbWNjPy1rTxkZWH//giAQ4boMjK+f+xrTp8+PX/+fJGouTccGBh47Ngxc98U80D34G+3/sZ+ftqCde4cAqCPD/r5IQDm5Fi4fVPU12NODlZVCSi9cOGCp6fn7NmzRSJRcHBwZmamKVVff/11jx49AGDAgAE//fSTsanQ0FB3dx9bWwTAceNQoUCt9v9VW7agSIQAGBCAFRUdbOLGjRsymaxnz54AMGvWrKKiIgHvDhEP3DsQczsmtjJ2d81uYS2YyNLBKitDAHR1xZAQBMCvvrJw+x2qr8cVK/DkSVyzBvPyTK8zGAw7d+5kHZ3+/ft37dqVHSG8vb337dunaeOc3tDQIJVK2SsXLFhw//79Vi8oL1dHRWGvXgiAADhpErq74/37eOAARkSgtTXK5ajTmbqTSqVy0aJFAPD666+b/tZaKlYX+1/1X3B9gbBy01k6WDodOjo2DRxYtWXLjcmTCz/5xMLtdygzE//1L0TEu3cxOtrEojt37gQHB7N8rFy5Uq1WV1dXJyQkuLm5sV/27dtXJpNVPHxgKSwsHDVqFADY2dklJye3075ajQoFjhiB8fG4fDnKZHjgAJ49i7m5Zr+/jIwMAJg9e7bZlYiIWNZUBrngeslVWLnpLH9VyC5nYmJiAODtt9+2ePvt+e03zMnBL75ARCwpwe3b0c8PpVK8daudotOnT7MAicXi1NTUlv/EetATJ05k8eratWtoaGh+fj4iKhQKBwcHABg+fDj7TYcMBmxsxPXr8aOPcPVq/PlnIW8xPz8fAEaMGCGkGFFn0Nnk2YhyRU2GJmEtmMjywWL91tjYWAB4+eWXBbSQl5d35swZmUx28+ZNM8oOH0YXF8zORqkUd+7EiAg8fLj5DNSlCy5dqv/Pf1pV6HQ6uVxubW0NABMnTmynw37y5Ml58+YZe9ASicR4eGtoaDB9H/V6XL8edTr09RUYrPv377PvgJBiRER0v+QOuVCi4XtdZflghYSEGIPl4+NjbrlCobC3t2e9VFN70A0NuHJlc4akUkRE4z2kCxcwNBRtbRFg2/Tp48aNUygUWq0WEcvKyqZOnQoA7Dq/qanjb/D169dlMlmPHj0CAgLEYnFKSoq5785gwIICPHIEk5Kwttbc6mbTp4dNnx6tUpncNXvYtKJpAy8OPFtzVuDmf6c1aA1oaOtfLR+sNWvWAMDatWsBwNXVjHN5bW0tCyUAzJkzZ8mSJcYe9Pjx47/88svH9qALCwu1vr4IgHZ2uGfP45u+dQs3bBg+ZAhrbeDAgeHh4b169WJ7ePLkSbPeYG1tbXl5ea3QXKjVaGWFXbqgXi+sARw6FAHwl18ElrM/8sGDB4WVX2q4tKF8Q3RFdEJlQrG6zXvglg/Wnj17XFxc2OiEq6trcnKyKfegjQMaYrE4MTGxsLAQEVkP2tXV1diDlsvld+7cMVYpFApHR8ckX18cNgwvXmx/E42NjQqFwsvLCwB69+4NAEFBQZWVlZ18vwL06YMAKHjLM2YgAP773wLLIyMjASApKUlY+Ws3X9MatBqD5qOajwQGS2/+d+rw4cPsLNa7d+++ffuyQLi4uMTExNy+ffuxJWxAw9bWlp0633vvPQcHBy8vL2McNRqNQqF4/vnnW/agz50798orr7DfhIWFaX77zcQ91Ov1x44dO3LkyDfffGMwtHkk58rbGwHwkS6fqVasQAD8xz8Elu/cuVPwdZUBDa+XNt/p2F2zW0iwVCqVRCKRSqUlpt09b2zEzZtT2Cc9d+7cu3fvNjU1paamTpo0qeWgxLlz51pWVVdXv/DCC6yjExERMX/+/HY6xVlZWcHBwawHzXrcTk5OBw4cMGX3nijz5iEAHj4ssHzzZgTArVsFlh86dAgAZs6caVaVSqdadnPZ1ttb3yh9o6qpSqVT7areJSRYKSnNKbGxsQkJCfnpp3NtvRIRi4pwzBh0cdG7u49PTk5udSRg96BtbJonFRp70JmZmf369WPjrLt27Ro8eDAAdO/evf1O8bVr18LCwhwcHLp161b8dI5zb936/dSpqz77LF1YeUoKKhR4+TKaddHM1NTUTJkypU+fPlZWVuyDMOWqJbc+d0jBEMgF8X/F19XX3616N74yPkuVdU97r62S9k6Fubm5K1eutLOzA4Bp07719kaFAh/djc8/R0dHBMC//AXz8tqc41FSUrJu3To29MHOlVZWVmyAIjY2lp0Kx48f/+uvv3b4Ppuamqytra2trbUth0ieHjt27ACADRs2CCufPx//+U+sqsK4OPMKT5w4wfonYrHY+EFIJJKEhIR79x4fEYPBsLtid9e8rpALY6+Mvaq+auK2Ou68V1RUREdHjx6tZpfzbm64YwceO4Z37yIibt/efJkfGooqVcfbq6ur27t37/Dhw8VisaOjo1wu37hxIzsVrl+/vsNvz6lTp7y8vMLDw1mPvqyszKR3+YTZv38/ACxZskRY+dq1uHYtFhRgXBw2NppUYpx5AQABAQEVFRUVFRVJSUkjR45s2XMteHgKHRuQGB0xWpQrCr0Z2qA3446dqVeFbFBi1CgEQJEIly1DmQwRUSrFGTOw3fGMx9Dr9fb29gBQV1dXVVU1atSojIwMUwqzs7MBwM/Pz8fHBwBa9dieFqdOnQKAqVOnmltYV4eFhbh2LVZX44oVuGUL9u6NISHY/mya0tLSyZMns16NXC7X6XSIuGnTJpFIFBQUlJCQEBwczM4eVlZWQUFBR48eNRgMZ86cYYMovXr1On7luLm7at7tBoMBT5zAuDiMjMS//x1//BFXrzZ3i82GDBkCAGyU3vSrs5KSEnb0XrBgAQC0GoF5WhQXFwNAz549zZpfVVCAI0eiuzu+9RYi4scf49KlzfMjADAwENPTNY9eyB85coTdsZNIJD/++KPx9+vXr2edHAAYM2ZMfHz8G2+8wQapAMDNzY1dHvn7+99qd0CsLQLvY0VGol6PERHNN7oFCAgIAICsrCyzqoy9KzanYOfOnQI3/4fSaDSfffZZy0uZ9vsABgN++CHa2SEAjhqFLXuhN26gTIY9eyIATpuWNHjw4ISEhAcPHiBiY2OjcebFvHnzHu1F1dTUtJqqunr16m3btkkkEicnJzs7OxMHJB5LYLDeeQcRMTfX9AkErYWGhgLA559/bm5h//79AWDz5s0AEBnJd7YaP5WVlVFRUexYAgAeHh6JiYmPzrpBxHv37kml+eywtGoVPnZkUqnE5GT08wtgrYnF4rCwMHYr2M7O7sMPP2znnNBqqmpiYmJTUxM7mP1m8t3BRwm/8x4Xhz4+eOKEwPLo6GgAiI2NNbdwwoQJALB9+3YAWLRokcDNPxnUarVCoRgxYgT7UO3s7EJDQ9moA3P+/PlBgwZ17drdx0f19dcdtKbX648ePRoUFAQAIpHIxsZm6NChFzsakDA6c+bM4sWLWbg9PT0B4OpVU68BHyU8WG++iQC4W+g8xD179gBARESEuYWsd8UGuf38/ARu/gmTnZ3dqgedlpb2/vvvs7swEyZMuH79uumt5eXlsaU+5k0PaUFYR6Ul4esK2am5vFxwuTsAlJtfzwq1Wq2w8ieTv79/enp6QUHBypUr7e3ts7Ky5s2bt2bNGr1eHxUVdfbsWXb32ERjx45lh5ycnJyXXnpJLpebuz+CPx0j4UvsLRKssrIycwunTJlSV1fn4+NjbW19+/ZtvV7Prl+eAV5eXnv37o2Pj//0008zMjImTZoUFBQ0a9YsAU1JJJL8/PySkpK0tDSlUmluueBPx0h4sNhct5qaBgAHQeUSEPSdWLhw4cKFCxsbG7t166ZUKquqqowTiJ8Nzs7OGzduZPeNBWPJ0Ol0ICgfrLyiokLwDgg/FUokpQ4OjtevjxZW7uzsbG9vf//+/fr6ep1ON2vWrI8//ri+vt6U2itXrkycOFGpVG7bto2NNpJWWDLY35MtdjWrnH3tO3PEEh4sNzeXhoYGATvNWFlZsXGr/Pz89PT0zMzMt956y8PDIyoqqv33s2/fvgkTJly+fHno0KFz5859Zs6DlsWCVV1d7ezsrNFo7t69K6C8U11Ywd1+RGS3YVrOvDMRm4NlbW3dr18/W1vbhQsXJiUlsetk+H1Gcs4jaxJVKtXSpUvZa0JDQ+vq6jqz88+2H374AQCmT58+evRoAMgzZyUcItbU1ABAr169BO9Ap4LFJt+Zu9OVlZUzZsxgARo5cqTxkDN16tTExMRXX32VXWMDwJQpU3S/L7pjS0kBwMnJaf/+/Z3Z7T+Dq1evAoCnpydb1paWlmZiIXsGicFgYIO5pj+BopVOBSs8PNzNzW3YsGEmTutBxKysLHbr3MXF5fjx44hYUVEhl8uN96AHDRq0adMmmUzWu3fvZcuW4cPPzPD29r527Vpn9vlPgvWu7Ozs3nzzTQDYbdr9xlOnTkkkErZ6hc0UF3yPtFPB0uv17CjCzso7duxoa1oPPjxzIzAwsNXiT+N0Gtaak5NTeHh4Tk6OcSkpW0tj2Wf6PNvYd/Xdd9/19/f/qqMl6VqtNiYmhp09Fi9ezCaLL1++vErQkwqw84sp2KAEWxAMv0/ruXz5cquXlZaWsjnKbOZGW7Pp2aAEO1Gyc2X37t0BwNnZ2fSDOWFM710ZV8KJRCKpVDpnzhz295fL5YK3brFVOtnZ2SEhIcYO0+TJk9m0HmyxwsLDwyM7O9uU1oqKiqRSqb29/aJFi3x9fc199gtBxCVLlvTp02f06NGpqam6tp8PkZaW5uzsDAB9+/bdtWuXca3UoUOHOrN1Cy//KioqWrVqlfGZdMOHDw8MDGQ/P/aZGe2rrq7WaDTt/FFIOwwGg3EgyNPT84MPPlA9PMdXp9NJpVI2QPniiy/GxcUZ10p1/pvM4Yl+iEqlMjk5ecCAAQDg5eXV4TMzCCcqlWrv3r3Dhg0z9lylUmnLkWm2yGXdunUzZ84EcxaFd4hLsBitVnvw4MFffvnl0qVL/LZCOqTX6zMzM42zJ1o+uEClUu3Zs8e4Vuq7776z1EY5Bos8afLy8pYvX97y0V/GtM2ePbu6utqC26Jg/em0fPTXc8891/51umBW+FQ/TJwIpVarU1JSvL29m5qa2JIny6JgES7oP2kiXFCwCBcULMIFBYtwQcEiXFCwCBcULMIFBYtwQcEiXFCwCBcULMIFBYtwQcEiXFCwCBcULMIFBYtwQcEiXFCwCBcULMIFBYtwQcEiXFCwCBcULMIFBYtwQcEiXFCwCBcULMIFBYtwQcEiXFCwCBcULMIFBYtwQcEiXFCwCBcULMIFBYtwQcEiXFCwCBcULMIFBYtwQcEiXFCwCBcULMIFBYtwQcEiXFCwCBcULMIFBYtwQcEiXFCwCBcULMIFBYtwQcEiXFCwCBcULMIFBYtwQcEiXFCwCBcULMIFBYtwQcEiXFCwCBcULMIFBYtwQcEiXFCwCBcULMIFBYtwQcEiXFCwCBcULMIFBYtwQcEiXFCwCBcULMIFBYtwQcEiXPwPsqGBCiaUIAwAAAIyelRYdHJka2l0UEtMIHJka2l0IDIwMjIuMDMuMgAAeJx7v2/tPQYg4GWAAEYglgdiJSBuYGRjSACJMbMzaABpZmYIn4kJTjuAxVnYHDLA8oxIDIgMB0QnE4ZONJqdQQGkDlMYajEei9BsFASbhMHFcDmaNjYGVAdzA4OCkYmBiRkoxsDCmsHEypbAxp7BxM6hwMHJwMnFwMXNwM3DwMPLwMvHwMfPwC/AICCoICiUwSQknCAsksEkIpogKsYgKp7BJC7BICDJICnFwC6dIC2TwSQjqyArp8Eky6ggw5IgxcsgLpggwsLGKCvDAgwnVjZ2aRkWNj5+AUkpXjYhYRFRcUHxOkZIzICBPJewyUGhW9vtQBxlCbmD74Ur94HYHsXSBwO/390PYidWsB7U6hA9AGKvcnlyoDlkJ1j8rt+OA4fNmMHixxZNPLBl4xSweO2baQeqelaAzTzdkHDg/b3Z9iC2wVSOA7e6ZcFs9i85+/c1HgCzz5U8tSu7mAZm9/Nese9ReQpmJ39ydOjkngFmX2z1cVBTnQ122zaLSQ4zjqSD7Tr7ZIfDtXmde0Ds2beeOPyukwOLB6m8ctDgYge7TYCX23HVNF0wWzpZzrGp8CVYjcM+acd9RavAZnqL6Ds62fGB7Yo8zOro87ET7P46OWZHtcCHYHGx2ZsdItbtAbM9l7Y7rH3M4gBiez06dMCpIg8sntj38gA3l4EtiC1xiOvgUiNVsPjnNN6Dwts5wOrFADfQkLyTptgxAAAC43pUWHRNT0wgcmRraXQgMjAyMi4wMy4yAAB4nH1VW24bMQz89yl0AQviQ6T4mdhBURRxgDbtHQr0s/dHhzKidQChay+xK89Ss0MOfSp5fL9++/23rIOvp1Mp7T/fiCi/pLV2ei15UZ5fvny9lcv70/PHyuXt5+39RxEqongGn8/Yp/e3148VKpdyJqrc1XSUVqVHG4aLNo/jWS63co46Rhsh5dwqq7C2DVIyZ1SnbqrIXl2UaIfURI6Kn8eIcuYqYiq73XsivZKIDM6cqj6CN0hLZK/ew9gzZ+uNyTdIT6TW3om4ZU4yMpcNctyRTiY2ReKg2KWM8lbOUnvzYVQgK7krbYCQ45LkCO/e8oWNulLfIWeJWg3uHbUnJJfosUMykA3KDOpJLhr46g6YFaJq3cwUFw6kjx1QUXSpTZpSbk3DR9+JTlkfqRRI6clW8AxtU2Z9ILqF8myjaF10y9KxOQrpHrgDEq/jsX3xrA+ao5ONnkijIN6KGRMpZCEy9U9D7ZCcBRrVotm9NZ1YeFdKzgLBGIGesGyjwQLSOyRPpIsEvJYqoZHaFokK/UGTVKikPfn13k12grJOomKNph8YytJOJQiCnANF0tBZdms8tsisUYeKbDAbvObafPvqPovJAitagdXcJLbDYzrIakOncToshDrvOonj7nSOYTJnhnJsm1PafXqYY/9pIe1o1B2S0pajDvE0RLrOyHfIl9v103i8D8znt9v1GJj54WMq4qbIMfowdIse841w9mOI4abYMakUpx/jSHGOY+YQzjgmC+X5OEBoBnoYFDTDIkfJLsPiR0kww6JIyTHDYgkv0wyLKDxLMyyu8CbNsOjCg5qBFmM0oWbgR09pBl6cOfVB4EPQqSjDAQ9e0LmyOHNyRuDFmfudDy/OnJyzKRdnToEHWvGhKTUDL8qcKiPIY5NxmS300Ew0l9cCZ5o4yiwpMnY7REbT6WS99s5Ge2yrvP/4D8f16R+4e4Cq2JxOBwAAAXF6VFh0U01JTEVTIHJka2l0IDIwMjIuMDMuMgAAeJwdkUtu5EAMQ6+SZTdgC/qrhMasvE8OUds5Qg4fqgzYMJ5pimI93/I8W/fer58H17fhfm3fQ57/7+14PI+999ZH/v18/b5uEdLwvJgsmlden7tpLV593Uzqpn5QSaRft1CZiwAtwsuolMzSR1UkZrZG5V749rmDKjptVBysCuQUIaKjkpSsg0rSakJoSw8yCi7EQTypGneF+4xmSgmXAGJqjeiGKtga4RmTl8RYNcMTPwplZI5TAa3rY8TGrgCyasUA6UAQ+Bk+jQYhs6GZERw262GVqrZBcK5uMGwckqeqlBaNQQZyNhZuZPssyuY8TZWooQM03H0aWGq1BpRZx0mAChgNCCY7DBl1RaJV+FiyNIgimxxnaUcOrJasPRlTNBeAl4+Lk9pCGtRfOS0mMVrQ6cckzoEUaS+cEfZy7Vp2TjdLbWalB9o6aFnlWIml1PX+/QM/MH/xJ/E91QAAAABJRU5ErkJggg==\" alt=\"Mol\"/></td>\n",
       "    </tr>\n",
       "    <tr>\n",
       "      <th>19310</th>\n",
       "      <td>CHEMBL494678</td>\n",
       "      <td>CN1CCN(c2cc(-c3ccc(C#N)cc3)nc(N)n2)CC1</td>\n",
       "      <td>4100.0</td>\n",
       "      <td style=\"text-align: center;\"><img data-content=\"rdkit/molecule\" src=\"data:image/png;base64,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\" alt=\"Mol\"/></td>\n",
       "    </tr>\n",
       "    <tr>\n",
       "      <th>19327</th>\n",
       "      <td>CHEMBL141209</td>\n",
       "      <td>COC1Cc2ccccc2C2(CCN(Cc3ccccc3)CC2)O1</td>\n",
       "      <td>6600.0</td>\n",
       "      <td style=\"text-align: center;\"><img data-content=\"rdkit/molecule\" src=\"data:image/png;base64,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\" alt=\"Mol\"/></td>\n",
       "    </tr>\n",
       "  </tbody>\n",
       "</table>\n",
       "<p>9645 rows × 4 columns</p>\n",
       "</div>\n",
       "      <button class=\"colab-df-convert\" onclick=\"convertToInteractive('df-120a3755-8ce3-4ba0-9754-4fef62709c1d')\"\n",
       "              title=\"Convert this dataframe to an interactive table.\"\n",
       "              style=\"display:none;\">\n",
       "        \n",
       "  <svg xmlns=\"http://www.w3.org/2000/svg\" height=\"24px\"viewBox=\"0 0 24 24\"\n",
       "       width=\"24px\">\n",
       "    <path d=\"M0 0h24v24H0V0z\" fill=\"none\"/>\n",
       "    <path d=\"M18.56 5.44l.94 2.06.94-2.06 2.06-.94-2.06-.94-.94-2.06-.94 2.06-2.06.94zm-11 1L8.5 8.5l.94-2.06 2.06-.94-2.06-.94L8.5 2.5l-.94 2.06-2.06.94zm10 10l.94 2.06.94-2.06 2.06-.94-2.06-.94-.94-2.06-.94 2.06-2.06.94z\"/><path d=\"M17.41 7.96l-1.37-1.37c-.4-.4-.92-.59-1.43-.59-.52 0-1.04.2-1.43.59L10.3 9.45l-7.72 7.72c-.78.78-.78 2.05 0 2.83L4 21.41c.39.39.9.59 1.41.59.51 0 1.02-.2 1.41-.59l7.78-7.78 2.81-2.81c.8-.78.8-2.07 0-2.86zM5.41 20L4 18.59l7.72-7.72 1.47 1.35L5.41 20z\"/>\n",
       "  </svg>\n",
       "      </button>\n",
       "      \n",
       "  <style>\n",
       "    .colab-df-container {\n",
       "      display:flex;\n",
       "      flex-wrap:wrap;\n",
       "      gap: 12px;\n",
       "    }\n",
       "\n",
       "    .colab-df-convert {\n",
       "      background-color: #E8F0FE;\n",
       "      border: none;\n",
       "      border-radius: 50%;\n",
       "      cursor: pointer;\n",
       "      display: none;\n",
       "      fill: #1967D2;\n",
       "      height: 32px;\n",
       "      padding: 0 0 0 0;\n",
       "      width: 32px;\n",
       "    }\n",
       "\n",
       "    .colab-df-convert:hover {\n",
       "      background-color: #E2EBFA;\n",
       "      box-shadow: 0px 1px 2px rgba(60, 64, 67, 0.3), 0px 1px 3px 1px rgba(60, 64, 67, 0.15);\n",
       "      fill: #174EA6;\n",
       "    }\n",
       "\n",
       "    [theme=dark] .colab-df-convert {\n",
       "      background-color: #3B4455;\n",
       "      fill: #D2E3FC;\n",
       "    }\n",
       "\n",
       "    [theme=dark] .colab-df-convert:hover {\n",
       "      background-color: #434B5C;\n",
       "      box-shadow: 0px 1px 3px 1px rgba(0, 0, 0, 0.15);\n",
       "      filter: drop-shadow(0px 1px 2px rgba(0, 0, 0, 0.3));\n",
       "      fill: #FFFFFF;\n",
       "    }\n",
       "  </style>\n",
       "\n",
       "      <script>\n",
       "        const buttonEl =\n",
       "          document.querySelector('#df-120a3755-8ce3-4ba0-9754-4fef62709c1d button.colab-df-convert');\n",
       "        buttonEl.style.display =\n",
       "          google.colab.kernel.accessAllowed ? 'block' : 'none';\n",
       "\n",
       "        async function convertToInteractive(key) {\n",
       "          const element = document.querySelector('#df-120a3755-8ce3-4ba0-9754-4fef62709c1d');\n",
       "          const dataTable =\n",
       "            await google.colab.kernel.invokeFunction('convertToInteractive',\n",
       "                                                     [key], {});\n",
       "          if (!dataTable) return;\n",
       "\n",
       "          const docLinkHtml = 'Like what you see? Visit the ' +\n",
       "            '<a target=\"_blank\" href=https://colab.research.google.com/notebooks/data_table.ipynb>data table notebook</a>'\n",
       "            + ' to learn more about interactive tables.';\n",
       "          element.innerHTML = '';\n",
       "          dataTable['output_type'] = 'display_data';\n",
       "          await google.colab.output.renderOutput(dataTable, element);\n",
       "          const docLink = document.createElement('div');\n",
       "          docLink.innerHTML = docLinkHtml;\n",
       "          element.appendChild(docLink);\n",
       "        }\n",
       "      </script>\n",
       "    </div>\n",
       "  </div>\n",
       "  "
      ],
      "text/plain": [
       "      Molecule ChEMBL ID                                            Smiles  \\\n",
       "1              CHEMBL104            Clc1ccccc1C(c1ccccc1)(c1ccccc1)n1ccnc1   \n",
       "2          CHEMBL4742201          CN(C)CCN1C(=O)c2ccccc2N(C)C(=O)c2ccccc21   \n",
       "3              CHEMBL411               CC/C(=C(/CC)c1ccc(O)cc1)c1ccc(O)cc1   \n",
       "6              CHEMBL900                      Cc1ccccc1C(OCCN(C)C)c1ccccc1   \n",
       "11              CHEMBL55           N=C(N)c1ccc(OCCCCCOc2ccc(C(=N)N)cc2)cc1   \n",
       "...                  ...                                               ...   \n",
       "19229       CHEMBL307717          CN1CCN(C2CC(c3ccc(F)cc3)c3ccc(F)cc32)CC1   \n",
       "19237       CHEMBL428999                       Brc1ccc2c3c([nH]c2c1)C=NCC3   \n",
       "19273      CHEMBL4759887  CN1CCc2ccc(OCCCCN3CCN(c4cccc(Cl)c4Cl)CC3)cc2C1=O   \n",
       "19310       CHEMBL494678            CN1CCN(c2cc(-c3ccc(C#N)cc3)nc(N)n2)CC1   \n",
       "19327       CHEMBL141209              COC1Cc2ccccc2C2(CCN(Cc3ccccc3)CC2)O1   \n",
       "\n",
       "       mean_value                                                MOL  \n",
       "1          7162.5  <img data-content=\"rdkit/molecule\" src=\"data:i...  \n",
       "2        100000.0  <img data-content=\"rdkit/molecule\" src=\"data:i...  \n",
       "3          3079.5  <img data-content=\"rdkit/molecule\" src=\"data:i...  \n",
       "6           280.5  <img data-content=\"rdkit/molecule\" src=\"data:i...  \n",
       "11         1053.5  <img data-content=\"rdkit/molecule\" src=\"data:i...  \n",
       "...           ...                                                ...  \n",
       "19229         7.7  <img data-content=\"rdkit/molecule\" src=\"data:i...  \n",
       "19237      1330.0  <img data-content=\"rdkit/molecule\" src=\"data:i...  \n",
       "19273       215.9  <img data-content=\"rdkit/molecule\" src=\"data:i...  \n",
       "19310      4100.0  <img data-content=\"rdkit/molecule\" src=\"data:i...  \n",
       "19327      6600.0  <img data-content=\"rdkit/molecule\" src=\"data:i...  \n",
       "\n",
       "[9645 rows x 4 columns]"
      ]
     },
     "execution_count": 28,
     "metadata": {},
     "output_type": "execute_result"
    }
   ],
   "source": [
    "df_selected"
   ]
  },
  {
   "cell_type": "markdown",
   "metadata": {
    "id": "5Vj09CT5gF6_"
   },
   "source": [
    "## Standardization of structures using MolVS \n",
    "(based on RDKit.MolStandardize module, see https://molvs.readthedocs.io/en/latest/guide/standardize.html)"
   ]
  },
  {
   "cell_type": "code",
   "execution_count": 29,
   "metadata": {
    "colab": {
     "base_uri": "https://localhost:8080/"
    },
    "executionInfo": {
     "elapsed": 4678,
     "status": "ok",
     "timestamp": 1651746869287,
     "user": {
      "displayName": "Konstantin KUTEYKIN TEPLYAKOV",
      "userId": "04703267818047594055"
     },
     "user_tz": -60
    },
    "id": "tWlE66J-9hqy",
    "outputId": "b9148d43-11d8-46ed-c37d-a5d8d6f3628b"
   },
   "outputs": [
    {
     "name": "stdout",
     "output_type": "stream",
     "text": [
      "Collecting molvs\n",
      "  Downloading MolVS-0.1.1.tar.gz (61 kB)\n",
      "\u001b[?25l\r",
      "\u001b[K     |█████▎                          | 10 kB 20.9 MB/s eta 0:00:01\r",
      "\u001b[K     |██████████▋                     | 20 kB 25.7 MB/s eta 0:00:01\r",
      "\u001b[K     |███████████████▉                | 30 kB 19.3 MB/s eta 0:00:01\r",
      "\u001b[K     |█████████████████████▏          | 40 kB 13.2 MB/s eta 0:00:01\r",
      "\u001b[K     |██████████████████████████▌     | 51 kB 6.0 MB/s eta 0:00:01\r",
      "\u001b[K     |███████████████████████████████▊| 61 kB 6.0 MB/s eta 0:00:01\r",
      "\u001b[K     |████████████████████████████████| 61 kB 441 kB/s \n",
      "\u001b[?25hRequirement already satisfied: six in /usr/local/lib/python3.7/dist-packages (from molvs) (1.15.0)\n",
      "Building wheels for collected packages: molvs\n",
      "  Building wheel for molvs (setup.py) ... \u001b[?25l\u001b[?25hdone\n",
      "  Created wheel for molvs: filename=MolVS-0.1.1-py3-none-any.whl size=32387 sha256=62dff438320c372179556b726648f4ad90da3276743b8b992bdfd34191712f67\n",
      "  Stored in directory: /root/.cache/pip/wheels/c4/c2/92/e85190307603c2b3733d43e357abae2d1c66b609bfbba6200d\n",
      "Successfully built molvs\n",
      "Installing collected packages: molvs\n",
      "Successfully installed molvs-0.1.1\n"
     ]
    }
   ],
   "source": [
    "!pip install molvs\n"
   ]
  },
  {
   "cell_type": "code",
   "execution_count": 32,
   "metadata": {
    "colab": {
     "base_uri": "https://localhost:8080/"
    },
    "executionInfo": {
     "elapsed": 13552,
     "status": "ok",
     "timestamp": 1651746947566,
     "user": {
      "displayName": "Konstantin KUTEYKIN TEPLYAKOV",
      "userId": "04703267818047594055"
     },
     "user_tz": -60
    },
    "id": "GVboo2OUjOet",
    "outputId": "c99ddbcd-0704-4bfa-ebc6-a1364d4bdff5"
   },
   "outputs": [
    {
     "name": "stderr",
     "output_type": "stream",
     "text": [
      "/usr/local/lib/python3.7/dist-packages/ipykernel_launcher.py:4: SettingWithCopyWarning: \n",
      "A value is trying to be set on a copy of a slice from a DataFrame.\n",
      "Try using .loc[row_indexer,col_indexer] = value instead\n",
      "\n",
      "See the caveats in the documentation: https://pandas.pydata.org/pandas-docs/stable/user_guide/indexing.html#returning-a-view-versus-a-copy\n",
      "  after removing the cwd from sys.path.\n"
     ]
    }
   ],
   "source": [
    "from molvs import Standardizer\n",
    "s = Standardizer()\n",
    "\n",
    "df_selected['MOL_standardized'] = df_selected['MOL'].apply(s.standardize)"
   ]
  },
  {
   "cell_type": "code",
   "execution_count": 33,
   "metadata": {
    "colab": {
     "base_uri": "https://localhost:8080/",
     "height": 1000
    },
    "executionInfo": {
     "elapsed": 881,
     "status": "ok",
     "timestamp": 1651746978970,
     "user": {
      "displayName": "Konstantin KUTEYKIN TEPLYAKOV",
      "userId": "04703267818047594055"
     },
     "user_tz": -60
    },
    "id": "e9yoknA6ypue",
    "outputId": "52220939-45da-470a-e16e-7be0d13d6e68"
   },
   "outputs": [
    {
     "data": {
      "text/html": [
       "\n",
       "  <div id=\"df-335ab9fe-f9a7-41f5-b033-e4eb0719b737\">\n",
       "    <div class=\"colab-df-container\">\n",
       "      <div>\n",
       "<style scoped>\n",
       "    .dataframe tbody tr th:only-of-type {\n",
       "        vertical-align: middle;\n",
       "    }\n",
       "\n",
       "    .dataframe tbody tr th {\n",
       "        vertical-align: top;\n",
       "    }\n",
       "\n",
       "    .dataframe thead th {\n",
       "        text-align: right;\n",
       "    }\n",
       "</style>\n",
       "<table border=\"1\" class=\"dataframe\">\n",
       "  <thead>\n",
       "    <tr style=\"text-align: right;\">\n",
       "      <th></th>\n",
       "      <th>Molecule ChEMBL ID</th>\n",
       "      <th>Smiles</th>\n",
       "      <th>mean_value</th>\n",
       "      <th>MOL</th>\n",
       "      <th>MOL_standardized</th>\n",
       "    </tr>\n",
       "  </thead>\n",
       "  <tbody>\n",
       "    <tr>\n",
       "      <th>1</th>\n",
       "      <td>CHEMBL104</td>\n",
       "      <td>Clc1ccccc1C(c1ccccc1)(c1ccccc1)n1ccnc1</td>\n",
       "      <td>7162.5</td>\n",
       "      <td>&lt;img data-content=\"rdkit/molecule\" src=\"data:image/png;base64,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\" alt=\"Mol\"/&gt;</td>\n",
       "      <td>&lt;img data-content=\"rdkit/molecule\" src=\"data:image/png;base64,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\" alt=\"Mol\"/&gt;</td>\n",
       "    </tr>\n",
       "    <tr>\n",
       "      <th>2</th>\n",
       "      <td>CHEMBL4742201</td>\n",
       "      <td>CN(C)CCN1C(=O)c2ccccc2N(C)C(=O)c2ccccc21</td>\n",
       "      <td>100000.0</td>\n",
       "      <td>&lt;img data-content=\"rdkit/molecule\" src=\"data:image/png;base64,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\" alt=\"Mol\"/&gt;</td>\n",
       "      <td>&lt;img data-content=\"rdkit/molecule\" src=\"data:image/png;base64,iVBORw0KGgoAAAANSUhEUgAAAMgAAADICAIAAAAiOjnJAAAABmJLR0QA/wD/AP+gvaeTAAAfxUlEQVR4nO2deUCU1frHvwMMDIjioCLIMjqJaFimIJoKct3KJcuM3CItC69enUzlYvUzJLMLLol2JUnNS2Uq7lx3K1PKXBFDXBJQlhERh0VkGZA5vz8OTFw2B+Y9s9j5/DXn8L7nPDBfzvqc84gIIeBwhMbC2AZwnky4sDhM4MLiMIELi8MELiwOE7iwOEzgwuIwgQuLwwQuLA4TuLA4TODC4jCBC4vDBC4sDhO4sDhM4MLiMIELi8MELiwOE7iwOEzgwuIwgQuLwwQuLA4TuLA4TODC4jCBC4vDBC4sDhO4sDhM4MLiMIELi8MELiwOE7iwOEzgwuIwgQuLwwQuLA4TuLA4TODC4jCBC4vDBC4sDhO4sDhM4MLiMIELyyR5+BCLFyMgAIGBWL4cVVXGNqjFcGGZJCEhUKtx4AD270dWFv7+d2Mb1GJEPDKFyZGbi379kJUFsRgAysvh5oa0NEilxrasBfAWy/RIT4enZ42qANjaQi5HRoZRbWoxXFimR7t2ePjwf3IePICDg5GsaSVWxjaACceOHfvyyy/z8/Pd3Nzc3Nzc3d3d3d1dXV09PDw6d+5sYWHa/049euDePWRmQiYDgBs3oFaja1cjW9VCnkBhbdy4MSQkxM7OrqysrOFPxWJxx44du3TpIpfLXVxc6n6QyWSWlpaGN7g+EgkiIzFqFGbPhkaDmBisWQMrM/umnrTBe2pqqp+fX1lZWXR0tI+PT1ZWllKpzMnJyczMpB/u3r3b1Ls2Njaurq6urq4ymczV1dXNzc3Dw8PNzc3b29vGxsZAv0BCAkQiBAbi3j38+issLDBkiNk1V3jChFVRUTFgwIDff/995syZmzZtavSZysrK+/fv5+bmZmRk3Llzp+6H27dvazSahq9s3Lhx4sSJUsNMyvr2RXIyTpxAYCAAJCWha1c4OhqiakF5ooT1zjvvbN68+emnnz5//rydnV1LX6+oqMjJycnJycnOzs7OzqYfTp8+XVBQsGLFitDQUBY2/w9FRejYEVZWKCyErS0AeHhAqcS1a+jRg3ntwkKeFOLj4wFIJJLk5GQBiz148CAAV1fXyspKAYttnP37CUACAmqS6ekEII6OpLqaedVCY9rzI51JT09/9913Aaxdu7ZPnz4AKioqfvnlF/1LHj16dK9evZRK5d69e/Uv7TGcPAkAQ4fWT5r4NLZRjK1sAaisrBw4cCCA1157TZs5Z84cCwuLL774Qv/y169fD2DQoEH6F/UYfHwIQH74oSY5fToBSHQ083oZ8CQIa/78+QA8PDwKCgpozu7duwHY2NhcvHix1cVW13ZApaWljo6OAM6ePSuAuU1RVEQsLYm1NXn4sCZHJiMAEbRnNxhmL6xDhw6JRCKxWHz69Gmak5WVRXWgT3MVExMjl8uvXLlCk3TkPm3aNAEsbooDBwhABg+uSWZlEYBIpeY4wCLmLqycnJyOHTsCWLVqFc2pqqoaNGgQgLFjx2o0mlaXPGfOHAAhISE0mZmZaWVlJRaLs7OzBbC7UUJDCUA+/LAmGRdHADJ+PKvqGGPGwqqurh42bBiA0aNHazUUFhYGwM3N7f79+/oU/scff1hYWNja2ubn59OcoKAgAB999JG+djeFnx8ByNGjNcm33yYAWb2aVXWMMWNhffzxxwA6d+589+5dmnPkyBELCwsrK6tffvlF//LHjBkDYPny5TRJ55iOjo6lpaX6F16PBw8eHB027H7//qSkpCZLLicA0WOMaFzMVVg///yzpaWlhYXFD7VzqLt37zo7OwP47LPPBKni6NGjALp06aJWq2mOn58fgK+++kqQ8uty+PBhAAMHDqRJVU7OPV9fjasrefRI8LoMg1kK6969e126dAEQHh5Oc6qrq0eOHAkgMDDwkXBfxrPPPgtg69atNPndd98B8Pb21mf01iiLFy8GsHjx4roVjR07VthaDIn5CUuj0bz00ksA/P39tRpatmwZACcnpzt37ghYV2xsLAAfHx+arKysdHNzA3Ds2DEBayGE0HW4w4cP0+Q777wDYMWKFcLWYkjMT1grV64EIJVKMzMzac6ZM2fEYrGFhcVR7chXIMrKyuis89dff6U5n376qeBtSWlpqbW1tZWVVXFxMc3x9PQEcO7cOQFrMTBmJqxz585ZW1uLRKJ9+/bRnIKCAplMBuCDDz5gUeOHH34I4PXXX6dJlUplZ2cnEomuXbsmVBV0MOfn50eTd+7cAWBvb19VVSVUFYbHnIRVVFTUrVs3AAsWLKA5Go3mlVdeod8Ko01ipVIpFoutrKy0DSTtp+bOnStUFVS7oaGhNPn999/TNRShyjcK5iSsqVOn0hGPdpoWHR0NoH379rdu3WJX75QpUwCEhYXR5JUrV0QikZ2dnUqlEqT8wYMHAzhw4ABNzpo1C0BkZKQghRsLsxFWQkICgHbt2qWlpdGc+/fvt2nTBsCePXuYVn3+/Hk6qntYu4s3YsQIACtXrtS/8NLSUhsbG0tLy8LCQprTs2dPAL/99pv+hRsRsxHW4cOHXVxc3njjjbqZp0+fXrZsmQFqf/755wHExMTQ5H//+18AMplM/2HQDz/8UHfimZeXJxKJ7O3tDeH+xRKzERZtsQT5LlvB9u3bAfTo0YO6PGg0Gtqu7Ny5s9VlqlSq3377LSoqasiQIX379n3xxRdjYmK++uorAKNGjRLOduNgNsLSaDReXl4Adu3aZfjaq6qqPDw8ABw6dIjmfPHFFwCGDBmiy+uVlZXp6enHjx+Pjo4OCQkZMWKEXC6v5xhHD6VJpdK+fft+/vnnLH8bQ2A2wiKErFu3jq6LGqX2yMhIAC+88AJNNuOkpVQqf/rppw0bNixYsGDMmDHdu3e3auzwVtu2bX18fKZMmRIREbFt27Yffvhh1KhRAEQikUKhMFhXWFVVtWbNmv379wtbrDkJq6SkpH379sZaOVSpVNOmTdOulBJCFi1aBGDMmDHbtm2LiIiYMmWKj49P27ZtG2rIysqqe/fuY8aMWbBgwYYNG3766SelUtmwCo1GEx0dLRaL6QJKRkYG618qMTGRblu5u7uXl5cLWLI5CYsQsmDBAgDBwcHGNoQQQv744w9LS8uGRw6lUqmPj09QUFB4eHh8fPyFCxda5BBx5swZulzn4OCwY8cORsarVCqFQkH7X7lcrl3sEAozE9bt27ctLS3FYnFOTo6xbalxiXZ3d584ceIHH3ywZcuW3377TZDFraKiotdee43KNDg4uKysTP8ytVRXV8fFxXXo0AGAtbV1WFiYsG0VxcyERQh59dVXAXz88cfGNePgwYP1XKKFRaPRrFmzxtraGsBLL71x44YwxV64cIE6/wAYPny4gBtT9TA/YZ08eRJAp06dWPyf6Uh2djbdnF7N2MPz4sWLzz77nFx+1d6efPutXkXl55P585fQvq9r167azVZGmJ+wCCH9+/cHsHnzZqPU3qhLNDuKizVTphCAAGTGjD+P8OiORkPi4kinTmTAgL1isVihUJRo/VSZYZbCiouLA9C7d28DfK8NWbJkCQBXV1etO7wBiIsjbdoQgHh5kUuXWvDi+fOkf/8aXb7wArl5k9lhkP/FLIWlVqtdXFwA/PjjjwauuqFLtMG4do306UMAIpHodIi1oIAoFMTSkgCkSxcSF8fexDqYpbAIIREREQDGG/Z0lNYleunSpYasV0t5OVEoapqfV14hTU1Aad/n5EQAIhYThYI8eGBYQ81XWPfu3ZNIJCKR6Pr164apUesSHRAQIKBbfSvYsYM4OBCAdOtGdu0iX35Zk19SQlauJJcukUGDasQ3dCipPXJraMxVWISQt956C4BCoTBMdStWrADg6Oio9fgzIpmZZNAg8t57JCyMSCTk5ElCCLl7l3h6kkWLCEBcXEhcHDHGELQGMxZWSkqKSCRq27ZtUVER67q0LtGC76m1GrWaqNUkLIzMn0+eeYao1TXCKikhH39shL6vHmZ4P04tvXv3DgwMLCkp+frrr5lWVFxcPGnSpMrKygULFowfP55pXbpjbQ1rawDo3RsBAVi9uibf3h4REWhsx9KwGFnY+rFv3z4AXbt2rTfoyc/PT0pKysvLE6QW6prs6+urdYk2HcLCyKZNpLCQdO1Kzp0jnp7GNqgWM7uLtx4vvfTSU089lZ6enpCQMGHCBG3+oUOHpk+fDsDGxsbR0bHeHcn0s4uLi0gkemwVGzZs2LZtm729/datW+kGiwnSvj0++QSLFxvbjjqYt7AsLCzmzZs3f/78tWvX1hWWRCLp06dPTk6OSqXKzc3Nzc29ePFivXdtbW09PDzq3o48ZcqUdu3a1X0mNTWV+lPExsb2MO1bQN94A1u2GNuIOpj95bYlJSXu7u7FxcXnz5/39fWt91O1Wq1UKuvdjkw/0KtE6j6cl5fn5OSkTZaWlvr5+V29evXdd9+lHsMmyOHD6NgR/fsDwPXrOHAAixYZ2yaKsftiAXj//fcBTJ8+vUVvlZaWXr169dixY1u2bImIiAgJCam3QUSXM7y9vVlcLyMsRUVEoSBvv21sO+pg9i0WgIyMjB49eohEojfffFMul3t4eNAAJ+7u7hKJpHVlxsfHT5o0SSKRnD17lvpYmjJqNdq0gUiEsrI/gzsZlydBWADWrl0bHx9/+vTpevlSqbReXBP6QSaT2dvbN1Vaenp6v379Hjx4sHHjRnru2fSRy3HrFq5fh5eXsU0B8MQIC8DJkydTUlJoXJOsrKycnBylUqlWq5t63tnZue7IXfuhQ4cOgYGBSUlJQUFB9O54s2D0aBw5gv37YSILbU+OsBrl7t27VGFZWVnZ2dn0Q05Ozp07dyorKxt9ha5BdOvW7dKlS/UmiabM/PlYuxYrV5rK4N28lxsei7Ozs7Ozc8PZIoDCwkLtJLHuhPH27dtWVlYhISFmpCqgJiTKjRvGtqOWJ1xYzSCVSqVSqbe3d7380NDQVatWVVdXG8WqVkOHVqYjLDPeK2QEPW99w3S+It2gwvrjD2PbUQsXVn2osP4wna9IN1xdYW+PvDwUFRnbFABcWA2hwrp+/bqxDWkZIhE8PQGTabS4sOrj5OTUvn37oqKi/Px8Y9vSMvz97wYEXLl9+3djGwJwYTUK3W82u2FW+/Zfnjr1TErKTmMbAnBhNYrZjt9NyGwurEYw0/G7STW0XFiNYFL/+rrj5eUlEolu3rzZaMh0A8OF1Qi9eg19/vnshw+/NbYhLaNt27bOzs7l5eXZ2dnGtoULqzHk8k5nz7olJrZ99MjYprQQ02lrubAawdYW7u6orMStW8Y2pYWYzuiQC6txTG2HREdMZ/zOhdU4pranqyO0xbp8+XJVVZVxLfnrejc0j6l5oeiIra2tg4NDYmKitbW1VCqt5zdLP3h4eDR6i7OwcGE1jjl2hWq1OjQ0tLi4uF27dmVlZYWFhQ0PvQGwtLR0dnam7rKurq4ymYx+8PDwcHZ2trS0FMQYLqzGMceu8J///GdSUpJcLk9KSrK3t797925mZmY9X+3MzMy8vDylUqlUKhuWYGVl5eLiovXVlsvlc+bMaZ0xT7hrcqshBPb2KCtDcTHMwpP00KFD48aNs7KyOnXqFI3X2gyFhYV1nWa1nzMzM+t6OHbp0mXs2LHr168Xt+Loj1EPn5k0zz5LAHL+vLHt0AHtZbt6xkpRq9W3bt1KTEzcunVrVFRU586dAWzbtq0VRfEWq0nWr0dxMaZNg0xmbFOahQZaP3HixOjRo+kl4dofzZo1S61W1xtO0egeurBhw4bZs2f7+vrSwHotggurcVatgrU1FAoAuHYN+/eb1pUbdVmyZMmnn37q6uqanJxM2y0tjo6OhYWF9Z6XSCRdunRpOFuUy+VSqbTuk2VlZR4eHiqV6syZMwMGDGiZWfq0nE8wEyYQqZRcvkwIIadOEUGDiwuJ9rLdRu/5PXr06Ndff7106dKZM2e++OKL3t7ezR89ateunTaQLCUsLAzAlClTWmoYnxU2ycKFmD0biYnGtqNp8vPzp06dWl1dHRERQa+erwcNJ1aP8vLyhlek5ObmpqWlFRcX11vimjdv3ueff75z586oqCh3d/cWGNf6fxbGVFdXV1dXG+uuswkTyKlTZNIkEhtroi2WRqMZN24cBL1st6CgQBtBWMukSZMAfPDBBy0qqjlh5eTkGOWGfkLIxYsXBw4c+O6773p4eMTFxRneDCospZLIZGTfPlMUVlRUFIBOnTqxjldFb8SoGxJbF5oUVmVlZY8ePXx9fU+cOCGAdTqjUqlmzZpFQ744ODjQZnXgwIGJiYkGqL24mLz/PklKqhEWIeTzz4mPDxk7llRXkzt3DGCCThj4sl06ct+wYYPurzQprNTUVHpZPoCXX36ZXZgoLRqNJi4ujl59RkO+FBUVxcXF0SAUAEaMGHGF5bXlW7cSFxcCEH//P4VVVUX69CFjx5Lly4mDA2EWP7AFFBYW0oCGixYtMkyN33//PQAvLy/du47musLS0tLIyEg6j6DXGeTm5gphZyNcunRp0KBBVECBgYF1BVTXDLFYHBISQi/jE5AbN8ioUTWX7vv6knPnyJ49JLs26kxyMomPJxMmEICIRGTePFJRIWz9LcPwl+1WVVXRkfuRI0d0fOXxg/f8/HyFQkEnC23atAkLC3sg6CXihYWFCoWC7n26uLg0NaKqa4a9vX14eLgg4SFLS0l4OLGxIQBxdCTR0aS6uvEnNRoSHV3zpLe30SI+xMTEAGjbtu0NoUIY6sZnn30GYPTo0To+r+us8OrVqzTgBwBXV9dvvtnd1BegOxoN+c9/yPPPj6JN0cKFCx8r2WvXrgUFBWnNiI2N1WdClJBAZDICEAsLEhxMdAnmdfEi8fQkALG3J9980+qaW0lKSoqtrS2ArVu3GrhqlUrVpk0bkUh09epVXZ5v2XLD6dOnaYfl75/aqxeJj2+VjYQQQi5fJkOGEID06nU6MPBvLRo8/fjjj/369aPyevrpp1sRz/jGjRvjx1fRvs/Pj1y40IJ3Hzwg06bV9JvBwYR96L8aHj582KtXLwAhISEGqvJ/CQkJATBnzhxdHm7xOpZGo9mxY79crqF/2VGjapandefhQxIeTqytCUCcnVsZ8kWj0cTHx9MxLB3XJycn6/JiWVlZeHi4jY3N0KH/lUpJdDRpXZO3eTOxsyMA6dmTXL5siFivM2bMgFEv201NTRWJRHZ2dvfv33/sw61cIFWrSWws6dSpph8JCiK3bun0YkICcXcnALGyIgoF0TMKjlqtjo6OpruqFhYWQUFBt2/fbub5vXv3ymQy+vCsWXN1+Ps0Bw0g6Oyc4+LiGh0dzXSxbceOHQAkEsnllv4fCwpdyo+Kinrsk3qtvKtUNdGnAGJnR8LCmhNKw5mXUKhUqrCwMBsbGwB2dnZhYWHFxcX1nklLSxs7dixt3p577jmhIoSXlZEPP1xLi3311VcLCgoEKbYeN2/epJPiTZs2sShfdw4ePEhHt5WVlc0/KcCWTloaef11IhIRgDg5kZgYsnAhmTy55qdXr5LJk0l4OBGLax7YsoVJuLPbt28HBwdTp5GOHTtGR0dXVVWR2r6P3svdvn376OhowaMN7tmzh/oFuLu7//LLL3qWVlVVlZ6efvz48djYWIVCMWLECGdnZwCTtX9T46HRaOg4b8fjFvQE2ys8d44MHUoAMnEiefNN4upaM7RPTiYBAWTFihbMvPTh7Nmz/v7+tAnx8vJasmRJz549AYhEouDgYMEXwLRkZmbSaY2VlVV4eHi1znPmgoKCCxcuxMXFhYWFBQUF+fj4NHU3/TeGn4U2xvr16wEMGjSo+ccE3oTevZvcvEnefJPExJDu3UlxcY2wKiuJbmNrYUhISOjevTsAuo7fp08f/RuSx1JVVRUeHk43o4YNG3anwQaQWq2m8aQiIyNDQkIGDx6s3bOqh4uLy4gRI0JCQiIjIxMSEpYuXQpg8ODB2qJOnTo1bty4kzQApmEpLS3t0KEDgDNnzjTzGBPvhjffJAcOkE8+IQpFjbAMDx3XHzlyZO3atbRPNAzHjh2jPZeTk1NkZOS6dev+8Y9/jBw50sPDo9FgY46OjgMHDpwxY8a//vWv3bt3p6SkVDRY1y8tLXV0dARw9uxZmhMeHg5gwoQJBvu96hIaGgpg6tSpzTzDUFgVFaRnT/Ltt8YRlrGIj493dnamJ5K1m60UsVgsl8tHjBihUChiY2OPHz+enp6uY7GLFi0C8MYbb9BkXl6eRCKxsLBIS0tj9qs0SXZ2tlgsFovF2dptrwYwFBYh5MgRIpP9tYRFz0stW7Zs+/btS5cuHT58+HPPPbd8+fK0tDR9Jg309vm63yUNyPj+++8LZHjLoPsfH330UVMPsD1i/8ILNRHP/jqcPHkSwN/+9rdJkyaFh4d36tSJuqI/9dRT+pwFlclkr7zySlVVVWxsLM157733AGzatKm4uFgQy5shMjJyzZo1pM7xiICAAKlUSidGjcNCzleu/Dn7u3/fPE5QCcK9e/fo2rR2nER7w+vXr+tfeGJiIoCOHTtqd98DAgIAREdH6194M5w6dYq61V+o3fnKy8ujvkyrVq1q6i2Grsl+fkQqJYbdgzcyu3btAjB8+HCapLe+ODs7C7Uo7+fnB2Djxo00uXv3bgDdunUTfGVOS0FBAd2r0PZ6WpfooUOHNlMvQ2H17k0AkpLCrgaTY968eQA++eQTmqTd1qRJk4Qq/9tvvwXg7e1Nlfro0SO5XA6AkR+pRqN5+eWXAQwYMEC71B4ZGQmgU6dOSqWymXcZCqtvXwKQpCR2NZgcNGSmdnlp6tSpAGJiYoQqv7Ky0s3NDcDx48dpzurVqwEMGzZMqCrqsmbNGgBSqfRW7U7w2bNnqUt0QkJC8++y7QoBUrvy8uSjUqksLCwkEkl5eY2zA/W61NGBSUeWLVsGYNy4cTT54MEDuo2oo3OH7ly4cMHGxkYkEu3du5fmaF2iQ0NDH/s6Q2ENHkwAwn7F21TYu3cvgMDAQJq8efMm7TKE9XrIz8+3tbUViUTaCYFCoQDwtqARoUtKSugdbgqFQps5efJkAP3799fFJZqhsAIDCUAMe8bHmIQtXAggPDycJjdt2gQgKChI8IpmzpwJYN68eTSZkZFhaWlpY2Mj4E7otGnTADzzzDPaGSjdInRwcMjIyNClBIbCGjmSAOTYMXY1mBi+vmVeXkp6uIeQ4OBgAP/+978FryclJUUkErVp00alUtGc8ePHA4iIiBCkfPovYW9vrz2apXWJ/v7773UshKGwRo8mADl4kF0NpkRREbG0JNbWpNa98+HgwckBAbfZHLoYPnx43WWkH3/8EYCTk5N2eNdqUlNT7ezsUMeZQusSPWvWLN3LYSis8eMJQPbtY1eDKZGQUHMikZKeXnPuR/8zJ43XlgBAJpNp99f79OkDIC4uTp9iy8vLaTlvvfWWNpPuHbXUJZqhsCZOJADZuZNdDabEwoUEIP/3fzXJr78mAGHmfaDRaOjgeteuXTRn8+bNAPr27atPsfS4hKenp/a41Pbt2wHY2dmlpqa2qCiGwlq0aFtAwNzdu/8a6w0+PgQgtctLZPp0AhCWmy3r1q0D4F/bRpaXl/v7+8fExLR6FX7nzp0AJBLJpUuXaI7WJXrz5s0tLY2hsOjo1UT8HtlSXEwsLYlYTLTXZtDziiydG0tKSugpknNCHB/IzMyk3tXa5dyKigp6xu71119vRYEMvRvojahGv8neECQmoroa/fujTRsAyM5GZiakUjzzDLs67e3t6brDF198oX9pWVlZYrF44sSJs2fPpjmLFi1KSkp66qmnNm7c2IoCmQursrKSXRWmwsmTABAYWJM8cQIA/P1hwdYrad68eZaWltu3b2/0bu0WMWTIkOTkZLrQAODgwYP0suStW7c2fwlgU/AWSwiosIYObTzJDJlM9vLLL1dVVX311Vf6l+bi4kL71pycnOnTpxNCVq5c2eKrR2theFXkX0VYFRX4/XdYWaH2thz8/DNQpwFjyfz58/fs2bN69ervvvuuYYCT7t27N3VeoykePXo0efJklUo1ZswYulnUOriw9EYiQX4+rlyBvT0A5OQgIwMODujTxwCV+/v7nzp1auTIkTQOQGPWSerdjkw/eHp6NtrHhYeH//rrr25ubnFxcY2e/tARLiwhePgQWVlISUG/fujdG8ePIzcXAgWleSz+/v65ubn14prQD1lZWeXl5U1prkOHDm5ubu7u7u7u7vSDSqWKioqysLCIi4urd7N3S+HC0pvz5zFxIkJC0LEj5s5FQACiogxsglQqlUqlzzQ2CdXekVzvmuTs7GyVSqVSqS5fvlz3eRsbm48++qjRO5hbBBeW3ixciA0bMGYMAMyYAS8vzJxZE5bOBLC1taXBARr+6N69e0qlMjs7Oysri8Zyys/PX7NmDV3T1xOGwnJ3d/fx8aHxWJ5YNBpcvIiRI2uSEgmGDsW5c6YjrGZwcnJycnLq27cvi8J5yBP9qKiAoyNKS6Ed5/797+jXDyEhRjXL+PDQvfohkaBzZ9y8+WfO77+jmdN2fxm4sPRmwQLMnQulEuXlWLsW1dWove7mrwyPpaM3c+fC0hJvv42SEvj6IiEBeiz/PDHwMRaHCbwr5DCBC4vDBC4sDhO4sDhM4MLiMIELi8MELiwOE7iwOEzgwuIwgQuLwwQuLA4TuLA4TODC4jCBC4vDBC4sDhO4sDhM4MLiMIELi8MELiwOE7iwOEzgwuIwgQuLwwQuLA4TuLA4TODC4jCBC4vDBC4sDhO4sDhM4MLiMIELi8MELiwOE7iwOEzgwuIwgQuLwwQuLA4TuLA4TODC4jCBC4vDBC4sDhP+H6XHDKO43sFtAAABwHpUWHRyZGtpdFBLTCByZGtpdCAyMDIyLjAzLjIAAHice79v7T0GIOBlgABGIJYAYikgbmBkY0gAiTGzMygAaWYYF0IzMcFodgYNkDRQHEyzcEBoJjYHCJ/NIQMsz4iXAVGLMAtmF+VmcgO9xcgENAzIZmBhZWBlU2Bj12Bi41Dg4Mxg4uRK4OLOYOLmSeDhzWDi5VPg42fgE1AQENRgEhBSEBLOYBIWSRARzWASFUsQE89gEmdV4OVIEBdKEGHmYBUXEuDj5WBj4+Ti5gHSwiKiYuJC4lqMkJAEA4kHnvsOXJvotx/E0XKecuA79xEw2zh08oEERqcDIPatkLADpRscweL57kwH3GbvBbMvhDvsFz5vAmZP73lpNyPgDJj9dfsR2/mRzmC9zpY/7IsmrQeLp/crOUgc0AeLR/1ucCjMtwKz55XOdbjifwusxtqmyyGsY+U+EFtT0NRBRVoDzBbbpOaw89IKexB74uMKB2tmNgcQW+7qJvsnsbxg9tE3D+zN+7PA7I/8G/Yu+vsXrF70rP7+DV/DwOKTorgPcC5NBLOl/F0ONMWKgNkhd2QPdM0qBKuXuVK5X+OuG5gtBgB7eHTzR6LnFgAAAkx6VFh0TU9MIHJka2l0IDIwMjIuMDMuMgAAeJx9VVtuGzEM/PcpdAEv+BIlfsZ2UBRFbKBNe4f+5/7oUItkFUSo1iIkYZYUOcP1qeT4efvx9618DLmdTqXQf34RUf4oEZ1eSi7K5fnb93u5vj5d3k+uj9/3119FrIjjHTyfsU+vj5f3Ey7Xcq5bmFfu5UxbJw/WQhuNcbwr5V7Otrkq4wpn3qqyc10gNX0CScaVylk3Ula1BdISqZtaD4mM3qpXeP+KrIkUeKrOlNGtsxIvkJ73TE+sRmNFLn11zwaftBk8Vh4JhQucfwX28sjTcKo28qmitvIY8MhbaIi19KiNvbYFEGGuRbZqONVMrBnyWsXmZMiQOHkfSLCD+CukDGQIOfWM3qgitxVSBxJEdnhCicApg/4F0sY9uwS3gWQ3dl8hK+ouSboLdnDeQ5fBHS516xgBVaGsGrasURvV1GgMccgm1Htdhk5+kG5tAsHr5m4Ry9DJD5KgDqp7MtVNaSl22pHevYnCp9YOilZI3pXJrRklskr1WNVSZFc7eVPpSAglElplLrr7NId68nph2nzVQGL7PaNVlBuA1rzzSh3P99unxt8/BZfH/XZ8CvKRo9+xKXo0dW7t6FzGrEd7MqYfPciY7Wg0wexHOzG2cTSNYfLcG5aGeeoBS8Myad3SsE6atjRsk3Z5mDpplIfxSYz7SZtUJ2m4T/LicRKTjiyNzHqxNMKTLiyNyMS/pRGdeLY0YhOfnObjglIzlB3VgsJtwGJmduYx9+9/B1if/gExiC+kJEe7HwAAASB6VFh0U01JTEVTIHJka2l0IDIwMjIuMDMuMgAAeJxNkTtuAzEMRK+S0ga0BP8fLFJt7xzC1/DhQ2pTROXTaIZDXa/H9byuF12P75/nm99zeMP/gL4+j8Og1I3XgZDoRbLOQ8FFGhGYkPNNUMnWIYBCMiIB0SyZh2FuVc24b81pXmpuq7kk0a1C57R1ImhrbKusnGkQlqPp9jdu/UlQUmwjkiD3dTKMgCG0E07tKPQc0EOjDSnGOzzQzIcIVUd2uAgR5ZgkF8Ugcv3z7W7dsoNoCp0C2adWt+kZbGaRiq7DwJjpA8KCZQm4627eDbLLRLVNpd7VPf1WiWXY3g9FaANji71D9JAx7uhZRCvUve+wv0XCdftU2AzWKwxP4vX8/AInU2KSgdRuIgAAAABJRU5ErkJggg==\" alt=\"Mol\"/&gt;</td>\n",
       "    </tr>\n",
       "    <tr>\n",
       "      <th>3</th>\n",
       "      <td>CHEMBL411</td>\n",
       "      <td>CC/C(=C(/CC)c1ccc(O)cc1)c1ccc(O)cc1</td>\n",
       "      <td>3079.5</td>\n",
       "      <td>&lt;img data-content=\"rdkit/molecule\" src=\"data:image/png;base64,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\" alt=\"Mol\"/&gt;</td>\n",
       "      <td>&lt;img data-content=\"rdkit/molecule\" src=\"data:image/png;base64,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\" alt=\"Mol\"/&gt;</td>\n",
       "    </tr>\n",
       "    <tr>\n",
       "      <th>6</th>\n",
       "      <td>CHEMBL900</td>\n",
       "      <td>Cc1ccccc1C(OCCN(C)C)c1ccccc1</td>\n",
       "      <td>280.5</td>\n",
       "      <td>&lt;img data-content=\"rdkit/molecule\" src=\"data:image/png;base64,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\" alt=\"Mol\"/&gt;</td>\n",
       "      <td>&lt;img data-content=\"rdkit/molecule\" src=\"data:image/png;base64,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\" alt=\"Mol\"/&gt;</td>\n",
       "    </tr>\n",
       "    <tr>\n",
       "      <th>11</th>\n",
       "      <td>CHEMBL55</td>\n",
       "      <td>N=C(N)c1ccc(OCCCCCOc2ccc(C(=N)N)cc2)cc1</td>\n",
       "      <td>1053.5</td>\n",
       "      <td>&lt;img data-content=\"rdkit/molecule\" src=\"data:image/png;base64,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\" alt=\"Mol\"/&gt;</td>\n",
       "      <td>&lt;img data-content=\"rdkit/molecule\" src=\"data:image/png;base64,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\" alt=\"Mol\"/&gt;</td>\n",
       "    </tr>\n",
       "  </tbody>\n",
       "</table>\n",
       "</div>\n",
       "      <button class=\"colab-df-convert\" onclick=\"convertToInteractive('df-335ab9fe-f9a7-41f5-b033-e4eb0719b737')\"\n",
       "              title=\"Convert this dataframe to an interactive table.\"\n",
       "              style=\"display:none;\">\n",
       "        \n",
       "  <svg xmlns=\"http://www.w3.org/2000/svg\" height=\"24px\"viewBox=\"0 0 24 24\"\n",
       "       width=\"24px\">\n",
       "    <path d=\"M0 0h24v24H0V0z\" fill=\"none\"/>\n",
       "    <path d=\"M18.56 5.44l.94 2.06.94-2.06 2.06-.94-2.06-.94-.94-2.06-.94 2.06-2.06.94zm-11 1L8.5 8.5l.94-2.06 2.06-.94-2.06-.94L8.5 2.5l-.94 2.06-2.06.94zm10 10l.94 2.06.94-2.06 2.06-.94-2.06-.94-.94-2.06-.94 2.06-2.06.94z\"/><path d=\"M17.41 7.96l-1.37-1.37c-.4-.4-.92-.59-1.43-.59-.52 0-1.04.2-1.43.59L10.3 9.45l-7.72 7.72c-.78.78-.78 2.05 0 2.83L4 21.41c.39.39.9.59 1.41.59.51 0 1.02-.2 1.41-.59l7.78-7.78 2.81-2.81c.8-.78.8-2.07 0-2.86zM5.41 20L4 18.59l7.72-7.72 1.47 1.35L5.41 20z\"/>\n",
       "  </svg>\n",
       "      </button>\n",
       "      \n",
       "  <style>\n",
       "    .colab-df-container {\n",
       "      display:flex;\n",
       "      flex-wrap:wrap;\n",
       "      gap: 12px;\n",
       "    }\n",
       "\n",
       "    .colab-df-convert {\n",
       "      background-color: #E8F0FE;\n",
       "      border: none;\n",
       "      border-radius: 50%;\n",
       "      cursor: pointer;\n",
       "      display: none;\n",
       "      fill: #1967D2;\n",
       "      height: 32px;\n",
       "      padding: 0 0 0 0;\n",
       "      width: 32px;\n",
       "    }\n",
       "\n",
       "    .colab-df-convert:hover {\n",
       "      background-color: #E2EBFA;\n",
       "      box-shadow: 0px 1px 2px rgba(60, 64, 67, 0.3), 0px 1px 3px 1px rgba(60, 64, 67, 0.15);\n",
       "      fill: #174EA6;\n",
       "    }\n",
       "\n",
       "    [theme=dark] .colab-df-convert {\n",
       "      background-color: #3B4455;\n",
       "      fill: #D2E3FC;\n",
       "    }\n",
       "\n",
       "    [theme=dark] .colab-df-convert:hover {\n",
       "      background-color: #434B5C;\n",
       "      box-shadow: 0px 1px 3px 1px rgba(0, 0, 0, 0.15);\n",
       "      filter: drop-shadow(0px 1px 2px rgba(0, 0, 0, 0.3));\n",
       "      fill: #FFFFFF;\n",
       "    }\n",
       "  </style>\n",
       "\n",
       "      <script>\n",
       "        const buttonEl =\n",
       "          document.querySelector('#df-335ab9fe-f9a7-41f5-b033-e4eb0719b737 button.colab-df-convert');\n",
       "        buttonEl.style.display =\n",
       "          google.colab.kernel.accessAllowed ? 'block' : 'none';\n",
       "\n",
       "        async function convertToInteractive(key) {\n",
       "          const element = document.querySelector('#df-335ab9fe-f9a7-41f5-b033-e4eb0719b737');\n",
       "          const dataTable =\n",
       "            await google.colab.kernel.invokeFunction('convertToInteractive',\n",
       "                                                     [key], {});\n",
       "          if (!dataTable) return;\n",
       "\n",
       "          const docLinkHtml = 'Like what you see? Visit the ' +\n",
       "            '<a target=\"_blank\" href=https://colab.research.google.com/notebooks/data_table.ipynb>data table notebook</a>'\n",
       "            + ' to learn more about interactive tables.';\n",
       "          element.innerHTML = '';\n",
       "          dataTable['output_type'] = 'display_data';\n",
       "          await google.colab.output.renderOutput(dataTable, element);\n",
       "          const docLink = document.createElement('div');\n",
       "          docLink.innerHTML = docLinkHtml;\n",
       "          element.appendChild(docLink);\n",
       "        }\n",
       "      </script>\n",
       "    </div>\n",
       "  </div>\n",
       "  "
      ],
      "text/plain": [
       "   Molecule ChEMBL ID                                    Smiles  mean_value  \\\n",
       "1           CHEMBL104    Clc1ccccc1C(c1ccccc1)(c1ccccc1)n1ccnc1      7162.5   \n",
       "2       CHEMBL4742201  CN(C)CCN1C(=O)c2ccccc2N(C)C(=O)c2ccccc21    100000.0   \n",
       "3           CHEMBL411       CC/C(=C(/CC)c1ccc(O)cc1)c1ccc(O)cc1      3079.5   \n",
       "6           CHEMBL900              Cc1ccccc1C(OCCN(C)C)c1ccccc1       280.5   \n",
       "11           CHEMBL55   N=C(N)c1ccc(OCCCCCOc2ccc(C(=N)N)cc2)cc1      1053.5   \n",
       "\n",
       "                                                  MOL  \\\n",
       "1   <img data-content=\"rdkit/molecule\" src=\"data:i...   \n",
       "2   <img data-content=\"rdkit/molecule\" src=\"data:i...   \n",
       "3   <img data-content=\"rdkit/molecule\" src=\"data:i...   \n",
       "6   <img data-content=\"rdkit/molecule\" src=\"data:i...   \n",
       "11  <img data-content=\"rdkit/molecule\" src=\"data:i...   \n",
       "\n",
       "                                     MOL_standardized  \n",
       "1   <img data-content=\"rdkit/molecule\" src=\"data:i...  \n",
       "2   <img data-content=\"rdkit/molecule\" src=\"data:i...  \n",
       "3   <img data-content=\"rdkit/molecule\" src=\"data:i...  \n",
       "6   <img data-content=\"rdkit/molecule\" src=\"data:i...  \n",
       "11  <img data-content=\"rdkit/molecule\" src=\"data:i...  "
      ]
     },
     "execution_count": 33,
     "metadata": {},
     "output_type": "execute_result"
    }
   ],
   "source": [
    "df_selected.head()"
   ]
  },
  {
   "cell_type": "code",
   "execution_count": 34,
   "metadata": {
    "colab": {
     "base_uri": "https://localhost:8080/"
    },
    "executionInfo": {
     "elapsed": 421,
     "status": "ok",
     "timestamp": 1651746987087,
     "user": {
      "displayName": "Konstantin KUTEYKIN TEPLYAKOV",
      "userId": "04703267818047594055"
     },
     "user_tz": -60
    },
    "id": "vlyIPKvigF7E",
    "outputId": "7e25b968-74b1-440c-db09-68f808db3966"
   },
   "outputs": [
    {
     "name": "stderr",
     "output_type": "stream",
     "text": [
      "/usr/local/lib/python3.7/dist-packages/ipykernel_launcher.py:1: SettingWithCopyWarning: \n",
      "A value is trying to be set on a copy of a slice from a DataFrame.\n",
      "Try using .loc[row_indexer,col_indexer] = value instead\n",
      "\n",
      "See the caveats in the documentation: https://pandas.pydata.org/pandas-docs/stable/user_guide/indexing.html#returning-a-view-versus-a-copy\n",
      "  \"\"\"Entry point for launching an IPython kernel.\n"
     ]
    }
   ],
   "source": [
    "df_selected['Smiles_standard'] = df_selected['MOL_standardized'].apply(Chem.MolToSmiles)"
   ]
  },
  {
   "cell_type": "code",
   "execution_count": null,
   "metadata": {
    "id": "u43UuZ_pyomJ"
   },
   "outputs": [],
   "source": []
  },
  {
   "cell_type": "code",
   "execution_count": 35,
   "metadata": {
    "colab": {
     "base_uri": "https://localhost:8080/"
    },
    "execution": {
     "iopub.execute_input": "2022-03-25T00:56:59.422077Z",
     "iopub.status.busy": "2022-03-25T00:56:59.421808Z",
     "iopub.status.idle": "2022-03-25T00:56:59.434210Z",
     "shell.execute_reply": "2022-03-25T00:56:59.433624Z",
     "shell.execute_reply.started": "2022-03-25T00:56:59.422050Z"
    },
    "executionInfo": {
     "elapsed": 15,
     "status": "ok",
     "timestamp": 1651746995903,
     "user": {
      "displayName": "Konstantin KUTEYKIN TEPLYAKOV",
      "userId": "04703267818047594055"
     },
     "user_tz": -60
    },
    "id": "11519bd9",
    "outputId": "d468ef13-da99-4863-a3d0-eba06a30a4c1"
   },
   "outputs": [
    {
     "data": {
      "text/plain": [
       "Index(['Molecule ChEMBL ID', 'Smiles', 'mean_value', 'MOL', 'MOL_standardized',\n",
       "       'Smiles_standard'],\n",
       "      dtype='object')"
      ]
     },
     "execution_count": 35,
     "metadata": {},
     "output_type": "execute_result"
    }
   ],
   "source": [
    "# dataset with just chemical structure and one activity value per substanse\n",
    "df_selected.columns"
   ]
  },
  {
   "cell_type": "code",
   "execution_count": 36,
   "metadata": {
    "colab": {
     "base_uri": "https://localhost:8080/"
    },
    "execution": {
     "iopub.execute_input": "2022-03-25T00:57:06.323818Z",
     "iopub.status.busy": "2022-03-25T00:57:06.323083Z",
     "iopub.status.idle": "2022-03-25T00:57:06.338476Z",
     "shell.execute_reply": "2022-03-25T00:57:06.337641Z",
     "shell.execute_reply.started": "2022-03-25T00:57:06.323771Z"
    },
    "executionInfo": {
     "elapsed": 425,
     "status": "ok",
     "timestamp": 1651746999131,
     "user": {
      "displayName": "Konstantin KUTEYKIN TEPLYAKOV",
      "userId": "04703267818047594055"
     },
     "user_tz": -60
    },
    "id": "FiOzOzm28141",
    "outputId": "be20cc51-dd9a-4a5d-e956-9e8b7698c2e5"
   },
   "outputs": [
    {
     "data": {
      "text/plain": [
       "Molecule ChEMBL ID    9645\n",
       "Smiles                9645\n",
       "mean_value            3963\n",
       "MOL                   9645\n",
       "MOL_standardized      9645\n",
       "Smiles_standard       9645\n",
       "dtype: int64"
      ]
     },
     "execution_count": 36,
     "metadata": {},
     "output_type": "execute_result"
    }
   ],
   "source": [
    "df_selected.nunique()"
   ]
  },
  {
   "cell_type": "markdown",
   "metadata": {
    "id": "KUQHoFui8142"
   },
   "source": [
    "## Data labeling based on activity:\n",
    "\n",
    "* Class 0: '**weak**'. Active at  > 10000 nM\n",
    "* Class 1: '**mild**'. Active between 1000 nM and 10000 nM\n",
    "* Class 2: '**strong**'. Active between 100 nM and 1000 nM\n",
    "* Class 3: '**very strong**' Active at < 100 nM \n"
   ]
  },
  {
   "cell_type": "code",
   "execution_count": 37,
   "metadata": {
    "colab": {
     "base_uri": "https://localhost:8080/"
    },
    "execution": {
     "iopub.execute_input": "2022-03-25T00:57:11.591509Z",
     "iopub.status.busy": "2022-03-25T00:57:11.591219Z",
     "iopub.status.idle": "2022-03-25T00:57:11.604334Z",
     "shell.execute_reply": "2022-03-25T00:57:11.603512Z",
     "shell.execute_reply.started": "2022-03-25T00:57:11.591477Z"
    },
    "executionInfo": {
     "elapsed": 624,
     "status": "ok",
     "timestamp": 1651747007981,
     "user": {
      "displayName": "Konstantin KUTEYKIN TEPLYAKOV",
      "userId": "04703267818047594055"
     },
     "user_tz": -60
    },
    "id": "d793d0fe",
    "outputId": "bf7788b3-889b-4971-a8d9-b54feeb728bb"
   },
   "outputs": [
    {
     "name": "stderr",
     "output_type": "stream",
     "text": [
      "/usr/local/lib/python3.7/dist-packages/ipykernel_launcher.py:9: SettingWithCopyWarning: \n",
      "A value is trying to be set on a copy of a slice from a DataFrame.\n",
      "Try using .loc[row_indexer,col_indexer] = value instead\n",
      "\n",
      "See the caveats in the documentation: https://pandas.pydata.org/pandas-docs/stable/user_guide/indexing.html#returning-a-view-versus-a-copy\n",
      "  if __name__ == '__main__':\n",
      "/usr/local/lib/python3.7/dist-packages/ipykernel_launcher.py:12: SettingWithCopyWarning: \n",
      "A value is trying to be set on a copy of a slice from a DataFrame.\n",
      "Try using .loc[row_indexer,col_indexer] = value instead\n",
      "\n",
      "See the caveats in the documentation: https://pandas.pydata.org/pandas-docs/stable/user_guide/indexing.html#returning-a-view-versus-a-copy\n",
      "  if sys.path[0] == '':\n"
     ]
    }
   ],
   "source": [
    "conditions_activity = [(df_selected.mean_value <= 100), \n",
    "                       ((df_selected.mean_value > 100) & (df_selected.mean_value <= 1000)), \n",
    "                       ((df_selected.mean_value > 1000) & (df_selected.mean_value <= 10000)), \n",
    "                       (df_selected.mean_value > 10000)]\n",
    "labels_activity = ['very strong', \n",
    "                   'strong', \n",
    "                   'mild', \n",
    "                   'weak']\n",
    "df_selected['Activity'] = np.select(conditions_activity, labels_activity)\n",
    "\n",
    "labels = [3, 2, 1, 0] \n",
    "df_selected['Label'] = np.select(conditions_activity, labels)"
   ]
  },
  {
   "cell_type": "code",
   "execution_count": 38,
   "metadata": {
    "colab": {
     "base_uri": "https://localhost:8080/",
     "height": 1000
    },
    "execution": {
     "iopub.execute_input": "2022-03-25T00:57:16.293356Z",
     "iopub.status.busy": "2022-03-25T00:57:16.292469Z",
     "iopub.status.idle": "2022-03-25T00:57:16.304653Z",
     "shell.execute_reply": "2022-03-25T00:57:16.303958Z",
     "shell.execute_reply.started": "2022-03-25T00:57:16.293319Z"
    },
    "executionInfo": {
     "elapsed": 693,
     "status": "ok",
     "timestamp": 1651747017080,
     "user": {
      "displayName": "Konstantin KUTEYKIN TEPLYAKOV",
      "userId": "04703267818047594055"
     },
     "user_tz": -60
    },
    "id": "9mOI-Ywe8144",
    "outputId": "ce04ff28-c3b3-4c61-e9a7-21b6b05bb5bf"
   },
   "outputs": [
    {
     "data": {
      "text/html": [
       "\n",
       "  <div id=\"df-59b90e0f-510f-4a8c-be92-70dfc61d58e2\">\n",
       "    <div class=\"colab-df-container\">\n",
       "      <div>\n",
       "<style scoped>\n",
       "    .dataframe tbody tr th:only-of-type {\n",
       "        vertical-align: middle;\n",
       "    }\n",
       "\n",
       "    .dataframe tbody tr th {\n",
       "        vertical-align: top;\n",
       "    }\n",
       "\n",
       "    .dataframe thead th {\n",
       "        text-align: right;\n",
       "    }\n",
       "</style>\n",
       "<table border=\"1\" class=\"dataframe\">\n",
       "  <thead>\n",
       "    <tr style=\"text-align: right;\">\n",
       "      <th></th>\n",
       "      <th>Molecule ChEMBL ID</th>\n",
       "      <th>Smiles</th>\n",
       "      <th>mean_value</th>\n",
       "      <th>MOL</th>\n",
       "      <th>MOL_standardized</th>\n",
       "      <th>Smiles_standard</th>\n",
       "      <th>Activity</th>\n",
       "      <th>Label</th>\n",
       "    </tr>\n",
       "  </thead>\n",
       "  <tbody>\n",
       "    <tr>\n",
       "      <th>1</th>\n",
       "      <td>CHEMBL104</td>\n",
       "      <td>Clc1ccccc1C(c1ccccc1)(c1ccccc1)n1ccnc1</td>\n",
       "      <td>7162.5</td>\n",
       "      <td>&lt;img data-content=\"rdkit/molecule\" src=\"data:image/png;base64,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\" alt=\"Mol\"/&gt;</td>\n",
       "      <td>&lt;img data-content=\"rdkit/molecule\" src=\"data:image/png;base64,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\" alt=\"Mol\"/&gt;</td>\n",
       "      <td>Clc1ccccc1C(c1ccccc1)(c1ccccc1)n1ccnc1</td>\n",
       "      <td>mild</td>\n",
       "      <td>1</td>\n",
       "    </tr>\n",
       "    <tr>\n",
       "      <th>2</th>\n",
       "      <td>CHEMBL4742201</td>\n",
       "      <td>CN(C)CCN1C(=O)c2ccccc2N(C)C(=O)c2ccccc21</td>\n",
       "      <td>100000.0</td>\n",
       "      <td>&lt;img data-content=\"rdkit/molecule\" src=\"data:image/png;base64,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\" alt=\"Mol\"/&gt;</td>\n",
       "      <td>&lt;img data-content=\"rdkit/molecule\" src=\"data:image/png;base64,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\" alt=\"Mol\"/&gt;</td>\n",
       "      <td>CN(C)CCN1C(=O)c2ccccc2N(C)C(=O)c2ccccc21</td>\n",
       "      <td>weak</td>\n",
       "      <td>0</td>\n",
       "    </tr>\n",
       "    <tr>\n",
       "      <th>3</th>\n",
       "      <td>CHEMBL411</td>\n",
       "      <td>CC/C(=C(/CC)c1ccc(O)cc1)c1ccc(O)cc1</td>\n",
       "      <td>3079.5</td>\n",
       "      <td>&lt;img data-content=\"rdkit/molecule\" src=\"data:image/png;base64,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\" alt=\"Mol\"/&gt;</td>\n",
       "      <td>&lt;img data-content=\"rdkit/molecule\" src=\"data:image/png;base64,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\" alt=\"Mol\"/&gt;</td>\n",
       "      <td>CC/C(=C(/CC)c1ccc(O)cc1)c1ccc(O)cc1</td>\n",
       "      <td>mild</td>\n",
       "      <td>1</td>\n",
       "    </tr>\n",
       "    <tr>\n",
       "      <th>6</th>\n",
       "      <td>CHEMBL900</td>\n",
       "      <td>Cc1ccccc1C(OCCN(C)C)c1ccccc1</td>\n",
       "      <td>280.5</td>\n",
       "      <td>&lt;img data-content=\"rdkit/molecule\" src=\"data:image/png;base64,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\" alt=\"Mol\"/&gt;</td>\n",
       "      <td>&lt;img data-content=\"rdkit/molecule\" src=\"data:image/png;base64,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\" alt=\"Mol\"/&gt;</td>\n",
       "      <td>Cc1ccccc1C(OCCN(C)C)c1ccccc1</td>\n",
       "      <td>strong</td>\n",
       "      <td>2</td>\n",
       "    </tr>\n",
       "    <tr>\n",
       "      <th>11</th>\n",
       "      <td>CHEMBL55</td>\n",
       "      <td>N=C(N)c1ccc(OCCCCCOc2ccc(C(=N)N)cc2)cc1</td>\n",
       "      <td>1053.5</td>\n",
       "      <td>&lt;img data-content=\"rdkit/molecule\" src=\"data:image/png;base64,iVBORw0KGgoAAAANSUhEUgAAAMgAAADICAIAAAAiOjnJAAAABmJLR0QA/wD/AP+gvaeTAAAPKUlEQVR4nO3bf1DUdR7H8fcuPxYEMVE5MMXKdLD8ASKDv/IYNS11zDHpOh3CTsWmBsbRRka9BoUhuTNEKc5Qh2udO2wsJ4a8vDIVskkFRwU1fijED0VQEQ1YWWD3fX98cEMQWHDf4OXr8UdD636/3w/ffe73+2W/n9UwMwHYmravBwC/TwgLRCAsEIGwQATCAhEIC0QgLBCBsEAEwgIRCAtEICwQgbBABMICEQgLRCAsEIGwQATCAhEIC0QgLBCBsEAEwgIRCAtEICwQgbBABMICEQgLRCAsEIGwQATCAhEIC0QgLBCBsEAEwgIRCAtEICwQgbBABMICEQgLRCAsEIGwQATCAhEIC0QgLBCBsEAEwgIRCAtEICwQgbBABMICEQgLRCAsEIGwQATCAhEIC0QgLBCBsEAEwgIRCAtEICwQgbBABMICEQgLRCAsEIGwQATCAhEIC0QgLBCBsEAEwgIRCAtEICwQgbBABMICEQgLRCAsEIGwQATCAhH2fT0A2ykooH//m5hp+XIaObKvR9N9N2/SP/5BJhPNm0eTJ/f1aB4ZPzaKi4tLS0uzs7N7uPxf/sKNjdzQwCtW9GwFp0+fLikpKS0t7dni1dXV+fn5P/30U88W5zVruLqazWZevpzN5h6soKCgoLy8/Pz58z0cgE09FmHV19dHRUU5OTn5+/trNJrg4OBuv7omE69e3fLz6tVsMnVr6atXr4aEhGg0Gj8/P2dn58jIyF9//dX6xZuampKTk4cMGfL8888T0cyZM3Nzc7s1gAfGv2ED377drV+htrY2KipKp9MFBARotdqQkJDKysruDcDW+jgss9m8b9++p59+mojU6+rk5ERErq6uH3744b1797peRUEBL1jAf/sbr1rFdXV89y6/8w5v2cKzZ/OlS10ubTAYtmzZ0q9fPyJydnb29fXVaDRENHz48NTUVLMVR44jR468+OKL6vA/bty4gQMHEpG9vX14eHh1dXXX4795kyMi+O23ef16LivjpiYODeUvv2R/fz5xosulTSbT7t27PTw8iEir1U6cONHBwYGInnrqqe3btzc2NnY9ABl9GVZ2dva0adPUS+Lv7//jjz8y8/Hjx0NCQtSDw4cP1+v1HS5fU8Nr1rCDAxOxtzeXlnJMDMfGclkZe3kxETs68vvv8927Ha0gPT392WefVdtasGBBcXExM58+fXrKlCnqwYCAgE5ObZcvXw4ODlbP9Pb2VkO9fft2RESEvb09EQ0cOHDHjh1NTU0PX76hgePiuH9/JmInJy4s5L//naOjOS+PX3qJiVij4WXL+OrVjgZw6tSpwMBANYDAwMCTJ08y8+HDhy2jGjVq1IEDBzrcgZL6JqyKioqwsDCtVktEXl5eycnJJpOJmSsrKwcMGBAQEPDJJ59MmDBB7Z2goKA21w3Nzc2ffvpp4wsvMBHb2fHq1XzjxgMbqKzkFStYq2WikgkT9uzZY3rwzHL27NkZM2ao9fv5+WVmZrb+V7PZrNfrPT091XE0JCTk+vXrrZ9QV1enzt1E5OLiEhUV1ebgmpeX9+qrr6r1+/j4fPPNN232QFpa2q05c5iIiXjhQr58+YF/rqvjTZvYyYmJDIMHf7R1q8FgaP3v5eXl6txNRMOGDdPr9ergWlxc7OTkFBQUlJycbDmOzp49++LFi12+KLbV22EZjcYdO3a4ubkRkaOjY0RExN1WR5QffvhBvZxarTY0NHTnzp2Wg3xISEhVVRUzHz9+XDX36bRp/Mc/cifXqmfP8ksvBU+Z0rqeW7duRURE2NnZEdGgQYN27NjR3Nz80KVVPTqdrnU9XTbXWnp6+sj7f58uWLDgypUrzJyfn6+aW+rjwy+8wP/5T4fjLy/nkJCooKDW9dTX18fFxbm6uhJRv379IiMja2trLUt8++23gwcPJiI7O7uwsLD4+Hj1vw4ODmFhYTdv3uz4lbGxXg0rMzPTcupZvHhxUVFR++e0ORhERka+9957luuGSZMmqcWfeeaZL7/4outNms2ff/758OHDVQcBAQGWpteuXXvnzp0uV1BYWLhw4UK10REjRvj4+Kifp06dmpWV1eXiDQ0NW7duVR3odLrAwEB1lnR3d//444+bOzpLtpKZkeHr66s2On78eC8vL/W7LF26tLy8vP3za2pqIiMjHR0d1R774IMPVqxYod5IQ4YM+cKanWYLvReWwWDYvHmznZ2dj4/P4cOHO3/ylStXFi1apPbmyJEjk5KS5s+fT0Senp7Ozs7tTz1dblq9y8eMGdOzU8PRo0fHjRvn6Og4cODAoUOHWk49VrKc+idOnGhvbx8WFnajzbm7UyaTSa/Xe3h4uLm5aTSaiRMnnujquv7nn3+eO3eu5Vy8e/du9b/h4eG98wdj74VVUVGh3qkdnXraO3bs2Pjx44koNDSUmdWFameX850qKysrLCzMyMjo2eJNTU0nTpw4ffp0XV1dz9aQlZVVUlLS48udrKws9QeNyepPIix/sYaHhzPz2LFjiajLKG2it8Py9PTcv3//unXrzpw5Y81STU1NSUlJ165dY+Z58+YR0aFDh4RH+pjKz88notGjR3/22Wfr1q27cOGCNUsZjcaEhIRbt24xs/obvHfC6oN7hYcPH46Pj7948aI1T7a3t3/33XeHDh0qPar/I2lpafHx8ZcvX7bmyY6OjmvWrBk0aJD0qNrATWgQgbBABMICEQgLRCAsEIGwQMTDwzKbqaqKiKi2lurriYiamqikhIioqooaG3trdKQ23dSr2/vdsdUOVJ9v1NTQjRtUW0tEVFVFZvPDn/zwsGprKTGRiOjYMTp5kojo1i2aNYuqqyk1lSoqHml8iYmJFRUVb7zxhjVP/v777/38/L766qtH2uTvS0pKSkVFhfq4uEtff/21j4/Pd9999+jbDQqioiI6epRSU+nYMSKixMSWwtrr8FR44QLt20cZGb89smQJxcX1cExmszk1NdXBwaGuru7kyZNeXl7Ozs6dL5Kfnz9v3ryXX3750qVLe/bsycnJOXfunIuLi7qJ+wTSarWurq5VVVXnz5/38vJS0y46kZubO3PmzIULFxYXF6ekpGRlZRUWFjo6OqampjY0NFi/3YwM2riRiGjRIvroo98e3LePLlzoeLGHfh5/5w6Hh3NZGe/dy0eOMDNXVPC2bbxrF//pT5yRwbGxbP1d4MzMTD8/PyJS84eIaP78+fn5+R09X92fVztO3Z9fuXKluj+v7nk9sXbu3Kl24Ouvv66mJT5UdXW1ZWqQu7t7dHT0W2+9pXa+els+99xzBw8e7HJzv/zCS5a0zBnLzOR16zg9nf/8Z05I4L17uayMw8O5owkiHYa1cSMzc1oaHzrE+/fzkSO8bRs3N3NAAM+ezUQ8bBjr9V3M+m8zHy0lJSUhIWHAgAFE5ODgEBERUVNT0/r5ltv46g26bNmybdu2qRlFalJAb84oegx1PpuN78++t+yxlStXxsbGquerHX7o0KFOZlBa1NXVxcTUOzkxEbu48F//yjExvHYtM/Nrr3FCAqelMTNv3NjNsMxmVjMWGxu5sZGbmvif/2w5RN27x0eP8vjxLSEHBXFubk37NXQyH631VDt3d/fWU+0s11JqDqS6G09Es2bNsvKe65Pg2rVrD51/y8x6vV7tsblz5yYlJbWfZsjt3r2WGZSK2Ww+cODAiBEjpk/fq9HwkiUcH89/+AMTcWIiM7PRyAYDq8n0BkOHR5auZzcYDBwb23bqrMnEej17eLCnZ7Orq2frwVlGZvmVSkpK2q+29eRgX19fNb3TbDa/+eabiYmJj8Os7cdcdnb21KlT1V6aNGmS+sZAc3Pz4sWLd+3a1fnEaG43HzAuLs5oNJ46dWry/a80Tp48ddeuWl/fliPIjBl87lw3htd1WHV1fOYMP2yyJ9++zTEx/7VM70xISDh16tT06dPVyKyZj9bm6wwXL160zAZ2dXWNiopqaGjoxm/zhFHvYW9vb3X9GhwcnJOTY+1XOZiZuaCgQM2gVO/h/v37E9HQoUO3b98eEhIyduxKjcaqa572bDAfKy8v75VXXlGDUyc4T0/PlJQUK+ejGQyG6Oho9QUs9V+tVrtq1arWx2foRG1t7YYNGyxfm6NuffmMmZnT09NHjRqlXsFly5atX79e/c3u4uKyc2fZg1/jsJZtJvoZjUYPDw9nZ+fAwEA3N7ekpKTurqG8vHzp0qWbN28OCgo6e/asTUb1RCkqKlq8eHF0dPScOXMuWfGFyjaMRmNMTIyLi4s6aHUyp95KtglLfS6i5pQR0fbt222yWuhN1dXVRNS/f39/f/9Hn2X6hH7YCB2xt7fPzs62fOLYY7gJDW09elWEsECIbU6FGo1Op7un02ns7Ox0uq1arYNNVgu9SaNx1+lYp2ObrM02YTGT0ejETCYTGY32HU2lgMcZMxmNZDTa4DxIOBWCEIQFImx1jUVubqTTkbNzyw/wf0erJTc3cnOzzdpsE5ajIx08SPX19NprNHr0b4/r9RQaapMtgLi9eyknh4YNo3/9i5qbaflyKiqi69fp/r3f7rHZqbCoiPR6qqmh8+fpzJmWBy0/wOOvtJTi48lsptzclheuupp++aWHa7PlJ+9r1rTMXa6ro9hYIqLuzICFPqbT0fTppGbE5eRQbCxdvUr3J+Z0my0v3j09ydubCgvJ1ZU2baJNm8jJyYarB3GLFlFmJhHRhAm0aRO9/TYRkcFA3P3Ptmx2xBozhgYMoHfeocZG8vJqebBnp2foE2qG3/vv07lzpL4w5uFBJhMdOUKVlbR6dffWpuEe1AhPkpISysuj+zNSrYXPsaAzBgMlJ/fkkgZHLBCBIxaIQFggAmGBCIQFIhAWiEBYIAJhgQiEBSIQFohAWCACYYEIhAUiEBaIQFggAmGBCIQFIhAWiEBYIAJhgQiEBSIQFohAWCACYYEIhAUiEBaIQFggAmGBCIQFIhAWiEBYIAJhgQiEBSIQFohAWCACYYEIhAUiEBaIQFggAmGBCIQFIhAWiEBYIAJhgQiEBSIQFohAWCACYYEIhAUiEBaIQFggAmGBCIQFIhAWiEBYIAJhgQiEBSIQFohAWCACYYEIhAUiEBaIQFggAmGBCIQFIhAWiEBYIAJhgQiEBSIQFohAWCACYYEIhAUiEBaIQFggAmGBCIQFIhAWiPgf/tvRlTFPR30AAAFTelRYdHJka2l0UEtMIHJka2l0IDIwMjIuMDMuMgAAeJyFUT1PwzAQtc+JkyZNmoTmoyx4qvILGJCquAs/oAurR6sbIwyIhT/BjNjYmGkqRgZWJqT+AiYGNpyERKcy9KTTPb+8O79zvl6ePomJgHRBTc5MHpu8pQ7RpjKgnJQNsP4IClx2BJctwSgC3Re3awFOlKlwsA76g5P3zABFrv737AOf0BIoCMoEszRYtrK5Bu4IxyXuiIw84vnEH5NxQIJQhBMNk0hFsYY4EclRCclUxKlKM9OTq7zQUDCVhWoKnBU5ty0+ieI0C/NT2r1mGzP7Jt5eLs7q5tDg3fXzpsG78/n29bts8Wr9U2O88C6qBt9/vNcnd29Vp38c+NX6CvHzgTeaTc+bv/iA+ArpJZoj0XyJ9LL3YzzI3rPxNvBmlyXaZYn5ft9Gj3bBd9Voft3PyX4BvBx53UcE/lgAAAG9elRYdE1PTCByZGtpdCAyMDIyLjAzLjIAAHicjVXRbsMgDHzPV/gHijhjSPy4ttM0TUulrds/7H3/r2GmFuehKEk5gXNYgO/oRPZ8nN9+fun+8HmaiOLgp6r0nWKM0ztZh47PL68rna5Px1vkdPlar5/EmbjUOfXdcp+ul/dbBLTSQUPUxGWmAwdFzV2nhBj/Ozcm08kzEeQRM1lOxJCUU8x0iKGUB1SxpHOYVZh1yMwbZgyLPCAWI5YgmqEghKwPiLMRc4AWZB5lXOhChxQWnQEZZVTLyPX7EucyyohoTARWjWkZpQSM2eODnFagXSlTJe5apdSN79k3rDh7ThLFE0flhlXnXsWR2rBU5i4JweqzS8Ecq4T3KZjNQfsMxH6hg1Pi5Pc+OHeWjYSHy8wbW4w2/7yeN1fE/6VxvKznfmmwtX4zWCB1+9tQusXtzd3HdUClu1Vqm7snUdvSnYfatPsL1ryN0ADOLmjAzhZokJz+0UCc0NEgO0XbsArWSVcMMDuJigEWJ0U0UCc5buClhRaBU5DYLGanFDHg5CQh9WBYXOnFgLOrsDS4B2zFdWLflVXW19HGtz+O2p/+APZfNljjWAmUAAAAs3pUWHRTTUlMRVMgcmRraXQgMjAyMi4wMy4yAAB4nHWQTQoDIQxGr9KlgoYk/oYyK/fOIbzGHL4KSlFaQeTlQ5NnvYqqulFrTd1lrLvxgKKuqnvSuG96PcoKoDhOxjIImfeXCfxgQnDCzliEGDsnSOJ/MEL2HSN4CSSGIEjHACSRwkodZElEK+V+ZMwrJWAR9DPFWd6r+5X9vb3ZojnoGmx6HRqH9SF9/NGu/Md4/c/eVz8fMDdUhXvCKR8AAAAASUVORK5CYII=\" alt=\"Mol\"/&gt;</td>\n",
       "      <td>&lt;img data-content=\"rdkit/molecule\" src=\"data:image/png;base64,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\" alt=\"Mol\"/&gt;</td>\n",
       "      <td>N=C(N)c1ccc(OCCCCCOc2ccc(C(=N)N)cc2)cc1</td>\n",
       "      <td>mild</td>\n",
       "      <td>1</td>\n",
       "    </tr>\n",
       "    <tr>\n",
       "      <th>...</th>\n",
       "      <td>...</td>\n",
       "      <td>...</td>\n",
       "      <td>...</td>\n",
       "      <td>...</td>\n",
       "      <td>...</td>\n",
       "      <td>...</td>\n",
       "      <td>...</td>\n",
       "      <td>...</td>\n",
       "    </tr>\n",
       "    <tr>\n",
       "      <th>19229</th>\n",
       "      <td>CHEMBL307717</td>\n",
       "      <td>CN1CCN(C2CC(c3ccc(F)cc3)c3ccc(F)cc32)CC1</td>\n",
       "      <td>7.7</td>\n",
       "      <td>&lt;img data-content=\"rdkit/molecule\" src=\"data:image/png;base64,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\" alt=\"Mol\"/&gt;</td>\n",
       "      <td>&lt;img data-content=\"rdkit/molecule\" src=\"data:image/png;base64,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\" alt=\"Mol\"/&gt;</td>\n",
       "      <td>CN1CCN(C2CC(c3ccc(F)cc3)c3ccc(F)cc32)CC1</td>\n",
       "      <td>very strong</td>\n",
       "      <td>3</td>\n",
       "    </tr>\n",
       "    <tr>\n",
       "      <th>19237</th>\n",
       "      <td>CHEMBL428999</td>\n",
       "      <td>Brc1ccc2c3c([nH]c2c1)C=NCC3</td>\n",
       "      <td>1330.0</td>\n",
       "      <td>&lt;img data-content=\"rdkit/molecule\" src=\"data:image/png;base64,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\" alt=\"Mol\"/&gt;</td>\n",
       "      <td>&lt;img data-content=\"rdkit/molecule\" src=\"data:image/png;base64,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\" alt=\"Mol\"/&gt;</td>\n",
       "      <td>Brc1ccc2c3c([nH]c2c1)C=NCC3</td>\n",
       "      <td>mild</td>\n",
       "      <td>1</td>\n",
       "    </tr>\n",
       "    <tr>\n",
       "      <th>19273</th>\n",
       "      <td>CHEMBL4759887</td>\n",
       "      <td>CN1CCc2ccc(OCCCCN3CCN(c4cccc(Cl)c4Cl)CC3)cc2C1=O</td>\n",
       "      <td>215.9</td>\n",
       "      <td>&lt;img data-content=\"rdkit/molecule\" src=\"data:image/png;base64,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\" alt=\"Mol\"/&gt;</td>\n",
       "      <td>&lt;img data-content=\"rdkit/molecule\" src=\"data:image/png;base64,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\" alt=\"Mol\"/&gt;</td>\n",
       "      <td>CN1CCc2ccc(OCCCCN3CCN(c4cccc(Cl)c4Cl)CC3)cc2C1=O</td>\n",
       "      <td>strong</td>\n",
       "      <td>2</td>\n",
       "    </tr>\n",
       "    <tr>\n",
       "      <th>19310</th>\n",
       "      <td>CHEMBL494678</td>\n",
       "      <td>CN1CCN(c2cc(-c3ccc(C#N)cc3)nc(N)n2)CC1</td>\n",
       "      <td>4100.0</td>\n",
       "      <td>&lt;img data-content=\"rdkit/molecule\" src=\"data:image/png;base64,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\" alt=\"Mol\"/&gt;</td>\n",
       "      <td>&lt;img data-content=\"rdkit/molecule\" src=\"data:image/png;base64,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\" alt=\"Mol\"/&gt;</td>\n",
       "      <td>CN1CCN(c2cc(-c3ccc(C#N)cc3)nc(N)n2)CC1</td>\n",
       "      <td>mild</td>\n",
       "      <td>1</td>\n",
       "    </tr>\n",
       "    <tr>\n",
       "      <th>19327</th>\n",
       "      <td>CHEMBL141209</td>\n",
       "      <td>COC1Cc2ccccc2C2(CCN(Cc3ccccc3)CC2)O1</td>\n",
       "      <td>6600.0</td>\n",
       "      <td>&lt;img data-content=\"rdkit/molecule\" src=\"data:image/png;base64,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\" alt=\"Mol\"/&gt;</td>\n",
       "      <td>&lt;img data-content=\"rdkit/molecule\" src=\"data:image/png;base64,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\" alt=\"Mol\"/&gt;</td>\n",
       "      <td>COC1Cc2ccccc2C2(CCN(Cc3ccccc3)CC2)O1</td>\n",
       "      <td>mild</td>\n",
       "      <td>1</td>\n",
       "    </tr>\n",
       "  </tbody>\n",
       "</table>\n",
       "<p>9645 rows × 8 columns</p>\n",
       "</div>\n",
       "      <button class=\"colab-df-convert\" onclick=\"convertToInteractive('df-59b90e0f-510f-4a8c-be92-70dfc61d58e2')\"\n",
       "              title=\"Convert this dataframe to an interactive table.\"\n",
       "              style=\"display:none;\">\n",
       "        \n",
       "  <svg xmlns=\"http://www.w3.org/2000/svg\" height=\"24px\"viewBox=\"0 0 24 24\"\n",
       "       width=\"24px\">\n",
       "    <path d=\"M0 0h24v24H0V0z\" fill=\"none\"/>\n",
       "    <path d=\"M18.56 5.44l.94 2.06.94-2.06 2.06-.94-2.06-.94-.94-2.06-.94 2.06-2.06.94zm-11 1L8.5 8.5l.94-2.06 2.06-.94-2.06-.94L8.5 2.5l-.94 2.06-2.06.94zm10 10l.94 2.06.94-2.06 2.06-.94-2.06-.94-.94-2.06-.94 2.06-2.06.94z\"/><path d=\"M17.41 7.96l-1.37-1.37c-.4-.4-.92-.59-1.43-.59-.52 0-1.04.2-1.43.59L10.3 9.45l-7.72 7.72c-.78.78-.78 2.05 0 2.83L4 21.41c.39.39.9.59 1.41.59.51 0 1.02-.2 1.41-.59l7.78-7.78 2.81-2.81c.8-.78.8-2.07 0-2.86zM5.41 20L4 18.59l7.72-7.72 1.47 1.35L5.41 20z\"/>\n",
       "  </svg>\n",
       "      </button>\n",
       "      \n",
       "  <style>\n",
       "    .colab-df-container {\n",
       "      display:flex;\n",
       "      flex-wrap:wrap;\n",
       "      gap: 12px;\n",
       "    }\n",
       "\n",
       "    .colab-df-convert {\n",
       "      background-color: #E8F0FE;\n",
       "      border: none;\n",
       "      border-radius: 50%;\n",
       "      cursor: pointer;\n",
       "      display: none;\n",
       "      fill: #1967D2;\n",
       "      height: 32px;\n",
       "      padding: 0 0 0 0;\n",
       "      width: 32px;\n",
       "    }\n",
       "\n",
       "    .colab-df-convert:hover {\n",
       "      background-color: #E2EBFA;\n",
       "      box-shadow: 0px 1px 2px rgba(60, 64, 67, 0.3), 0px 1px 3px 1px rgba(60, 64, 67, 0.15);\n",
       "      fill: #174EA6;\n",
       "    }\n",
       "\n",
       "    [theme=dark] .colab-df-convert {\n",
       "      background-color: #3B4455;\n",
       "      fill: #D2E3FC;\n",
       "    }\n",
       "\n",
       "    [theme=dark] .colab-df-convert:hover {\n",
       "      background-color: #434B5C;\n",
       "      box-shadow: 0px 1px 3px 1px rgba(0, 0, 0, 0.15);\n",
       "      filter: drop-shadow(0px 1px 2px rgba(0, 0, 0, 0.3));\n",
       "      fill: #FFFFFF;\n",
       "    }\n",
       "  </style>\n",
       "\n",
       "      <script>\n",
       "        const buttonEl =\n",
       "          document.querySelector('#df-59b90e0f-510f-4a8c-be92-70dfc61d58e2 button.colab-df-convert');\n",
       "        buttonEl.style.display =\n",
       "          google.colab.kernel.accessAllowed ? 'block' : 'none';\n",
       "\n",
       "        async function convertToInteractive(key) {\n",
       "          const element = document.querySelector('#df-59b90e0f-510f-4a8c-be92-70dfc61d58e2');\n",
       "          const dataTable =\n",
       "            await google.colab.kernel.invokeFunction('convertToInteractive',\n",
       "                                                     [key], {});\n",
       "          if (!dataTable) return;\n",
       "\n",
       "          const docLinkHtml = 'Like what you see? Visit the ' +\n",
       "            '<a target=\"_blank\" href=https://colab.research.google.com/notebooks/data_table.ipynb>data table notebook</a>'\n",
       "            + ' to learn more about interactive tables.';\n",
       "          element.innerHTML = '';\n",
       "          dataTable['output_type'] = 'display_data';\n",
       "          await google.colab.output.renderOutput(dataTable, element);\n",
       "          const docLink = document.createElement('div');\n",
       "          docLink.innerHTML = docLinkHtml;\n",
       "          element.appendChild(docLink);\n",
       "        }\n",
       "      </script>\n",
       "    </div>\n",
       "  </div>\n",
       "  "
      ],
      "text/plain": [
       "      Molecule ChEMBL ID                                            Smiles  \\\n",
       "1              CHEMBL104            Clc1ccccc1C(c1ccccc1)(c1ccccc1)n1ccnc1   \n",
       "2          CHEMBL4742201          CN(C)CCN1C(=O)c2ccccc2N(C)C(=O)c2ccccc21   \n",
       "3              CHEMBL411               CC/C(=C(/CC)c1ccc(O)cc1)c1ccc(O)cc1   \n",
       "6              CHEMBL900                      Cc1ccccc1C(OCCN(C)C)c1ccccc1   \n",
       "11              CHEMBL55           N=C(N)c1ccc(OCCCCCOc2ccc(C(=N)N)cc2)cc1   \n",
       "...                  ...                                               ...   \n",
       "19229       CHEMBL307717          CN1CCN(C2CC(c3ccc(F)cc3)c3ccc(F)cc32)CC1   \n",
       "19237       CHEMBL428999                       Brc1ccc2c3c([nH]c2c1)C=NCC3   \n",
       "19273      CHEMBL4759887  CN1CCc2ccc(OCCCCN3CCN(c4cccc(Cl)c4Cl)CC3)cc2C1=O   \n",
       "19310       CHEMBL494678            CN1CCN(c2cc(-c3ccc(C#N)cc3)nc(N)n2)CC1   \n",
       "19327       CHEMBL141209              COC1Cc2ccccc2C2(CCN(Cc3ccccc3)CC2)O1   \n",
       "\n",
       "       mean_value                                                MOL  \\\n",
       "1          7162.5  <img data-content=\"rdkit/molecule\" src=\"data:i...   \n",
       "2        100000.0  <img data-content=\"rdkit/molecule\" src=\"data:i...   \n",
       "3          3079.5  <img data-content=\"rdkit/molecule\" src=\"data:i...   \n",
       "6           280.5  <img data-content=\"rdkit/molecule\" src=\"data:i...   \n",
       "11         1053.5  <img data-content=\"rdkit/molecule\" src=\"data:i...   \n",
       "...           ...                                                ...   \n",
       "19229         7.7  <img data-content=\"rdkit/molecule\" src=\"data:i...   \n",
       "19237      1330.0  <img data-content=\"rdkit/molecule\" src=\"data:i...   \n",
       "19273       215.9  <img data-content=\"rdkit/molecule\" src=\"data:i...   \n",
       "19310      4100.0  <img data-content=\"rdkit/molecule\" src=\"data:i...   \n",
       "19327      6600.0  <img data-content=\"rdkit/molecule\" src=\"data:i...   \n",
       "\n",
       "                                        MOL_standardized  \\\n",
       "1      <img data-content=\"rdkit/molecule\" src=\"data:i...   \n",
       "2      <img data-content=\"rdkit/molecule\" src=\"data:i...   \n",
       "3      <img data-content=\"rdkit/molecule\" src=\"data:i...   \n",
       "6      <img data-content=\"rdkit/molecule\" src=\"data:i...   \n",
       "11     <img data-content=\"rdkit/molecule\" src=\"data:i...   \n",
       "...                                                  ...   \n",
       "19229  <img data-content=\"rdkit/molecule\" src=\"data:i...   \n",
       "19237  <img data-content=\"rdkit/molecule\" src=\"data:i...   \n",
       "19273  <img data-content=\"rdkit/molecule\" src=\"data:i...   \n",
       "19310  <img data-content=\"rdkit/molecule\" src=\"data:i...   \n",
       "19327  <img data-content=\"rdkit/molecule\" src=\"data:i...   \n",
       "\n",
       "                                        Smiles_standard     Activity  Label  \n",
       "1                Clc1ccccc1C(c1ccccc1)(c1ccccc1)n1ccnc1         mild      1  \n",
       "2              CN(C)CCN1C(=O)c2ccccc2N(C)C(=O)c2ccccc21         weak      0  \n",
       "3                   CC/C(=C(/CC)c1ccc(O)cc1)c1ccc(O)cc1         mild      1  \n",
       "6                          Cc1ccccc1C(OCCN(C)C)c1ccccc1       strong      2  \n",
       "11              N=C(N)c1ccc(OCCCCCOc2ccc(C(=N)N)cc2)cc1         mild      1  \n",
       "...                                                 ...          ...    ...  \n",
       "19229          CN1CCN(C2CC(c3ccc(F)cc3)c3ccc(F)cc32)CC1  very strong      3  \n",
       "19237                       Brc1ccc2c3c([nH]c2c1)C=NCC3         mild      1  \n",
       "19273  CN1CCc2ccc(OCCCCN3CCN(c4cccc(Cl)c4Cl)CC3)cc2C1=O       strong      2  \n",
       "19310            CN1CCN(c2cc(-c3ccc(C#N)cc3)nc(N)n2)CC1         mild      1  \n",
       "19327              COC1Cc2ccccc2C2(CCN(Cc3ccccc3)CC2)O1         mild      1  \n",
       "\n",
       "[9645 rows x 8 columns]"
      ]
     },
     "execution_count": 38,
     "metadata": {},
     "output_type": "execute_result"
    }
   ],
   "source": [
    "df_selected"
   ]
  },
  {
   "cell_type": "code",
   "execution_count": null,
   "metadata": {
    "colab": {
     "base_uri": "https://localhost:8080/"
    },
    "execution": {
     "iopub.execute_input": "2022-03-25T00:57:21.333132Z",
     "iopub.status.busy": "2022-03-25T00:57:21.332725Z",
     "iopub.status.idle": "2022-03-25T00:57:21.388365Z",
     "shell.execute_reply": "2022-03-25T00:57:21.387733Z",
     "shell.execute_reply.started": "2022-03-25T00:57:21.333103Z"
    },
    "executionInfo": {
     "elapsed": 21,
     "status": "ok",
     "timestamp": 1651660474244,
     "user": {
      "displayName": "Konstantin KUTEYKIN TEPLYAKOV",
      "userId": "04703267818047594055"
     },
     "user_tz": -60
    },
    "id": "c5018d92",
    "outputId": "710f1084-b875-4efb-c38c-2dac52bd9544"
   },
   "outputs": [
    {
     "data": {
      "text/plain": [
       "Index(['Molecule ChEMBL ID', 'Smiles', 'mean_value', 'MOL', 'MOL_standardized',\n",
       "       'Smiles_standard', 'Activity', 'Label'],\n",
       "      dtype='object')"
      ]
     },
     "execution_count": 67,
     "metadata": {},
     "output_type": "execute_result"
    }
   ],
   "source": [
    "df_selected.columns"
   ]
  },
  {
   "cell_type": "code",
   "execution_count": 39,
   "metadata": {
    "executionInfo": {
     "elapsed": 469,
     "status": "ok",
     "timestamp": 1651747045289,
     "user": {
      "displayName": "Konstantin KUTEYKIN TEPLYAKOV",
      "userId": "04703267818047594055"
     },
     "user_tz": -60
    },
    "id": "wP6TihPiopY-"
   },
   "outputs": [],
   "source": [
    "df_selected[['Molecule ChEMBL ID', 'Smiles_standard', 'mean_value', 'Activity', 'Label']]\\\n",
    ".to_csv('/content/drive/MyDrive/Colab Notebooks/Drug_discovery_course/Bioactivity_predictor/serotonin_labeled.csv', index=None)"
   ]
  },
  {
   "cell_type": "code",
   "execution_count": 40,
   "metadata": {
    "colab": {
     "base_uri": "https://localhost:8080/"
    },
    "executionInfo": {
     "elapsed": 378,
     "status": "ok",
     "timestamp": 1651747063646,
     "user": {
      "displayName": "Konstantin KUTEYKIN TEPLYAKOV",
      "userId": "04703267818047594055"
     },
     "user_tz": -60
    },
    "id": "REilLVl6qOzm",
    "outputId": "b92e6da1-6e33-46f9-f630-3caa1e7d6f19"
   },
   "outputs": [
    {
     "name": "stderr",
     "output_type": "stream",
     "text": [
      "/usr/local/lib/python3.7/dist-packages/pandas/core/frame.py:4913: SettingWithCopyWarning: \n",
      "A value is trying to be set on a copy of a slice from a DataFrame\n",
      "\n",
      "See the caveats in the documentation: https://pandas.pydata.org/pandas-docs/stable/user_guide/indexing.html#returning-a-view-versus-a-copy\n",
      "  errors=errors,\n"
     ]
    }
   ],
   "source": [
    "df_selected.drop(['Smiles', 'MOL'], axis = 1, inplace=True)"
   ]
  },
  {
   "cell_type": "code",
   "execution_count": 41,
   "metadata": {
    "colab": {
     "base_uri": "https://localhost:8080/"
    },
    "executionInfo": {
     "elapsed": 419,
     "status": "ok",
     "timestamp": 1651747065940,
     "user": {
      "displayName": "Konstantin KUTEYKIN TEPLYAKOV",
      "userId": "04703267818047594055"
     },
     "user_tz": -60
    },
    "id": "BF3p1FAv8147",
    "outputId": "c0ec413a-9f00-4f2d-90af-a3dbe2914b48"
   },
   "outputs": [
    {
     "data": {
      "text/plain": [
       "very strong    0.42\n",
       "strong         0.31\n",
       "mild           0.23\n",
       "weak           0.04\n",
       "Name: Activity, dtype: float64"
      ]
     },
     "execution_count": 41,
     "metadata": {},
     "output_type": "execute_result"
    }
   ],
   "source": [
    "df_selected['Activity'].value_counts(normalize=True)"
   ]
  },
  {
   "cell_type": "code",
   "execution_count": 42,
   "metadata": {
    "colab": {
     "base_uri": "https://localhost:8080/",
     "height": 298
    },
    "executionInfo": {
     "elapsed": 513,
     "status": "ok",
     "timestamp": 1651747070373,
     "user": {
      "displayName": "Konstantin KUTEYKIN TEPLYAKOV",
      "userId": "04703267818047594055"
     },
     "user_tz": -60
    },
    "id": "Go4frZXG814-",
    "outputId": "77ca5118-9358-48bf-b3a6-d8414acba6b6"
   },
   "outputs": [
    {
     "data": {
      "text/plain": [
       "Text(0, 0.5, 'Count')"
      ]
     },
     "execution_count": 42,
     "metadata": {},
     "output_type": "execute_result"
    },
    {
     "data": {
      "image/png": "[encoded data removed]",
      "text/plain": [
       "<Figure size 432x288 with 1 Axes>"
      ]
     },
     "metadata": {
      "needs_background": "light"
     },
     "output_type": "display_data"
    }
   ],
   "source": [
    "df_selected[df_selected.mean_value < 11000]['mean_value'].hist(bins=100)\n",
    "plt.xlabel('Value, nM')\n",
    "plt.ylabel('Count')"
   ]
  },
  {
   "cell_type": "code",
   "execution_count": 43,
   "metadata": {
    "execution": {
     "iopub.execute_input": "2022-03-25T00:57:24.532062Z",
     "iopub.status.busy": "2022-03-25T00:57:24.531662Z",
     "iopub.status.idle": "2022-03-25T00:57:24.538791Z",
     "shell.execute_reply": "2022-03-25T00:57:24.537686Z",
     "shell.execute_reply.started": "2022-03-25T00:57:24.532032Z"
    },
    "executionInfo": {
     "elapsed": 7,
     "status": "ok",
     "timestamp": 1651747073320,
     "user": {
      "displayName": "Konstantin KUTEYKIN TEPLYAKOV",
      "userId": "04703267818047594055"
     },
     "user_tz": -60
    },
    "id": "ff847beb"
   },
   "outputs": [],
   "source": [
    "# final dataset to train the model\n",
    "to_use = df_selected[['Smiles_standard', 'Label']]"
   ]
  },
  {
   "cell_type": "code",
   "execution_count": 44,
   "metadata": {
    "colab": {
     "base_uri": "https://localhost:8080/",
     "height": 424
    },
    "executionInfo": {
     "elapsed": 17,
     "status": "ok",
     "timestamp": 1651747077017,
     "user": {
      "displayName": "Konstantin KUTEYKIN TEPLYAKOV",
      "userId": "04703267818047594055"
     },
     "user_tz": -60
    },
    "id": "uK21CSh0CCh_",
    "outputId": "e83fbdfb-a6f8-4999-d4da-4cf7799a0853"
   },
   "outputs": [
    {
     "data": {
      "text/html": [
       "\n",
       "  <div id=\"df-6c2f0bb2-840b-4bdf-93a2-6ed7d5e84ce4\">\n",
       "    <div class=\"colab-df-container\">\n",
       "      <div>\n",
       "<style scoped>\n",
       "    .dataframe tbody tr th:only-of-type {\n",
       "        vertical-align: middle;\n",
       "    }\n",
       "\n",
       "    .dataframe tbody tr th {\n",
       "        vertical-align: top;\n",
       "    }\n",
       "\n",
       "    .dataframe thead th {\n",
       "        text-align: right;\n",
       "    }\n",
       "</style>\n",
       "<table border=\"1\" class=\"dataframe\">\n",
       "  <thead>\n",
       "    <tr style=\"text-align: right;\">\n",
       "      <th></th>\n",
       "      <th>Smiles_standard</th>\n",
       "      <th>Label</th>\n",
       "    </tr>\n",
       "  </thead>\n",
       "  <tbody>\n",
       "    <tr>\n",
       "      <th>1</th>\n",
       "      <td>Clc1ccccc1C(c1ccccc1)(c1ccccc1)n1ccnc1</td>\n",
       "      <td>1</td>\n",
       "    </tr>\n",
       "    <tr>\n",
       "      <th>2</th>\n",
       "      <td>CN(C)CCN1C(=O)c2ccccc2N(C)C(=O)c2ccccc21</td>\n",
       "      <td>0</td>\n",
       "    </tr>\n",
       "    <tr>\n",
       "      <th>3</th>\n",
       "      <td>CC/C(=C(/CC)c1ccc(O)cc1)c1ccc(O)cc1</td>\n",
       "      <td>1</td>\n",
       "    </tr>\n",
       "    <tr>\n",
       "      <th>6</th>\n",
       "      <td>Cc1ccccc1C(OCCN(C)C)c1ccccc1</td>\n",
       "      <td>2</td>\n",
       "    </tr>\n",
       "    <tr>\n",
       "      <th>11</th>\n",
       "      <td>N=C(N)c1ccc(OCCCCCOc2ccc(C(=N)N)cc2)cc1</td>\n",
       "      <td>1</td>\n",
       "    </tr>\n",
       "    <tr>\n",
       "      <th>...</th>\n",
       "      <td>...</td>\n",
       "      <td>...</td>\n",
       "    </tr>\n",
       "    <tr>\n",
       "      <th>19229</th>\n",
       "      <td>CN1CCN(C2CC(c3ccc(F)cc3)c3ccc(F)cc32)CC1</td>\n",
       "      <td>3</td>\n",
       "    </tr>\n",
       "    <tr>\n",
       "      <th>19237</th>\n",
       "      <td>Brc1ccc2c3c([nH]c2c1)C=NCC3</td>\n",
       "      <td>1</td>\n",
       "    </tr>\n",
       "    <tr>\n",
       "      <th>19273</th>\n",
       "      <td>CN1CCc2ccc(OCCCCN3CCN(c4cccc(Cl)c4Cl)CC3)cc2C1=O</td>\n",
       "      <td>2</td>\n",
       "    </tr>\n",
       "    <tr>\n",
       "      <th>19310</th>\n",
       "      <td>CN1CCN(c2cc(-c3ccc(C#N)cc3)nc(N)n2)CC1</td>\n",
       "      <td>1</td>\n",
       "    </tr>\n",
       "    <tr>\n",
       "      <th>19327</th>\n",
       "      <td>COC1Cc2ccccc2C2(CCN(Cc3ccccc3)CC2)O1</td>\n",
       "      <td>1</td>\n",
       "    </tr>\n",
       "  </tbody>\n",
       "</table>\n",
       "<p>9645 rows × 2 columns</p>\n",
       "</div>\n",
       "      <button class=\"colab-df-convert\" onclick=\"convertToInteractive('df-6c2f0bb2-840b-4bdf-93a2-6ed7d5e84ce4')\"\n",
       "              title=\"Convert this dataframe to an interactive table.\"\n",
       "              style=\"display:none;\">\n",
       "        \n",
       "  <svg xmlns=\"http://www.w3.org/2000/svg\" height=\"24px\"viewBox=\"0 0 24 24\"\n",
       "       width=\"24px\">\n",
       "    <path d=\"M0 0h24v24H0V0z\" fill=\"none\"/>\n",
       "    <path d=\"M18.56 5.44l.94 2.06.94-2.06 2.06-.94-2.06-.94-.94-2.06-.94 2.06-2.06.94zm-11 1L8.5 8.5l.94-2.06 2.06-.94-2.06-.94L8.5 2.5l-.94 2.06-2.06.94zm10 10l.94 2.06.94-2.06 2.06-.94-2.06-.94-.94-2.06-.94 2.06-2.06.94z\"/><path d=\"M17.41 7.96l-1.37-1.37c-.4-.4-.92-.59-1.43-.59-.52 0-1.04.2-1.43.59L10.3 9.45l-7.72 7.72c-.78.78-.78 2.05 0 2.83L4 21.41c.39.39.9.59 1.41.59.51 0 1.02-.2 1.41-.59l7.78-7.78 2.81-2.81c.8-.78.8-2.07 0-2.86zM5.41 20L4 18.59l7.72-7.72 1.47 1.35L5.41 20z\"/>\n",
       "  </svg>\n",
       "      </button>\n",
       "      \n",
       "  <style>\n",
       "    .colab-df-container {\n",
       "      display:flex;\n",
       "      flex-wrap:wrap;\n",
       "      gap: 12px;\n",
       "    }\n",
       "\n",
       "    .colab-df-convert {\n",
       "      background-color: #E8F0FE;\n",
       "      border: none;\n",
       "      border-radius: 50%;\n",
       "      cursor: pointer;\n",
       "      display: none;\n",
       "      fill: #1967D2;\n",
       "      height: 32px;\n",
       "      padding: 0 0 0 0;\n",
       "      width: 32px;\n",
       "    }\n",
       "\n",
       "    .colab-df-convert:hover {\n",
       "      background-color: #E2EBFA;\n",
       "      box-shadow: 0px 1px 2px rgba(60, 64, 67, 0.3), 0px 1px 3px 1px rgba(60, 64, 67, 0.15);\n",
       "      fill: #174EA6;\n",
       "    }\n",
       "\n",
       "    [theme=dark] .colab-df-convert {\n",
       "      background-color: #3B4455;\n",
       "      fill: #D2E3FC;\n",
       "    }\n",
       "\n",
       "    [theme=dark] .colab-df-convert:hover {\n",
       "      background-color: #434B5C;\n",
       "      box-shadow: 0px 1px 3px 1px rgba(0, 0, 0, 0.15);\n",
       "      filter: drop-shadow(0px 1px 2px rgba(0, 0, 0, 0.3));\n",
       "      fill: #FFFFFF;\n",
       "    }\n",
       "  </style>\n",
       "\n",
       "      <script>\n",
       "        const buttonEl =\n",
       "          document.querySelector('#df-6c2f0bb2-840b-4bdf-93a2-6ed7d5e84ce4 button.colab-df-convert');\n",
       "        buttonEl.style.display =\n",
       "          google.colab.kernel.accessAllowed ? 'block' : 'none';\n",
       "\n",
       "        async function convertToInteractive(key) {\n",
       "          const element = document.querySelector('#df-6c2f0bb2-840b-4bdf-93a2-6ed7d5e84ce4');\n",
       "          const dataTable =\n",
       "            await google.colab.kernel.invokeFunction('convertToInteractive',\n",
       "                                                     [key], {});\n",
       "          if (!dataTable) return;\n",
       "\n",
       "          const docLinkHtml = 'Like what you see? Visit the ' +\n",
       "            '<a target=\"_blank\" href=https://colab.research.google.com/notebooks/data_table.ipynb>data table notebook</a>'\n",
       "            + ' to learn more about interactive tables.';\n",
       "          element.innerHTML = '';\n",
       "          dataTable['output_type'] = 'display_data';\n",
       "          await google.colab.output.renderOutput(dataTable, element);\n",
       "          const docLink = document.createElement('div');\n",
       "          docLink.innerHTML = docLinkHtml;\n",
       "          element.appendChild(docLink);\n",
       "        }\n",
       "      </script>\n",
       "    </div>\n",
       "  </div>\n",
       "  "
      ],
      "text/plain": [
       "                                        Smiles_standard  Label\n",
       "1                Clc1ccccc1C(c1ccccc1)(c1ccccc1)n1ccnc1      1\n",
       "2              CN(C)CCN1C(=O)c2ccccc2N(C)C(=O)c2ccccc21      0\n",
       "3                   CC/C(=C(/CC)c1ccc(O)cc1)c1ccc(O)cc1      1\n",
       "6                          Cc1ccccc1C(OCCN(C)C)c1ccccc1      2\n",
       "11              N=C(N)c1ccc(OCCCCCOc2ccc(C(=N)N)cc2)cc1      1\n",
       "...                                                 ...    ...\n",
       "19229          CN1CCN(C2CC(c3ccc(F)cc3)c3ccc(F)cc32)CC1      3\n",
       "19237                       Brc1ccc2c3c([nH]c2c1)C=NCC3      1\n",
       "19273  CN1CCc2ccc(OCCCCN3CCN(c4cccc(Cl)c4Cl)CC3)cc2C1=O      2\n",
       "19310            CN1CCN(c2cc(-c3ccc(C#N)cc3)nc(N)n2)CC1      1\n",
       "19327              COC1Cc2ccccc2C2(CCN(Cc3ccccc3)CC2)O1      1\n",
       "\n",
       "[9645 rows x 2 columns]"
      ]
     },
     "execution_count": 44,
     "metadata": {},
     "output_type": "execute_result"
    }
   ],
   "source": [
    "to_use"
   ]
  },
  {
   "cell_type": "code",
   "execution_count": 45,
   "metadata": {
    "execution": {
     "iopub.execute_input": "2022-03-25T00:57:27.232017Z",
     "iopub.status.busy": "2022-03-25T00:57:27.231443Z",
     "iopub.status.idle": "2022-03-25T00:57:27.267714Z",
     "shell.execute_reply": "2022-03-25T00:57:27.267167Z",
     "shell.execute_reply.started": "2022-03-25T00:57:27.231953Z"
    },
    "executionInfo": {
     "elapsed": 562,
     "status": "ok",
     "timestamp": 1651747085147,
     "user": {
      "displayName": "Konstantin KUTEYKIN TEPLYAKOV",
      "userId": "04703267818047594055"
     },
     "user_tz": -60
    },
    "id": "0145ffd7"
   },
   "outputs": [],
   "source": [
    "to_use.to_csv('/content/drive/MyDrive/Colab Notebooks/Drug_discovery_course/Bioactivity_predictor/serotonin_labeled.smi', header=None, index=None, sep='\\t')"
   ]
  },
  {
   "cell_type": "code",
   "execution_count": null,
   "metadata": {
    "id": "RYY82SI8pjWk"
   },
   "outputs": [],
   "source": []
  },
  {
   "cell_type": "markdown",
   "metadata": {
    "id": "PZ7ZPnk7815C"
   },
   "source": [
    "## Transformation of molecular structure into bit vector \n",
    "### (using Morgan Fingerprints)"
   ]
  },
  {
   "cell_type": "code",
   "execution_count": null,
   "metadata": {
    "id": "2opE9qyS815D",
    "outputId": "7197f938-fdbf-49cc-bea3-dbeac019755b"
   },
   "outputs": [
    {
     "data": {
      "text/html": [
       "<div>\n",
       "<style scoped>\n",
       "    .dataframe tbody tr th:only-of-type {\n",
       "        vertical-align: middle;\n",
       "    }\n",
       "\n",
       "    .dataframe tbody tr th {\n",
       "        vertical-align: top;\n",
       "    }\n",
       "\n",
       "    .dataframe thead th {\n",
       "        text-align: right;\n",
       "    }\n",
       "</style>\n",
       "<table border=\"1\" class=\"dataframe\">\n",
       "  <thead>\n",
       "    <tr style=\"text-align: right;\">\n",
       "      <th></th>\n",
       "      <th>0</th>\n",
       "      <th>1</th>\n",
       "    </tr>\n",
       "  </thead>\n",
       "  <tbody>\n",
       "    <tr>\n",
       "      <th>0</th>\n",
       "      <td>Clc1ccccc1C(c1ccccc1)(c1ccccc1)n1ccnc1</td>\n",
       "      <td>1</td>\n",
       "    </tr>\n",
       "    <tr>\n",
       "      <th>1</th>\n",
       "      <td>CN(C)CCN1C(=O)c2ccccc2N(C)C(=O)c2ccccc21</td>\n",
       "      <td>0</td>\n",
       "    </tr>\n",
       "    <tr>\n",
       "      <th>2</th>\n",
       "      <td>CC/C(=C(/CC)c1ccc(O)cc1)c1ccc(O)cc1</td>\n",
       "      <td>1</td>\n",
       "    </tr>\n",
       "    <tr>\n",
       "      <th>3</th>\n",
       "      <td>Cc1ccccc1C(OCCN(C)C)c1ccccc1</td>\n",
       "      <td>2</td>\n",
       "    </tr>\n",
       "    <tr>\n",
       "      <th>4</th>\n",
       "      <td>N=C(N)c1ccc(OCCCCCOc2ccc(C(=N)N)cc2)cc1</td>\n",
       "      <td>1</td>\n",
       "    </tr>\n",
       "    <tr>\n",
       "      <th>...</th>\n",
       "      <td>...</td>\n",
       "      <td>...</td>\n",
       "    </tr>\n",
       "    <tr>\n",
       "      <th>9640</th>\n",
       "      <td>CN1CCN(C2CC(c3ccc(F)cc3)c3ccc(F)cc32)CC1</td>\n",
       "      <td>3</td>\n",
       "    </tr>\n",
       "    <tr>\n",
       "      <th>9641</th>\n",
       "      <td>Brc1ccc2c3c([nH]c2c1)C=NCC3</td>\n",
       "      <td>1</td>\n",
       "    </tr>\n",
       "    <tr>\n",
       "      <th>9642</th>\n",
       "      <td>CN1CCc2ccc(OCCCCN3CCN(c4cccc(Cl)c4Cl)CC3)cc2C1=O</td>\n",
       "      <td>2</td>\n",
       "    </tr>\n",
       "    <tr>\n",
       "      <th>9643</th>\n",
       "      <td>CN1CCN(c2cc(-c3ccc(C#N)cc3)nc(N)n2)CC1</td>\n",
       "      <td>1</td>\n",
       "    </tr>\n",
       "    <tr>\n",
       "      <th>9644</th>\n",
       "      <td>COC1Cc2ccccc2C2(CCN(Cc3ccccc3)CC2)O1</td>\n",
       "      <td>1</td>\n",
       "    </tr>\n",
       "  </tbody>\n",
       "</table>\n",
       "<p>9645 rows × 2 columns</p>\n",
       "</div>"
      ],
      "text/plain": [
       "                                                     0  1\n",
       "0               Clc1ccccc1C(c1ccccc1)(c1ccccc1)n1ccnc1  1\n",
       "1             CN(C)CCN1C(=O)c2ccccc2N(C)C(=O)c2ccccc21  0\n",
       "2                  CC/C(=C(/CC)c1ccc(O)cc1)c1ccc(O)cc1  1\n",
       "3                         Cc1ccccc1C(OCCN(C)C)c1ccccc1  2\n",
       "4              N=C(N)c1ccc(OCCCCCOc2ccc(C(=N)N)cc2)cc1  1\n",
       "...                                                ... ..\n",
       "9640          CN1CCN(C2CC(c3ccc(F)cc3)c3ccc(F)cc32)CC1  3\n",
       "9641                       Brc1ccc2c3c([nH]c2c1)C=NCC3  1\n",
       "9642  CN1CCc2ccc(OCCCCN3CCN(c4cccc(Cl)c4Cl)CC3)cc2C1=O  2\n",
       "9643            CN1CCN(c2cc(-c3ccc(C#N)cc3)nc(N)n2)CC1  1\n",
       "9644              COC1Cc2ccccc2C2(CCN(Cc3ccccc3)CC2)O1  1\n",
       "\n",
       "[9645 rows x 2 columns]"
      ]
     },
     "execution_count": 7,
     "metadata": {},
     "output_type": "execute_result"
    }
   ],
   "source": [
    "to_use = pd.read_csv('serotonin_labeled.smi', header=None, sep='\\t')\n",
    "to_use"
   ]
  },
  {
   "cell_type": "code",
   "execution_count": 47,
   "metadata": {
    "execution": {
     "iopub.execute_input": "2022-03-25T00:57:29.871912Z",
     "iopub.status.busy": "2022-03-25T00:57:29.871354Z",
     "iopub.status.idle": "2022-03-25T00:57:29.877393Z",
     "shell.execute_reply": "2022-03-25T00:57:29.876827Z",
     "shell.execute_reply.started": "2022-03-25T00:57:29.871867Z"
    },
    "executionInfo": {
     "elapsed": 7,
     "status": "ok",
     "timestamp": 1651747122467,
     "user": {
      "displayName": "Konstantin KUTEYKIN TEPLYAKOV",
      "userId": "04703267818047594055"
     },
     "user_tz": -60
    },
    "id": "d4e0a1e0"
   },
   "outputs": [],
   "source": [
    "from rdkit import Chem, rdBase\n",
    "from rdkit.Chem import AllChem, Draw, MolStandardize\n",
    "from rdkit.Chem.Draw import IPythonConsole"
   ]
  },
  {
   "cell_type": "code",
   "execution_count": 48,
   "metadata": {
    "colab": {
     "base_uri": "https://localhost:8080/",
     "height": 1000
    },
    "execution": {
     "iopub.execute_input": "2022-03-25T00:57:32.392866Z",
     "iopub.status.busy": "2022-03-25T00:57:32.392405Z",
     "iopub.status.idle": "2022-03-25T00:57:32.474270Z",
     "shell.execute_reply": "2022-03-25T00:57:32.473367Z",
     "shell.execute_reply.started": "2022-03-25T00:57:32.392820Z"
    },
    "executionInfo": {
     "elapsed": 728,
     "status": "ok",
     "timestamp": 1651747123748,
     "user": {
      "displayName": "Konstantin KUTEYKIN TEPLYAKOV",
      "userId": "04703267818047594055"
     },
     "user_tz": -60
    },
    "id": "e62ff9a8",
    "outputId": "c91c7972-c20f-4df1-ea8a-7b022c44a658"
   },
   "outputs": [
    {
     "data": {
      "image/png": "[encoded data removed]",
      "text/plain": [
       "<IPython.core.display.Image object>"
      ]
     },
     "execution_count": 48,
     "metadata": {},
     "output_type": "execute_result"
    }
   ],
   "source": [
    "# draw first 21 structures \n",
    "Draw.MolsToGridImage([Chem.MolFromSmiles(smix) for smix in to_use.iloc[0:21, 0] if smix is not None],\n",
    "                    legends=[str(label) for label in to_use.iloc[0:21, 1] if label is not None])"
   ]
  },
  {
   "cell_type": "code",
   "execution_count": 49,
   "metadata": {
    "execution": {
     "iopub.execute_input": "2022-03-25T00:57:35.153389Z",
     "iopub.status.busy": "2022-03-25T00:57:35.153114Z",
     "iopub.status.idle": "2022-03-25T00:57:35.157825Z",
     "shell.execute_reply": "2022-03-25T00:57:35.157206Z",
     "shell.execute_reply.started": "2022-03-25T00:57:35.153358Z"
    },
    "executionInfo": {
     "elapsed": 487,
     "status": "ok",
     "timestamp": 1651747133812,
     "user": {
      "displayName": "Konstantin KUTEYKIN TEPLYAKOV",
      "userId": "04703267818047594055"
     },
     "user_tz": -60
    },
    "id": "0c95e705"
   },
   "outputs": [],
   "source": [
    "smiles = Chem.SmilesMolSupplier('/content/drive/MyDrive/Colab Notebooks/Drug_discovery_course/Bioactivity_predictor/serotonin_labeled.smi', delimiter='\\t', titleLine=False)"
   ]
  },
  {
   "cell_type": "code",
   "execution_count": 50,
   "metadata": {
    "execution": {
     "iopub.execute_input": "2022-03-25T00:57:37.591912Z",
     "iopub.status.busy": "2022-03-25T00:57:37.591639Z",
     "iopub.status.idle": "2022-03-25T00:57:40.181349Z",
     "shell.execute_reply": "2022-03-25T00:57:40.180683Z",
     "shell.execute_reply.started": "2022-03-25T00:57:37.591882Z"
    },
    "executionInfo": {
     "elapsed": 2288,
     "status": "ok",
     "timestamp": 1651747137236,
     "user": {
      "displayName": "Konstantin KUTEYKIN TEPLYAKOV",
      "userId": "04703267818047594055"
     },
     "user_tz": -60
    },
    "id": "e08fbb9a"
   },
   "outputs": [],
   "source": [
    "fingerprints = [AllChem.GetMorganFingerprintAsBitVect(mol,2,nBits = 2048) for mol in smiles if mol is not None]"
   ]
  },
  {
   "cell_type": "code",
   "execution_count": 51,
   "metadata": {
    "execution": {
     "iopub.execute_input": "2022-03-25T00:57:40.191211Z",
     "iopub.status.busy": "2022-03-25T00:57:40.190936Z",
     "iopub.status.idle": "2022-03-25T00:57:57.557668Z",
     "shell.execute_reply": "2022-03-25T00:57:57.556611Z",
     "shell.execute_reply.started": "2022-03-25T00:57:40.191173Z"
    },
    "executionInfo": {
     "elapsed": 11144,
     "status": "ok",
     "timestamp": 1651747150198,
     "user": {
      "displayName": "Konstantin KUTEYKIN TEPLYAKOV",
      "userId": "04703267818047594055"
     },
     "user_tz": -60
    },
    "id": "bbbb0a50"
   },
   "outputs": [],
   "source": [
    "all_data = np.asarray(fingerprints, dtype=int)"
   ]
  },
  {
   "cell_type": "code",
   "execution_count": 52,
   "metadata": {
    "colab": {
     "base_uri": "https://localhost:8080/"
    },
    "execution": {
     "iopub.execute_input": "2022-03-25T00:57:57.559741Z",
     "iopub.status.busy": "2022-03-25T00:57:57.559484Z",
     "iopub.status.idle": "2022-03-25T00:57:57.570699Z",
     "shell.execute_reply": "2022-03-25T00:57:57.569926Z",
     "shell.execute_reply.started": "2022-03-25T00:57:57.559712Z"
    },
    "executionInfo": {
     "elapsed": 61,
     "status": "ok",
     "timestamp": 1651747150211,
     "user": {
      "displayName": "Konstantin KUTEYKIN TEPLYAKOV",
      "userId": "04703267818047594055"
     },
     "user_tz": -60
    },
    "id": "MzBAyKGnxvZ_",
    "outputId": "6026d88d-96da-4814-c848-96e61dfb0ccb"
   },
   "outputs": [
    {
     "data": {
      "text/plain": [
       "array([[0, 0, 0, ..., 0, 0, 0],\n",
       "       [0, 0, 0, ..., 0, 0, 0],\n",
       "       [0, 0, 0, ..., 0, 0, 0],\n",
       "       ...,\n",
       "       [0, 0, 0, ..., 0, 0, 0],\n",
       "       [0, 0, 0, ..., 0, 0, 0],\n",
       "       [0, 0, 0, ..., 0, 0, 0]])"
      ]
     },
     "execution_count": 52,
     "metadata": {},
     "output_type": "execute_result"
    }
   ],
   "source": [
    "all_data[20:50]"
   ]
  },
  {
   "cell_type": "code",
   "execution_count": 53,
   "metadata": {
    "colab": {
     "base_uri": "https://localhost:8080/"
    },
    "execution": {
     "iopub.execute_input": "2022-03-25T00:57:57.572137Z",
     "iopub.status.busy": "2022-03-25T00:57:57.571901Z",
     "iopub.status.idle": "2022-03-25T00:57:57.580647Z",
     "shell.execute_reply": "2022-03-25T00:57:57.580029Z",
     "shell.execute_reply.started": "2022-03-25T00:57:57.572103Z"
    },
    "executionInfo": {
     "elapsed": 59,
     "status": "ok",
     "timestamp": 1651747150218,
     "user": {
      "displayName": "Konstantin KUTEYKIN TEPLYAKOV",
      "userId": "04703267818047594055"
     },
     "user_tz": -60
    },
    "id": "e4c5b95a",
    "outputId": "75737087-5e38-4360-82be-9daf9ab3cdec"
   },
   "outputs": [
    {
     "data": {
      "text/plain": [
       "(9645, 2048)"
      ]
     },
     "execution_count": 53,
     "metadata": {},
     "output_type": "execute_result"
    }
   ],
   "source": [
    "all_data.shape"
   ]
  },
  {
   "cell_type": "code",
   "execution_count": 54,
   "metadata": {
    "execution": {
     "iopub.execute_input": "2022-03-25T00:57:57.582161Z",
     "iopub.status.busy": "2022-03-25T00:57:57.581971Z",
     "iopub.status.idle": "2022-03-25T00:57:59.386094Z",
     "shell.execute_reply": "2022-03-25T00:57:59.385351Z",
     "shell.execute_reply.started": "2022-03-25T00:57:57.582140Z"
    },
    "executionInfo": {
     "elapsed": 1634,
     "status": "ok",
     "timestamp": 1651747151809,
     "user": {
      "displayName": "Konstantin KUTEYKIN TEPLYAKOV",
      "userId": "04703267818047594055"
     },
     "user_tz": -60
    },
    "id": "e210709d"
   },
   "outputs": [],
   "source": [
    "ids=[mol.GetProp('_Name') for mol in smiles if mol is not None]"
   ]
  },
  {
   "cell_type": "code",
   "execution_count": 55,
   "metadata": {
    "execution": {
     "iopub.execute_input": "2022-03-25T00:57:59.387396Z",
     "iopub.status.busy": "2022-03-25T00:57:59.387179Z",
     "iopub.status.idle": "2022-03-25T00:57:59.392855Z",
     "shell.execute_reply": "2022-03-25T00:57:59.392140Z",
     "shell.execute_reply.started": "2022-03-25T00:57:59.387356Z"
    },
    "executionInfo": {
     "elapsed": 48,
     "status": "ok",
     "timestamp": 1651747151811,
     "user": {
      "displayName": "Konstantin KUTEYKIN TEPLYAKOV",
      "userId": "04703267818047594055"
     },
     "user_tz": -60
    },
    "id": "f284619b"
   },
   "outputs": [],
   "source": [
    "labels=np.asarray(ids, dtype=int).reshape(-1,1)"
   ]
  },
  {
   "cell_type": "code",
   "execution_count": 56,
   "metadata": {
    "colab": {
     "base_uri": "https://localhost:8080/"
    },
    "execution": {
     "iopub.execute_input": "2022-03-25T00:57:59.394148Z",
     "iopub.status.busy": "2022-03-25T00:57:59.393912Z",
     "iopub.status.idle": "2022-03-25T00:57:59.406706Z",
     "shell.execute_reply": "2022-03-25T00:57:59.406138Z",
     "shell.execute_reply.started": "2022-03-25T00:57:59.394096Z"
    },
    "executionInfo": {
     "elapsed": 47,
     "status": "ok",
     "timestamp": 1651747151813,
     "user": {
      "displayName": "Konstantin KUTEYKIN TEPLYAKOV",
      "userId": "04703267818047594055"
     },
     "user_tz": -60
    },
    "id": "fwLm0RSByGg-",
    "outputId": "4edd7c04-4f8c-4478-e966-4fea18e6122e"
   },
   "outputs": [
    {
     "data": {
      "text/plain": [
       "array([[1],\n",
       "       [0],\n",
       "       [1],\n",
       "       ...,\n",
       "       [2],\n",
       "       [1],\n",
       "       [1]])"
      ]
     },
     "execution_count": 56,
     "metadata": {},
     "output_type": "execute_result"
    }
   ],
   "source": [
    "labels"
   ]
  },
  {
   "cell_type": "code",
   "execution_count": 57,
   "metadata": {
    "execution": {
     "iopub.execute_input": "2022-03-25T00:57:59.408354Z",
     "iopub.status.busy": "2022-03-25T00:57:59.407976Z",
     "iopub.status.idle": "2022-03-25T00:57:59.476536Z",
     "shell.execute_reply": "2022-03-25T00:57:59.475768Z",
     "shell.execute_reply.started": "2022-03-25T00:57:59.408327Z"
    },
    "executionInfo": {
     "elapsed": 44,
     "status": "ok",
     "timestamp": 1651747151817,
     "user": {
      "displayName": "Konstantin KUTEYKIN TEPLYAKOV",
      "userId": "04703267818047594055"
     },
     "user_tz": -60
    },
    "id": "YB45-o_7xO5Y"
   },
   "outputs": [],
   "source": [
    "final_data=np.concatenate([all_data, labels], axis=1)"
   ]
  },
  {
   "cell_type": "code",
   "execution_count": 58,
   "metadata": {
    "colab": {
     "base_uri": "https://localhost:8080/"
    },
    "execution": {
     "iopub.execute_input": "2022-03-25T00:57:59.478422Z",
     "iopub.status.busy": "2022-03-25T00:57:59.478212Z",
     "iopub.status.idle": "2022-03-25T00:57:59.484058Z",
     "shell.execute_reply": "2022-03-25T00:57:59.483430Z",
     "shell.execute_reply.started": "2022-03-25T00:57:59.478397Z"
    },
    "executionInfo": {
     "elapsed": 36,
     "status": "ok",
     "timestamp": 1651747151819,
     "user": {
      "displayName": "Konstantin KUTEYKIN TEPLYAKOV",
      "userId": "04703267818047594055"
     },
     "user_tz": -60
    },
    "id": "1f11e17f",
    "outputId": "4ea89dac-42db-4738-ff49-fcdba55a2005"
   },
   "outputs": [
    {
     "data": {
      "text/plain": [
       "array([[0, 0, 0, ..., 0, 0, 1],\n",
       "       [0, 0, 0, ..., 0, 0, 0],\n",
       "       [0, 0, 0, ..., 0, 0, 1],\n",
       "       ...,\n",
       "       [0, 0, 0, ..., 0, 0, 2],\n",
       "       [0, 0, 0, ..., 0, 0, 1],\n",
       "       [0, 0, 0, ..., 0, 0, 1]])"
      ]
     },
     "execution_count": 58,
     "metadata": {},
     "output_type": "execute_result"
    }
   ],
   "source": [
    "final_data"
   ]
  },
  {
   "cell_type": "code",
   "execution_count": 59,
   "metadata": {
    "execution": {
     "iopub.execute_input": "2022-03-25T00:58:01.342762Z",
     "iopub.status.busy": "2022-03-25T00:58:01.342515Z",
     "iopub.status.idle": "2022-03-25T00:58:01.505044Z",
     "shell.execute_reply": "2022-03-25T00:58:01.504011Z",
     "shell.execute_reply.started": "2022-03-25T00:58:01.342737Z"
    },
    "executionInfo": {
     "elapsed": 1826,
     "status": "ok",
     "timestamp": 1651747160136,
     "user": {
      "displayName": "Konstantin KUTEYKIN TEPLYAKOV",
      "userId": "04703267818047594055"
     },
     "user_tz": -60
    },
    "id": "9OaqqPxV0Nus"
   },
   "outputs": [],
   "source": [
    "np.save('/content/drive/MyDrive/Colab Notebooks/Drug_discovery_course/Bioactivity_predictor/serotonin_morgan', final_data)"
   ]
  },
  {
   "cell_type": "markdown",
   "metadata": {
    "execution": {
     "iopub.execute_input": "2022-03-24T16:17:52.202990Z",
     "iopub.status.busy": "2022-03-24T16:17:52.202356Z",
     "iopub.status.idle": "2022-03-24T16:17:52.206989Z",
     "shell.execute_reply": "2022-03-24T16:17:52.206126Z",
     "shell.execute_reply.started": "2022-03-24T16:17:52.202948Z"
    },
    "id": "12723378"
   },
   "source": [
    "## Preparation for model training"
   ]
  },
  {
   "cell_type": "code",
   "execution_count": 60,
   "metadata": {
    "execution": {
     "iopub.execute_input": "2022-03-25T00:58:03.971993Z",
     "iopub.status.busy": "2022-03-25T00:58:03.971696Z",
     "iopub.status.idle": "2022-03-25T00:58:03.977241Z",
     "shell.execute_reply": "2022-03-25T00:58:03.976497Z",
     "shell.execute_reply.started": "2022-03-25T00:58:03.971950Z"
    },
    "executionInfo": {
     "elapsed": 926,
     "status": "ok",
     "timestamp": 1651747164290,
     "user": {
      "displayName": "Konstantin KUTEYKIN TEPLYAKOV",
      "userId": "04703267818047594055"
     },
     "user_tz": -60
    },
    "id": "ec30d0a9"
   },
   "outputs": [],
   "source": [
    "from sklearn.model_selection import train_test_split"
   ]
  },
  {
   "cell_type": "markdown",
   "metadata": {
    "id": "StVm5ifugF7t"
   },
   "source": []
  },
  {
   "cell_type": "code",
   "execution_count": null,
   "metadata": {
    "id": "uq49sxZlgF7u"
   },
   "outputs": [],
   "source": []
  },
  {
   "cell_type": "code",
   "execution_count": null,
   "metadata": {
    "id": "m6JjbEHpgF7v"
   },
   "outputs": [],
   "source": []
  },
  {
   "cell_type": "code",
   "execution_count": null,
   "metadata": {
    "id": "gnxYi12qgF7w"
   },
   "outputs": [],
   "source": []
  },
  {
   "cell_type": "code",
   "execution_count": null,
   "metadata": {
    "id": "6vjsYvc7gF7w"
   },
   "outputs": [],
   "source": []
  },
  {
   "cell_type": "code",
   "execution_count": null,
   "metadata": {
    "id": "h60eIXVhgF7x"
   },
   "outputs": [],
   "source": []
  },
  {
   "cell_type": "markdown",
   "metadata": {
    "id": "-hKRCbZAgF7x"
   },
   "source": [
    "# TO DO! Split based on Clustering of Murcko Scaffolds must be used instead of random split"
   ]
  },
  {
   "cell_type": "code",
   "execution_count": null,
   "metadata": {
    "execution": {
     "iopub.execute_input": "2022-03-25T00:58:06.762644Z",
     "iopub.status.busy": "2022-03-25T00:58:06.762344Z",
     "iopub.status.idle": "2022-03-25T00:58:06.880542Z",
     "shell.execute_reply": "2022-03-25T00:58:06.879697Z",
     "shell.execute_reply.started": "2022-03-25T00:58:06.762614Z"
    },
    "id": "1db4da7c"
   },
   "outputs": [],
   "source": [
    "# X_train, X_test, y_train, y_test = train_test_split(all_data, labels.ravel(), random_state=0, shuffle=True, stratify=labels)"
   ]
  },
  {
   "cell_type": "code",
   "execution_count": null,
   "metadata": {
    "colab": {
     "base_uri": "https://localhost:8080/"
    },
    "execution": {
     "iopub.execute_input": "2022-03-25T00:58:09.322098Z",
     "iopub.status.busy": "2022-03-25T00:58:09.321520Z",
     "iopub.status.idle": "2022-03-25T00:58:09.327698Z",
     "shell.execute_reply": "2022-03-25T00:58:09.326999Z",
     "shell.execute_reply.started": "2022-03-25T00:58:09.322056Z"
    },
    "id": "c4b781ed",
    "outputId": "4e77a6fc-f7e9-4b4e-f354-1506a55863c0"
   },
   "outputs": [
    {
     "data": {
      "text/plain": [
       "(7233, 2048)"
      ]
     },
     "execution_count": 61,
     "metadata": {},
     "output_type": "execute_result"
    }
   ],
   "source": [
    "X_train.shape"
   ]
  },
  {
   "cell_type": "code",
   "execution_count": null,
   "metadata": {
    "colab": {
     "base_uri": "https://localhost:8080/"
    },
    "execution": {
     "iopub.execute_input": "2022-03-25T00:58:12.152066Z",
     "iopub.status.busy": "2022-03-25T00:58:12.151765Z",
     "iopub.status.idle": "2022-03-25T00:58:12.157317Z",
     "shell.execute_reply": "2022-03-25T00:58:12.156714Z",
     "shell.execute_reply.started": "2022-03-25T00:58:12.152034Z"
    },
    "id": "1UB24Cij4Dub",
    "outputId": "5eaf14a0-3c60-45a6-8ba2-3dfde9f6fad1"
   },
   "outputs": [
    {
     "data": {
      "text/plain": [
       "(2412, 2048)"
      ]
     },
     "execution_count": 62,
     "metadata": {},
     "output_type": "execute_result"
    }
   ],
   "source": [
    "X_test.shape"
   ]
  },
  {
   "cell_type": "markdown",
   "metadata": {
    "id": "XLIlSahW815b"
   },
   "source": [
    "## Models evaluations"
   ]
  },
  {
   "cell_type": "code",
   "execution_count": null,
   "metadata": {
    "execution": {
     "iopub.execute_input": "2022-03-25T00:58:14.602878Z",
     "iopub.status.busy": "2022-03-25T00:58:14.602360Z",
     "iopub.status.idle": "2022-03-25T00:58:14.607531Z",
     "shell.execute_reply": "2022-03-25T00:58:14.606962Z",
     "shell.execute_reply.started": "2022-03-25T00:58:14.602827Z"
    },
    "id": "EXMRjpmP815d"
   },
   "outputs": [],
   "source": [
    "from sklearn.neighbors import KNeighborsClassifier\n",
    "from sklearn.svm import SVC, LinearSVC\n",
    "from sklearn.ensemble import RandomForestClassifier"
   ]
  },
  {
   "cell_type": "code",
   "execution_count": null,
   "metadata": {
    "execution": {
     "iopub.execute_input": "2022-03-25T00:58:15.891984Z",
     "iopub.status.busy": "2022-03-25T00:58:15.891373Z",
     "iopub.status.idle": "2022-03-25T00:58:15.897758Z",
     "shell.execute_reply": "2022-03-25T00:58:15.897082Z",
     "shell.execute_reply.started": "2022-03-25T00:58:15.891936Z"
    },
    "id": "TdoDSVuG815e"
   },
   "outputs": [],
   "source": [
    "knn = KNeighborsClassifier()\n",
    "rf = RandomForestClassifier(max_depth=10, n_estimators = 500)\n",
    "lin_svc = LinearSVC(random_state=42, max_iter=4000)\n",
    "svc = SVC(gamma='scale', random_state=42)\n"
   ]
  },
  {
   "cell_type": "code",
   "execution_count": null,
   "metadata": {
    "execution": {
     "iopub.execute_input": "2022-03-25T00:58:17.242116Z",
     "iopub.status.busy": "2022-03-25T00:58:17.241719Z",
     "iopub.status.idle": "2022-03-25T00:58:17.245519Z",
     "shell.execute_reply": "2022-03-25T00:58:17.244937Z",
     "shell.execute_reply.started": "2022-03-25T00:58:17.242088Z"
    },
    "id": "r6HbGRx7815e"
   },
   "outputs": [],
   "source": [
    "estimators = {\n",
    "    'KNeighborsClassifier': knn,\n",
    "    'Random forest': rf,\n",
    "    'LinearSVC': lin_svc,\n",
    "    'SVC': svc}"
   ]
  },
  {
   "cell_type": "code",
   "execution_count": null,
   "metadata": {
    "execution": {
     "iopub.execute_input": "2022-03-25T00:58:18.522126Z",
     "iopub.status.busy": "2022-03-25T00:58:18.521540Z",
     "iopub.status.idle": "2022-03-25T00:58:18.526602Z",
     "shell.execute_reply": "2022-03-25T00:58:18.525781Z",
     "shell.execute_reply.started": "2022-03-25T00:58:18.522075Z"
    },
    "id": "M2F4gDcg815f"
   },
   "outputs": [],
   "source": [
    "from sklearn import metrics\n",
    "from sklearn.model_selection import cross_val_score"
   ]
  },
  {
   "cell_type": "code",
   "execution_count": null,
   "metadata": {
    "execution": {
     "iopub.execute_input": "2022-03-25T00:58:19.392102Z",
     "iopub.status.busy": "2022-03-25T00:58:19.391837Z",
     "iopub.status.idle": "2022-03-25T00:58:19.398375Z",
     "shell.execute_reply": "2022-03-25T00:58:19.397669Z",
     "shell.execute_reply.started": "2022-03-25T00:58:19.392071Z"
    },
    "id": "RS2i3Ls9815g"
   },
   "outputs": [],
   "source": [
    "%matplotlib inline\n",
    "import matplotlib.pyplot as plt"
   ]
  },
  {
   "cell_type": "code",
   "execution_count": null,
   "metadata": {
    "colab": {
     "base_uri": "https://localhost:8080/"
    },
    "execution": {
     "iopub.execute_input": "2022-03-25T00:58:20.482059Z",
     "iopub.status.busy": "2022-03-25T00:58:20.481660Z",
     "iopub.status.idle": "2022-03-25T00:58:20.487836Z",
     "shell.execute_reply": "2022-03-25T00:58:20.487294Z",
     "shell.execute_reply.started": "2022-03-25T00:58:20.482019Z"
    },
    "id": "1wwW8cNL815h",
    "outputId": "35b48d37-4c24-41ad-b228-354dfff39139"
   },
   "outputs": [
    {
     "data": {
      "text/plain": [
       "KNeighborsClassifier()"
      ]
     },
     "execution_count": 68,
     "metadata": {},
     "output_type": "execute_result"
    }
   ],
   "source": [
    "knn.fit(X_train, y_train)"
   ]
  },
  {
   "cell_type": "code",
   "execution_count": null,
   "metadata": {
    "colab": {
     "base_uri": "https://localhost:8080/"
    },
    "execution": {
     "iopub.execute_input": "2022-03-25T00:58:21.082770Z",
     "iopub.status.busy": "2022-03-25T00:58:21.082330Z",
     "iopub.status.idle": "2022-03-25T00:58:32.951937Z",
     "shell.execute_reply": "2022-03-25T00:58:32.951077Z",
     "shell.execute_reply.started": "2022-03-25T00:58:21.082734Z"
    },
    "id": "CuAdW328815j",
    "outputId": "703edbf9-e129-4cc6-ec90-a63c8f5103a5"
   },
   "outputs": [
    {
     "data": {
      "text/plain": [
       "RandomForestClassifier(max_depth=10, n_estimators=500)"
      ]
     },
     "execution_count": 72,
     "metadata": {},
     "output_type": "execute_result"
    }
   ],
   "source": [
    "rf.fit(X_train, y_train)"
   ]
  },
  {
   "cell_type": "code",
   "execution_count": null,
   "metadata": {
    "colab": {
     "base_uri": "https://localhost:8080/"
    },
    "execution": {
     "iopub.execute_input": "2022-03-25T00:58:32.954438Z",
     "iopub.status.busy": "2022-03-25T00:58:32.953938Z",
     "iopub.status.idle": "2022-03-25T00:58:38.280939Z",
     "shell.execute_reply": "2022-03-25T00:58:38.280138Z",
     "shell.execute_reply.started": "2022-03-25T00:58:32.954379Z"
    },
    "id": "UwnnjhUm815l",
    "outputId": "1334c200-8331-427b-c8e7-5428173620de"
   },
   "outputs": [
    {
     "data": {
      "text/plain": [
       "LinearSVC(max_iter=4000, random_state=42)"
      ]
     },
     "execution_count": 70,
     "metadata": {},
     "output_type": "execute_result"
    }
   ],
   "source": [
    "lin_svc.fit(X_train, y_train)"
   ]
  },
  {
   "cell_type": "code",
   "execution_count": null,
   "metadata": {
    "colab": {
     "base_uri": "https://localhost:8080/"
    },
    "execution": {
     "iopub.execute_input": "2022-03-25T00:58:38.282722Z",
     "iopub.status.busy": "2022-03-25T00:58:38.282276Z",
     "iopub.status.idle": "2022-03-25T00:59:52.570229Z",
     "shell.execute_reply": "2022-03-25T00:59:52.569497Z",
     "shell.execute_reply.started": "2022-03-25T00:58:38.282678Z"
    },
    "id": "yLN9TraA815l",
    "outputId": "6af22b4b-7331-4ab5-8bcc-98446ccea7bb"
   },
   "outputs": [
    {
     "data": {
      "text/plain": [
       "SVC(random_state=42)"
      ]
     },
     "execution_count": 71,
     "metadata": {},
     "output_type": "execute_result"
    }
   ],
   "source": [
    "svc.fit(X_train, y_train)"
   ]
  },
  {
   "cell_type": "code",
   "execution_count": null,
   "metadata": {
    "colab": {
     "base_uri": "https://localhost:8080/",
     "height": 1000
    },
    "execution": {
     "iopub.execute_input": "2022-03-25T00:59:52.573038Z",
     "iopub.status.busy": "2022-03-25T00:59:52.572301Z",
     "iopub.status.idle": "2022-03-25T01:02:30.856447Z",
     "shell.execute_reply": "2022-03-25T01:02:30.855493Z",
     "shell.execute_reply.started": "2022-03-25T00:59:52.573004Z"
    },
    "id": "jjt-F1Bc815n",
    "outputId": "d65affd8-2fb9-469a-bf9a-5330a7dd3370"
   },
   "outputs": [
    {
     "name": "stdout",
     "output_type": "stream",
     "text": [
      "KNeighborsClassifier: train score=78.10%; test score=65.88%\n"
     ]
    },
    {
     "data": {
      "image/png": "[encoded data removed]",
      "text/plain": [
       "<Figure size 432x288 with 2 Axes>"
      ]
     },
     "metadata": {
      "needs_background": "light"
     },
     "output_type": "display_data"
    },
    {
     "name": "stdout",
     "output_type": "stream",
     "text": [
      "\n",
      "\n",
      "\n",
      "       Random forest: train score=68.05%; test score=58.42%\n"
     ]
    },
    {
     "data": {
      "image/png": "[encoded data removed]",
      "text/plain": [
       "<Figure size 432x288 with 2 Axes>"
      ]
     },
     "metadata": {
      "needs_background": "light"
     },
     "output_type": "display_data"
    },
    {
     "name": "stdout",
     "output_type": "stream",
     "text": [
      "\n",
      "\n",
      "\n",
      "           LinearSVC: train score=88.18%; test score=64.34%\n"
     ]
    },
    {
     "data": {
      "image/png": "[encoded data removed]",
      "text/plain": [
       "<Figure size 432x288 with 2 Axes>"
      ]
     },
     "metadata": {
      "needs_background": "light"
     },
     "output_type": "display_data"
    },
    {
     "name": "stdout",
     "output_type": "stream",
     "text": [
      "\n",
      "\n",
      "\n",
      "                 SVC: train score=80.99%; test score=67.29%\n"
     ]
    },
    {
     "data": {
      "image/png": "[encoded data removed]",
      "text/plain": [
       "<Figure size 432x288 with 2 Axes>"
      ]
     },
     "metadata": {
      "needs_background": "light"
     },
     "output_type": "display_data"
    },
    {
     "name": "stdout",
     "output_type": "stream",
     "text": [
      "\n",
      "\n",
      "\n"
     ]
    }
   ],
   "source": [
    "for estimator_name, estimator_object in estimators.items():\n",
    "    print(f'{estimator_name}: ' +\n",
    "          f'train score={estimator_object.score(X_train, y_train):.2%}; ' +\n",
    "          f'test score={estimator_object.score(X_test, y_test):.2%}')\n",
    "   \n",
    "    cm = metrics.confusion_matrix(y_test, \n",
    "                          estimator_object.predict(X_test), \n",
    "                          labels=estimator_object.classes_)\n",
    "    disp = metrics.ConfusionMatrixDisplay(confusion_matrix=cm,\n",
    "                           display_labels=estimator_object.classes_)\n",
    "    disp.plot()\n",
    "    plt.show()\n",
    "    print()\n",
    "    print()\n",
    "    print()"
   ]
  },
  {
   "cell_type": "markdown",
   "metadata": {
    "id": "UJosllp8815o"
   },
   "source": [
    "## testing of model on unknown molecules"
   ]
  },
  {
   "cell_type": "code",
   "execution_count": null,
   "metadata": {
    "colab": {
     "base_uri": "https://localhost:8080/"
    },
    "execution": {
     "iopub.execute_input": "2022-03-25T01:06:58.613570Z",
     "iopub.status.busy": "2022-03-25T01:06:58.612942Z",
     "iopub.status.idle": "2022-03-25T01:06:58.617328Z",
     "shell.execute_reply": "2022-03-25T01:06:58.616505Z",
     "shell.execute_reply.started": "2022-03-25T01:06:58.613534Z"
    },
    "id": "h4o4UFurQRtn",
    "outputId": "5611b226-54c6-4350-df57-eb0c4e85f8e9"
   },
   "outputs": [
    {
     "name": "stdout",
     "output_type": "stream",
     "text": [
      "Enter molecular structure in SMILE format:CNC(C)Cc1ccc2c(c1)OCO2\n"
     ]
    }
   ],
   "source": [
    "# test data input \n",
    "input_mol = input('Enter molecular structure in SMILE format:')\n",
    "# input_mol = standardize_smiles('CNC(C)Cc1ccc2c(c1)OCO2')\n"
   ]
  },
  {
   "cell_type": "code",
   "execution_count": null,
   "metadata": {
    "colab": {
     "base_uri": "https://localhost:8080/",
     "height": 167
    },
    "execution": {
     "iopub.execute_input": "2022-03-25T01:07:05.992841Z",
     "iopub.status.busy": "2022-03-25T01:07:05.992571Z",
     "iopub.status.idle": "2022-03-25T01:07:06.006247Z",
     "shell.execute_reply": "2022-03-25T01:07:06.005434Z",
     "shell.execute_reply.started": "2022-03-25T01:07:05.992814Z"
    },
    "id": "o1Vo9VDS815r",
    "outputId": "e91fab2e-7c9d-4eb2-98f2-02b4022af5a6"
   },
   "outputs": [
    {
     "data": {
      "image/png": "[encoded data removed]",
      "text/plain": [
       "<rdkit.Chem.rdchem.Mol at 0x7f10cd5b7300>"
      ]
     },
     "execution_count": 76,
     "metadata": {},
     "output_type": "execute_result"
    }
   ],
   "source": [
    "# draw entered molecule\n",
    "Chem.MolFromSmiles(input_mol)"
   ]
  },
  {
   "cell_type": "code",
   "execution_count": null,
   "metadata": {
    "execution": {
     "iopub.execute_input": "2022-03-25T01:07:34.213518Z",
     "iopub.status.busy": "2022-03-25T01:07:34.213214Z",
     "iopub.status.idle": "2022-03-25T01:07:34.221352Z",
     "shell.execute_reply": "2022-03-25T01:07:34.220545Z",
     "shell.execute_reply.started": "2022-03-25T01:07:34.213482Z"
    },
    "id": "Ntkhfq3OX3B6"
   },
   "outputs": [],
   "source": [
    "mol_test = Standardizer().standardize(Chem.MolFromSmiles(input_mol))\n",
    "fingerprint_test = rdkit.Chem.AllChem.GetMorganFingerprintAsBitVect(mol_test,2,nBits = 2048)\n",
    "data_test = np.asarray(fingerprint_test, dtype=int).reshape(1,2048)"
   ]
  },
  {
   "cell_type": "code",
   "execution_count": null,
   "metadata": {
    "colab": {
     "base_uri": "https://localhost:8080/"
    },
    "execution": {
     "iopub.execute_input": "2022-03-25T01:07:40.712798Z",
     "iopub.status.busy": "2022-03-25T01:07:40.712189Z",
     "iopub.status.idle": "2022-03-25T01:07:40.718646Z",
     "shell.execute_reply": "2022-03-25T01:07:40.717903Z",
     "shell.execute_reply.started": "2022-03-25T01:07:40.712760Z"
    },
    "id": "fo_sbJIIYKyi",
    "outputId": "190658b6-fbaf-45fb-fb3f-fffb0b7ecec0"
   },
   "outputs": [
    {
     "data": {
      "text/plain": [
       "array([[0, 1, 0, ..., 0, 0, 0]])"
      ]
     },
     "execution_count": 78,
     "metadata": {},
     "output_type": "execute_result"
    }
   ],
   "source": [
    "data_test"
   ]
  },
  {
   "cell_type": "code",
   "execution_count": null,
   "metadata": {
    "colab": {
     "base_uri": "https://localhost:8080/"
    },
    "execution": {
     "iopub.execute_input": "2022-03-25T01:07:44.582204Z",
     "iopub.status.busy": "2022-03-25T01:07:44.581327Z",
     "iopub.status.idle": "2022-03-25T01:07:44.757724Z",
     "shell.execute_reply": "2022-03-25T01:07:44.756404Z",
     "shell.execute_reply.started": "2022-03-25T01:07:44.582169Z"
    },
    "id": "e9_HZiCf815u",
    "outputId": "4cebbd27-bb0a-4922-e1c2-5108151cc35e"
   },
   "outputs": [
    {
     "name": "stdout",
     "output_type": "stream",
     "text": [
      "KNeighborsClassifier: [1]\n",
      "       Random forest: [2]\n",
      "           LinearSVC: [1]\n",
      "                 SVC: [1]\n"
     ]
    }
   ],
   "source": [
    "for estimator_name, estimator_object in estimators.items():\n",
    "    class_predicted = estimator_object.predict(data_test).tolist()\n",
    "    print(f'{estimator_name:>20}: {class_predicted}')"
   ]
  },
  {
   "cell_type": "code",
   "execution_count": null,
   "metadata": {
    "colab": {
     "base_uri": "https://localhost:8080/"
    },
    "execution": {
     "iopub.execute_input": "2022-03-25T01:07:52.913086Z",
     "iopub.status.busy": "2022-03-25T01:07:52.912210Z",
     "iopub.status.idle": "2022-03-25T01:07:52.994992Z",
     "shell.execute_reply": "2022-03-25T01:07:52.994094Z",
     "shell.execute_reply.started": "2022-03-25T01:07:52.913036Z"
    },
    "id": "3MgfJb1D815v",
    "outputId": "23fc2807-5efa-4c31-bf3a-8bac64759387"
   },
   "outputs": [
    {
     "data": {
      "text/plain": [
       "[[0.0, 0.6, 0.4, 0.0]]"
      ]
     },
     "execution_count": 80,
     "metadata": {},
     "output_type": "execute_result"
    }
   ],
   "source": [
    "knn.predict_proba(data_test).tolist()"
   ]
  },
  {
   "cell_type": "code",
   "execution_count": null,
   "metadata": {
    "colab": {
     "base_uri": "https://localhost:8080/"
    },
    "execution": {
     "iopub.execute_input": "2022-03-25T01:07:56.471877Z",
     "iopub.status.busy": "2022-03-25T01:07:56.471603Z",
     "iopub.status.idle": "2022-03-25T01:07:56.526193Z",
     "shell.execute_reply": "2022-03-25T01:07:56.525400Z",
     "shell.execute_reply.started": "2022-03-25T01:07:56.471846Z"
    },
    "id": "-Leu2vyP815x",
    "outputId": "d4cb46d1-03dd-4ec8-c313-e257d4b9d170"
   },
   "outputs": [
    {
     "data": {
      "text/plain": [
       "[[0.057011915352953524,\n",
       "  0.30661207803991514,\n",
       "  0.34247118914970354,\n",
       "  0.2939048174574279]]"
      ]
     },
     "execution_count": 81,
     "metadata": {},
     "output_type": "execute_result"
    }
   ],
   "source": [
    "rf.predict_proba(data_test).tolist()"
   ]
  },
  {
   "cell_type": "markdown",
   "metadata": {
    "id": "BP0eBPKCiSNx"
   },
   "source": [
    "# TO DO:\n",
    "# SCREENING: predictions for DrugBank Drugs"
   ]
  },
  {
   "cell_type": "code",
   "execution_count": null,
   "metadata": {
    "execution": {
     "iopub.status.busy": "2022-03-25T01:02:30.922781Z",
     "iopub.status.idle": "2022-03-25T01:02:30.923104Z",
     "shell.execute_reply": "2022-03-25T01:02:30.922958Z",
     "shell.execute_reply.started": "2022-03-25T01:02:30.922942Z"
    },
    "id": "2w-MPz2BZfea"
   },
   "outputs": [],
   "source": [
    "db=np.load('drugbank.npy', allow_pickle=True)"
   ]
  },
  {
   "cell_type": "code",
   "execution_count": null,
   "metadata": {
    "execution": {
     "iopub.status.busy": "2022-03-25T00:18:00.365596Z",
     "iopub.status.idle": "2022-03-25T00:18:00.365892Z",
     "shell.execute_reply": "2022-03-25T00:18:00.365760Z",
     "shell.execute_reply.started": "2022-03-25T00:18:00.365745Z"
    },
    "id": "pvUdDem7bsl4"
   },
   "outputs": [],
   "source": [
    "db_f=db[0:,0:2048]"
   ]
  },
  {
   "cell_type": "code",
   "execution_count": null,
   "metadata": {
    "execution": {
     "iopub.status.busy": "2022-03-25T00:18:00.366730Z",
     "iopub.status.idle": "2022-03-25T00:18:00.366980Z",
     "shell.execute_reply": "2022-03-25T00:18:00.366858Z",
     "shell.execute_reply.started": "2022-03-25T00:18:00.366845Z"
    },
    "id": "f9y2zqNTe1hX"
   },
   "outputs": [],
   "source": [
    "db_id=db[0:,2048]"
   ]
  },
  {
   "cell_type": "code",
   "execution_count": null,
   "metadata": {
    "execution": {
     "iopub.status.busy": "2022-03-25T00:18:00.367711Z",
     "iopub.status.idle": "2022-03-25T00:18:00.367963Z",
     "shell.execute_reply": "2022-03-25T00:18:00.367840Z",
     "shell.execute_reply.started": "2022-03-25T00:18:00.367827Z"
    },
    "id": "JMjPIxlFfHYD"
   },
   "outputs": [],
   "source": [
    "db_predicted = rf.predict(db_f)"
   ]
  },
  {
   "cell_type": "code",
   "execution_count": null,
   "metadata": {
    "execution": {
     "iopub.status.busy": "2022-03-25T00:18:00.368663Z",
     "iopub.status.idle": "2022-03-25T00:18:00.368909Z",
     "shell.execute_reply": "2022-03-25T00:18:00.368791Z",
     "shell.execute_reply.started": "2022-03-25T00:18:00.368778Z"
    },
    "id": "x4fcdB6hfHgS"
   },
   "outputs": [],
   "source": [
    "db_df = pd.DataFrame(db.predict, columns='predicted_class')\n",
    "db_labels = pd.DataFrame(db_id, columns='drug_name')"
   ]
  },
  {
   "cell_type": "code",
   "execution_count": null,
   "metadata": {
    "execution": {
     "iopub.status.busy": "2022-03-25T00:18:00.369852Z",
     "iopub.status.idle": "2022-03-25T00:18:00.370127Z",
     "shell.execute_reply": "2022-03-25T00:18:00.370000Z",
     "shell.execute_reply.started": "2022-03-25T00:18:00.369981Z"
    },
    "id": "fe1j0GfcfHrn"
   },
   "outputs": [],
   "source": [
    "db_pred = np.concat([db_df, db_labels], axis = 1)"
   ]
  },
  {
   "cell_type": "code",
   "execution_count": null,
   "metadata": {
    "execution": {
     "iopub.status.busy": "2022-03-25T00:18:00.371071Z",
     "iopub.status.idle": "2022-03-25T00:18:00.371347Z",
     "shell.execute_reply": "2022-03-25T00:18:00.371216Z",
     "shell.execute_reply.started": "2022-03-25T00:18:00.371196Z"
    },
    "id": "xgpdJFhMiHmd"
   },
   "outputs": [],
   "source": [
    "db_positive = db_pred.loc[db_pred.predicted_class == 1]"
   ]
  }
 ],
 "metadata": {
  "colab": {
   "collapsed_sections": [],
   "name": "5_ht2a_receptor_bioactivity_predictor.ipynb",
   "provenance": []
  },
  "kernelspec": {
   "display_name": "Python 3 (ipykernel)",
   "language": "python",
   "name": "python3"
  },
  "language_info": {
   "codemirror_mode": {
    "name": "ipython",
    "version": 3
   },
   "file_extension": ".py",
   "mimetype": "text/x-python",
   "name": "python",
   "nbconvert_exporter": "python",
   "pygments_lexer": "ipython3",
   "version": "3.7.12"
  }
 },
 "nbformat": 4,
 "nbformat_minor": 1
}
